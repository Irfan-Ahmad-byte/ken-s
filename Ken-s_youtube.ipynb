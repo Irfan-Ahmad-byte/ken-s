{
 "cells": [
  {
   "cell_type": "code",
   "execution_count": 1,
   "id": "08d35e65",
   "metadata": {
    "_cell_guid": "b1076dfc-b9ad-4769-8c92-a6c4dae69d19",
    "_uuid": "8f2839f25d086af736a60e9eeb907d3b93b6e0e5",
    "execution": {
     "iopub.execute_input": "2022-01-28T08:03:56.601938Z",
     "iopub.status.busy": "2022-01-28T08:03:56.600669Z",
     "iopub.status.idle": "2022-01-28T08:03:56.625318Z",
     "shell.execute_reply": "2022-01-28T08:03:56.626182Z",
     "shell.execute_reply.started": "2022-01-28T07:37:41.199595Z"
    },
    "papermill": {
     "duration": 0.044401,
     "end_time": "2022-01-28T08:03:56.626742",
     "exception": false,
     "start_time": "2022-01-28T08:03:56.582341",
     "status": "completed"
    },
    "tags": []
   },
   "outputs": [],
   "source": [
    "# This Python 3 environment comes with many helpful analytics libraries installed\n",
    "# It is defined by the kaggle/python Docker image: https://github.com/kaggle/docker-python\n",
    "# For example, here's several helpful packages to load\n",
    "\n",
    "import numpy as np # linear algebra\n",
    "import pandas as pd # data processing, CSV file I/O (e.g. pd.read_csv)\n",
    "\n",
    "# Input data files are available in the read-only \"../input/\" directory\n",
    "# For example, running this (by clicking run or pressing Shift+Enter) will list all files under the input directory\n",
    "\n",
    "import os\n",
    "# for dirname, _, filenames in os.walk('/kaggle/input'):\n",
    "#     for filename in filenames:\n",
    "#         print(os.path.join(dirname, filename))\n",
    "\n",
    "# You can write up to 20GB to the current directory (/kaggle/working/) that gets preserved as output when you create a version using \"Save & Run All\" \n",
    "# You can also write temporary files to /kaggle/temp/, but they won't be saved outside of the current session"
   ]
  },
  {
   "cell_type": "markdown",
   "id": "6c205670",
   "metadata": {},
   "source": [
    "# Ken Jee's YouTube Channel"
   ]
  },
  {
   "cell_type": "markdown",
   "id": "ed7d247b",
   "metadata": {
    "papermill": {
     "duration": 0.021159,
     "end_time": "2022-01-28T08:03:56.666988",
     "exception": false,
     "start_time": "2022-01-28T08:03:56.645829",
     "status": "completed"
    },
    "tags": []
   },
   "source": [
    "# Summary code \n",
    "In this notebook I explore Ken's YouTube data."
   ]
  },
  {
   "cell_type": "code",
   "execution_count": 2,
   "id": "9f1915bc",
   "metadata": {
    "execution": {
     "iopub.execute_input": "2022-01-28T08:03:56.706504Z",
     "iopub.status.busy": "2022-01-28T08:03:56.705623Z",
     "iopub.status.idle": "2022-01-28T08:03:56.708761Z",
     "shell.execute_reply": "2022-01-28T08:03:56.709648Z",
     "shell.execute_reply.started": "2022-01-28T07:37:42.118709Z"
    },
    "papermill": {
     "duration": 0.024873,
     "end_time": "2022-01-28T08:03:56.709894",
     "exception": false,
     "start_time": "2022-01-28T08:03:56.685021",
     "status": "completed"
    },
    "tags": []
   },
   "outputs": [],
   "source": [
    "import matplotlib.pyplot as plt\n",
    "import seaborn as sns"
   ]
  },
  {
   "cell_type": "code",
   "execution_count": 3,
   "id": "a13960c5",
   "metadata": {
    "execution": {
     "iopub.execute_input": "2022-01-28T08:03:56.744115Z",
     "iopub.status.busy": "2022-01-28T08:03:56.743420Z",
     "iopub.status.idle": "2022-01-28T08:03:57.615376Z",
     "shell.execute_reply": "2022-01-28T08:03:57.614808Z",
     "shell.execute_reply.started": "2022-01-28T07:37:42.940586Z"
    },
    "papermill": {
     "duration": 0.889179,
     "end_time": "2022-01-28T08:03:57.615519",
     "exception": false,
     "start_time": "2022-01-28T08:03:56.726340",
     "status": "completed"
    },
    "tags": []
   },
   "outputs": [],
   "source": [
    "#read in data \n",
    "df_vid = pd.read_csv('Aggregated_Metrics_By_Video.csv')\n",
    "df_vid_subs = pd.read_csv('Aggregated_Metrics_By_Country_And_Subscriber_Status.csv.zip')\n",
    "df_ts = pd.read_csv('Video_Performance_Over_Time.csv.zip')\n",
    "df_comments = pd.read_csv('All_Comments_Final.csv.zip')"
   ]
  },
  {
   "cell_type": "code",
   "execution_count": 4,
   "id": "e7a91c2c",
   "metadata": {
    "execution": {
     "iopub.execute_input": "2022-01-28T08:03:57.648002Z",
     "iopub.status.busy": "2022-01-28T08:03:57.647010Z",
     "iopub.status.idle": "2022-01-28T08:03:57.655111Z",
     "shell.execute_reply": "2022-01-28T08:03:57.655637Z",
     "shell.execute_reply.started": "2022-01-28T07:37:44.627520Z"
    },
    "papermill": {
     "duration": 0.02634,
     "end_time": "2022-01-28T08:03:57.655797",
     "exception": false,
     "start_time": "2022-01-28T08:03:57.629457",
     "status": "completed"
    },
    "tags": []
   },
   "outputs": [
    {
     "name": "stdout",
     "output_type": "stream",
     "text": [
      "Index(['Video', 'Video title', 'Video pub­lish time', 'Com­ments ad­ded',\n",
      "       'Shares', 'Dis­likes', 'Likes', 'Sub­scribers lost',\n",
      "       'Sub­scribers gained', 'RPM (USD)', 'CPM (USD)',\n",
      "       'Av­er­age per­cent­age viewed (%)', 'Av­er­age view dur­a­tion',\n",
      "       'Views', 'Watch time (hours)', 'Sub­scribers',\n",
      "       'Your es­tim­ated rev­en­ue (USD)', 'Im­pres­sions',\n",
      "       'Im­pres­sions click-through rate (%)'],\n",
      "      dtype='object')\n",
      "Index(['Video Title', 'External Video ID', 'Video Length', 'Thumbnail link',\n",
      "       'Country Code', 'Is Subscribed', 'Views', 'Video Likes Added',\n",
      "       'Video Dislikes Added', 'Video Likes Removed',\n",
      "       'User Subscriptions Added', 'User Subscriptions Removed',\n",
      "       'Average View Percentage', 'Average Watch Time', 'User Comments Added'],\n",
      "      dtype='object')\n",
      "Index(['Date', 'Video Title', 'External Video ID', 'Video Length',\n",
      "       'Thumbnail link', 'Views', 'Video Likes Added', 'Video Dislikes Added',\n",
      "       'Video Likes Removed', 'User Subscriptions Added',\n",
      "       'User Subscriptions Removed', 'Average View Percentage',\n",
      "       'Average Watch Time', 'User Comments Added'],\n",
      "      dtype='object')\n",
      "Index(['Comments', 'Comment_ID', 'Reply_Count', 'Like_Count', 'Date', 'VidId',\n",
      "       'user_ID'],\n",
      "      dtype='object')\n"
     ]
    }
   ],
   "source": [
    "#look at columns for each dataframe \n",
    "print(df_vid.columns)\n",
    "print(df_vid_subs.columns)\n",
    "print(df_ts.columns)\n",
    "print(df_comments.columns)\n"
   ]
  },
  {
   "cell_type": "markdown",
   "id": "ea29e8c1",
   "metadata": {},
   "source": [
    "### 1st row contains some aggregates, that may be confusing for now"
   ]
  },
  {
   "cell_type": "code",
   "execution_count": 5,
   "id": "df79c5be",
   "metadata": {},
   "outputs": [
    {
     "data": {
      "text/html": [
       "<div>\n",
       "<style scoped>\n",
       "    .dataframe tbody tr th:only-of-type {\n",
       "        vertical-align: middle;\n",
       "    }\n",
       "\n",
       "    .dataframe tbody tr th {\n",
       "        vertical-align: top;\n",
       "    }\n",
       "\n",
       "    .dataframe thead th {\n",
       "        text-align: right;\n",
       "    }\n",
       "</style>\n",
       "<table border=\"1\" class=\"dataframe\">\n",
       "  <thead>\n",
       "    <tr style=\"text-align: right;\">\n",
       "      <th></th>\n",
       "      <th>Video</th>\n",
       "      <th>Video title</th>\n",
       "      <th>Video pub­lish time</th>\n",
       "      <th>Com­ments ad­ded</th>\n",
       "      <th>Shares</th>\n",
       "      <th>Dis­likes</th>\n",
       "      <th>Likes</th>\n",
       "      <th>Sub­scribers lost</th>\n",
       "      <th>Sub­scribers gained</th>\n",
       "      <th>RPM (USD)</th>\n",
       "      <th>CPM (USD)</th>\n",
       "      <th>Av­er­age per­cent­age viewed (%)</th>\n",
       "      <th>Av­er­age view dur­a­tion</th>\n",
       "      <th>Views</th>\n",
       "      <th>Watch time (hours)</th>\n",
       "      <th>Sub­scribers</th>\n",
       "      <th>Your es­tim­ated rev­en­ue (USD)</th>\n",
       "      <th>Im­pres­sions</th>\n",
       "      <th>Im­pres­sions click-through rate (%)</th>\n",
       "    </tr>\n",
       "  </thead>\n",
       "  <tbody>\n",
       "    <tr>\n",
       "      <th>1</th>\n",
       "      <td>4OZip0cgOho</td>\n",
       "      <td>How I Would Learn Data Science (If I Had to St...</td>\n",
       "      <td>May 8, 2020</td>\n",
       "      <td>907</td>\n",
       "      <td>9583</td>\n",
       "      <td>942</td>\n",
       "      <td>46903</td>\n",
       "      <td>451</td>\n",
       "      <td>46904</td>\n",
       "      <td>6.353</td>\n",
       "      <td>12.835</td>\n",
       "      <td>36.65</td>\n",
       "      <td>0:03:09</td>\n",
       "      <td>1253559</td>\n",
       "      <td>65850.7042</td>\n",
       "      <td>46453</td>\n",
       "      <td>7959.533</td>\n",
       "      <td>26498799</td>\n",
       "      <td>3.14</td>\n",
       "    </tr>\n",
       "    <tr>\n",
       "      <th>2</th>\n",
       "      <td>78LjdAAw0wA</td>\n",
       "      <td>100K Channel Update + AMA Stream!</td>\n",
       "      <td>Nov 12, 2020</td>\n",
       "      <td>412</td>\n",
       "      <td>4</td>\n",
       "      <td>4</td>\n",
       "      <td>130</td>\n",
       "      <td>15</td>\n",
       "      <td>12</td>\n",
       "      <td>2.668</td>\n",
       "      <td>6.259</td>\n",
       "      <td>6.26</td>\n",
       "      <td>0:05:14</td>\n",
       "      <td>2291</td>\n",
       "      <td>200.2966</td>\n",
       "      <td>-3</td>\n",
       "      <td>6.113</td>\n",
       "      <td>188318</td>\n",
       "      <td>0.72</td>\n",
       "    </tr>\n",
       "  </tbody>\n",
       "</table>\n",
       "</div>"
      ],
      "text/plain": [
       "         Video                                        Video title  \\\n",
       "1  4OZip0cgOho  How I Would Learn Data Science (If I Had to St...   \n",
       "2  78LjdAAw0wA                  100K Channel Update + AMA Stream!   \n",
       "\n",
       "  Video pub­lish time  Com­ments ad­ded  Shares  Dis­likes  Likes  \\\n",
       "1         May 8, 2020               907    9583        942  46903   \n",
       "2        Nov 12, 2020               412       4          4    130   \n",
       "\n",
       "   Sub­scribers lost  Sub­scribers gained  RPM (USD)  CPM (USD)  \\\n",
       "1                451                46904      6.353     12.835   \n",
       "2                 15                   12      2.668      6.259   \n",
       "\n",
       "   Av­er­age per­cent­age viewed (%) Av­er­age view dur­a­tion    Views  \\\n",
       "1                              36.65                   0:03:09  1253559   \n",
       "2                               6.26                   0:05:14     2291   \n",
       "\n",
       "   Watch time (hours)  Sub­scribers  Your es­tim­ated rev­en­ue (USD)  \\\n",
       "1          65850.7042         46453                          7959.533   \n",
       "2            200.2966            -3                             6.113   \n",
       "\n",
       "   Im­pres­sions  Im­pres­sions click-through rate (%)  \n",
       "1       26498799                                  3.14  \n",
       "2         188318                                  0.72  "
      ]
     },
     "execution_count": 5,
     "metadata": {},
     "output_type": "execute_result"
    }
   ],
   "source": [
    "df_vid = df_vid[1:]\n",
    "df_vid.head(2)"
   ]
  },
  {
   "cell_type": "code",
   "execution_count": 6,
   "id": "c8458f95",
   "metadata": {},
   "outputs": [
    {
     "data": {
      "text/plain": [
       "Video                                    object\n",
       "Video title                              object\n",
       "Video pub­lish time                      object\n",
       "Com­ments ad­ded                          int64\n",
       "Shares                                    int64\n",
       "Dis­likes                                 int64\n",
       "Likes                                     int64\n",
       "Sub­scribers lost                         int64\n",
       "Sub­scribers gained                       int64\n",
       "RPM (USD)                               float64\n",
       "CPM (USD)                               float64\n",
       "Av­er­age per­cent­age viewed (%)       float64\n",
       "Av­er­age view dur­a­tion                object\n",
       "Views                                     int64\n",
       "Watch time (hours)                      float64\n",
       "Sub­scribers                              int64\n",
       "Your es­tim­ated rev­en­ue (USD)        float64\n",
       "Im­pres­sions                             int64\n",
       "Im­pres­sions click-through rate (%)    float64\n",
       "dtype: object"
      ]
     },
     "execution_count": 6,
     "metadata": {},
     "output_type": "execute_result"
    }
   ],
   "source": [
    "df_vid.dtypes"
   ]
  },
  {
   "cell_type": "markdown",
   "id": "32997ee9",
   "metadata": {},
   "source": [
    "### Let's rename columns to some short and suitable names"
   ]
  },
  {
   "cell_type": "code",
   "execution_count": 7,
   "id": "2d9f2b7b",
   "metadata": {},
   "outputs": [],
   "source": [
    "df_vid = df_vid.rename(columns={'Video':'id', 'Video title':'title', 'Video pub­lish time':'date', \n",
    "                        'Com­ments ad­ded':'comments','Shares':'shares', 'Dis­likes':'dislikes',\n",
    "                        'Likes':'likes','Sub­scribers lost':'lost_subs',\n",
    "                        'Sub­scribers gained':'gained_subs','RPM (USD)':'rpm', 'CPM (USD)':'cpm',\n",
    "                        'Av­er­age per­cent­age viewed (%)':'average_view_pct',\n",
    "                        'Av­er­age view dur­a­tion':'average_view_time','Views':'views',\n",
    "                        'Watch time (hours)':'watch_time','Sub­scribers':'subscribers',\n",
    "                        'Your es­tim­ated rev­en­ue (USD)':'estimated_revenue','Im­pres­sions':'impressions',\n",
    "                        'Im­pres­sions click-through rate (%)':'CTRate'})"
   ]
  },
  {
   "cell_type": "code",
   "execution_count": 8,
   "id": "b418b45c",
   "metadata": {},
   "outputs": [
    {
     "data": {
      "text/plain": [
       "Index(['id', 'title', 'date', 'comments', 'shares', 'dislikes', 'likes',\n",
       "       'lost_subs', 'gained_subs', 'rpm', 'cpm', 'average_view_pct',\n",
       "       'average_view_time', 'views', 'watch_time', 'subscribers',\n",
       "       'estimated_revenue', 'impressions', 'CTRate'],\n",
       "      dtype='object')"
      ]
     },
     "execution_count": 8,
     "metadata": {},
     "output_type": "execute_result"
    }
   ],
   "source": [
    "videos = df_vid\n",
    "videos.columns"
   ]
  },
  {
   "cell_type": "markdown",
   "id": "a2034aac",
   "metadata": {},
   "source": [
    "# Problem Set / Questions to be Answered"
   ]
  },
  {
   "cell_type": "markdown",
   "id": "246350d9",
   "metadata": {},
   "source": [
    "- What topics get the most viewership?\n",
    "- What do are people asking for in the comments?\n",
    "- What impacts watch time and click through rate?\n",
    "- Can we predict if a title will be clickable? \n",
    "- What thumbnails are most appealing (thumbnail data available in df_agg)\n",
    "- What is different about my \"viral\" videos and normal videos\n",
    "- Who is the core audience of my channel?"
   ]
  },
  {
   "cell_type": "markdown",
   "id": "9d99fd50",
   "metadata": {},
   "source": [
    "### What 'Aggregated_Metrics_By_Videos.csv' data set tells?"
   ]
  },
  {
   "cell_type": "code",
   "execution_count": 9,
   "id": "c9886501",
   "metadata": {},
   "outputs": [
    {
     "data": {
      "text/html": [
       "<div>\n",
       "<style scoped>\n",
       "    .dataframe tbody tr th:only-of-type {\n",
       "        vertical-align: middle;\n",
       "    }\n",
       "\n",
       "    .dataframe tbody tr th {\n",
       "        vertical-align: top;\n",
       "    }\n",
       "\n",
       "    .dataframe thead th {\n",
       "        text-align: right;\n",
       "    }\n",
       "</style>\n",
       "<table border=\"1\" class=\"dataframe\">\n",
       "  <thead>\n",
       "    <tr style=\"text-align: right;\">\n",
       "      <th></th>\n",
       "      <th>id</th>\n",
       "      <th>title</th>\n",
       "      <th>date</th>\n",
       "      <th>comments</th>\n",
       "      <th>shares</th>\n",
       "      <th>dislikes</th>\n",
       "      <th>likes</th>\n",
       "      <th>lost_subs</th>\n",
       "      <th>gained_subs</th>\n",
       "      <th>rpm</th>\n",
       "      <th>cpm</th>\n",
       "      <th>average_view_pct</th>\n",
       "      <th>average_view_time</th>\n",
       "      <th>views</th>\n",
       "      <th>watch_time</th>\n",
       "      <th>subscribers</th>\n",
       "      <th>estimated_revenue</th>\n",
       "      <th>impressions</th>\n",
       "      <th>CTRate</th>\n",
       "    </tr>\n",
       "  </thead>\n",
       "  <tbody>\n",
       "    <tr>\n",
       "      <th>1</th>\n",
       "      <td>4OZip0cgOho</td>\n",
       "      <td>How I Would Learn Data Science (If I Had to St...</td>\n",
       "      <td>May 8, 2020</td>\n",
       "      <td>907</td>\n",
       "      <td>9583</td>\n",
       "      <td>942</td>\n",
       "      <td>46903</td>\n",
       "      <td>451</td>\n",
       "      <td>46904</td>\n",
       "      <td>6.353</td>\n",
       "      <td>12.835</td>\n",
       "      <td>36.65</td>\n",
       "      <td>0:03:09</td>\n",
       "      <td>1253559</td>\n",
       "      <td>65850.7042</td>\n",
       "      <td>46453</td>\n",
       "      <td>7959.533</td>\n",
       "      <td>26498799</td>\n",
       "      <td>3.14</td>\n",
       "    </tr>\n",
       "    <tr>\n",
       "      <th>2</th>\n",
       "      <td>78LjdAAw0wA</td>\n",
       "      <td>100K Channel Update + AMA Stream!</td>\n",
       "      <td>Nov 12, 2020</td>\n",
       "      <td>412</td>\n",
       "      <td>4</td>\n",
       "      <td>4</td>\n",
       "      <td>130</td>\n",
       "      <td>15</td>\n",
       "      <td>12</td>\n",
       "      <td>2.668</td>\n",
       "      <td>6.259</td>\n",
       "      <td>6.26</td>\n",
       "      <td>0:05:14</td>\n",
       "      <td>2291</td>\n",
       "      <td>200.2966</td>\n",
       "      <td>-3</td>\n",
       "      <td>6.113</td>\n",
       "      <td>188318</td>\n",
       "      <td>0.72</td>\n",
       "    </tr>\n",
       "  </tbody>\n",
       "</table>\n",
       "</div>"
      ],
      "text/plain": [
       "            id                                              title  \\\n",
       "1  4OZip0cgOho  How I Would Learn Data Science (If I Had to St...   \n",
       "2  78LjdAAw0wA                  100K Channel Update + AMA Stream!   \n",
       "\n",
       "           date  comments  shares  dislikes  likes  lost_subs  gained_subs  \\\n",
       "1   May 8, 2020       907    9583       942  46903        451        46904   \n",
       "2  Nov 12, 2020       412       4         4    130         15           12   \n",
       "\n",
       "     rpm     cpm  average_view_pct average_view_time    views  watch_time  \\\n",
       "1  6.353  12.835             36.65           0:03:09  1253559  65850.7042   \n",
       "2  2.668   6.259              6.26           0:05:14     2291    200.2966   \n",
       "\n",
       "   subscribers  estimated_revenue  impressions  CTRate  \n",
       "1        46453           7959.533     26498799    3.14  \n",
       "2           -3              6.113       188318    0.72  "
      ]
     },
     "execution_count": 9,
     "metadata": {},
     "output_type": "execute_result"
    }
   ],
   "source": [
    "videos.head(2)"
   ]
  },
  {
   "cell_type": "markdown",
   "id": "4eb972d5",
   "metadata": {},
   "source": [
    "the data set tells for every video:\n",
    "- comments it gained\n",
    "- how much it was shared\n",
    "- how much it was liked and disliked\n",
    "- subscribers\n",
    "- view stats\n",
    "- click-through rate"
   ]
  },
  {
   "cell_type": "markdown",
   "id": "33d332f2",
   "metadata": {},
   "source": [
    "How many videos?"
   ]
  },
  {
   "cell_type": "code",
   "execution_count": 10,
   "id": "a3ee005a",
   "metadata": {},
   "outputs": [
    {
     "data": {
      "text/plain": [
       "(223, 19)"
      ]
     },
     "execution_count": 10,
     "metadata": {},
     "output_type": "execute_result"
    }
   ],
   "source": [
    "videos.shape"
   ]
  },
  {
   "cell_type": "markdown",
   "id": "4361107d",
   "metadata": {},
   "source": [
    "## Q1- What topics get the most viewership?"
   ]
  },
  {
   "cell_type": "markdown",
   "id": "f1bbfd9f",
   "metadata": {},
   "source": [
    "# Making Observations"
   ]
  },
  {
   "cell_type": "markdown",
   "id": "bbcd961b",
   "metadata": {},
   "source": [
    "the data set contains some vids with -ve subscribers, lets filter them out"
   ]
  },
  {
   "cell_type": "code",
   "execution_count": 11,
   "id": "3ea51cb6",
   "metadata": {},
   "outputs": [
    {
     "data": {
      "text/plain": [
       "(216, 19)"
      ]
     },
     "execution_count": 11,
     "metadata": {},
     "output_type": "execute_result"
    }
   ],
   "source": [
    "sub_videos = videos[videos['subscribers']>0]\n",
    "sub_videos.shape"
   ]
  },
  {
   "cell_type": "code",
   "execution_count": 12,
   "id": "5dbbe11f",
   "metadata": {},
   "outputs": [
    {
     "data": {
      "text/plain": [
       "96.8609865470852"
      ]
     },
     "execution_count": 12,
     "metadata": {},
     "output_type": "execute_result"
    }
   ],
   "source": [
    "(216/223)*100"
   ]
  },
  {
   "cell_type": "markdown",
   "id": "fe6e9a24",
   "metadata": {},
   "source": [
    "96.9% videos did gain subscribers."
   ]
  },
  {
   "cell_type": "code",
   "execution_count": 13,
   "id": "8a2b9a48",
   "metadata": {},
   "outputs": [
    {
     "data": {
      "text/html": [
       "<div>\n",
       "<style scoped>\n",
       "    .dataframe tbody tr th:only-of-type {\n",
       "        vertical-align: middle;\n",
       "    }\n",
       "\n",
       "    .dataframe tbody tr th {\n",
       "        vertical-align: top;\n",
       "    }\n",
       "\n",
       "    .dataframe thead th {\n",
       "        text-align: right;\n",
       "    }\n",
       "</style>\n",
       "<table border=\"1\" class=\"dataframe\">\n",
       "  <thead>\n",
       "    <tr style=\"text-align: right;\">\n",
       "      <th></th>\n",
       "      <th>comments</th>\n",
       "      <th>shares</th>\n",
       "      <th>dislikes</th>\n",
       "      <th>likes</th>\n",
       "      <th>lost_subs</th>\n",
       "      <th>gained_subs</th>\n",
       "      <th>rpm</th>\n",
       "      <th>cpm</th>\n",
       "      <th>average_view_pct</th>\n",
       "      <th>views</th>\n",
       "      <th>watch_time</th>\n",
       "      <th>subscribers</th>\n",
       "      <th>estimated_revenue</th>\n",
       "      <th>impressions</th>\n",
       "      <th>CTRate</th>\n",
       "    </tr>\n",
       "  </thead>\n",
       "  <tbody>\n",
       "    <tr>\n",
       "      <th>count</th>\n",
       "      <td>216.000000</td>\n",
       "      <td>216.000000</td>\n",
       "      <td>216.000000</td>\n",
       "      <td>216.000000</td>\n",
       "      <td>216.000000</td>\n",
       "      <td>216.000000</td>\n",
       "      <td>216.000000</td>\n",
       "      <td>215.000000</td>\n",
       "      <td>216.000000</td>\n",
       "      <td>2.160000e+02</td>\n",
       "      <td>216.000000</td>\n",
       "      <td>216.000000</td>\n",
       "      <td>216.000000</td>\n",
       "      <td>2.160000e+02</td>\n",
       "      <td>216.000000</td>\n",
       "    </tr>\n",
       "    <tr>\n",
       "      <th>mean</th>\n",
       "      <td>61.601852</td>\n",
       "      <td>183.240741</td>\n",
       "      <td>17.967593</td>\n",
       "      <td>1038.115741</td>\n",
       "      <td>13.333333</td>\n",
       "      <td>606.129630</td>\n",
       "      <td>4.503509</td>\n",
       "      <td>11.533986</td>\n",
       "      <td>34.350046</td>\n",
       "      <td>2.569858e+04</td>\n",
       "      <td>1466.255796</td>\n",
       "      <td>592.796296</td>\n",
       "      <td>134.410125</td>\n",
       "      <td>4.639384e+05</td>\n",
       "      <td>3.095324</td>\n",
       "    </tr>\n",
       "    <tr>\n",
       "      <th>std</th>\n",
       "      <td>87.874322</td>\n",
       "      <td>744.525732</td>\n",
       "      <td>70.651216</td>\n",
       "      <td>3631.886949</td>\n",
       "      <td>33.720879</td>\n",
       "      <td>3353.954989</td>\n",
       "      <td>1.763560</td>\n",
       "      <td>3.321150</td>\n",
       "      <td>14.375554</td>\n",
       "      <td>9.096247e+04</td>\n",
       "      <td>4876.113005</td>\n",
       "      <td>3321.804153</td>\n",
       "      <td>562.989055</td>\n",
       "      <td>1.893355e+06</td>\n",
       "      <td>1.567778</td>\n",
       "    </tr>\n",
       "    <tr>\n",
       "      <th>min</th>\n",
       "      <td>2.000000</td>\n",
       "      <td>0.000000</td>\n",
       "      <td>0.000000</td>\n",
       "      <td>18.000000</td>\n",
       "      <td>0.000000</td>\n",
       "      <td>2.000000</td>\n",
       "      <td>0.000000</td>\n",
       "      <td>5.439000</td>\n",
       "      <td>7.320000</td>\n",
       "      <td>4.550000e+02</td>\n",
       "      <td>6.308900</td>\n",
       "      <td>1.000000</td>\n",
       "      <td>0.000000</td>\n",
       "      <td>1.863500e+04</td>\n",
       "      <td>0.490000</td>\n",
       "    </tr>\n",
       "    <tr>\n",
       "      <th>25%</th>\n",
       "      <td>19.000000</td>\n",
       "      <td>22.000000</td>\n",
       "      <td>1.000000</td>\n",
       "      <td>168.000000</td>\n",
       "      <td>2.000000</td>\n",
       "      <td>29.000000</td>\n",
       "      <td>3.320750</td>\n",
       "      <td>9.481000</td>\n",
       "      <td>23.975000</td>\n",
       "      <td>4.044500e+03</td>\n",
       "      <td>187.472575</td>\n",
       "      <td>22.750000</td>\n",
       "      <td>13.063250</td>\n",
       "      <td>9.947100e+04</td>\n",
       "      <td>1.965000</td>\n",
       "    </tr>\n",
       "    <tr>\n",
       "      <th>50%</th>\n",
       "      <td>37.000000</td>\n",
       "      <td>48.000000</td>\n",
       "      <td>4.000000</td>\n",
       "      <td>358.500000</td>\n",
       "      <td>7.000000</td>\n",
       "      <td>76.500000</td>\n",
       "      <td>4.348500</td>\n",
       "      <td>11.302000</td>\n",
       "      <td>35.500000</td>\n",
       "      <td>8.671500e+03</td>\n",
       "      <td>420.520800</td>\n",
       "      <td>66.000000</td>\n",
       "      <td>34.363000</td>\n",
       "      <td>1.542310e+05</td>\n",
       "      <td>2.905000</td>\n",
       "    </tr>\n",
       "    <tr>\n",
       "      <th>75%</th>\n",
       "      <td>65.250000</td>\n",
       "      <td>115.500000</td>\n",
       "      <td>11.000000</td>\n",
       "      <td>722.500000</td>\n",
       "      <td>14.000000</td>\n",
       "      <td>260.500000</td>\n",
       "      <td>5.427500</td>\n",
       "      <td>12.974500</td>\n",
       "      <td>43.462500</td>\n",
       "      <td>1.852425e+04</td>\n",
       "      <td>1157.035775</td>\n",
       "      <td>243.500000</td>\n",
       "      <td>97.246500</td>\n",
       "      <td>3.005855e+05</td>\n",
       "      <td>3.992500</td>\n",
       "    </tr>\n",
       "    <tr>\n",
       "      <th>max</th>\n",
       "      <td>907.000000</td>\n",
       "      <td>9583.000000</td>\n",
       "      <td>942.000000</td>\n",
       "      <td>46903.000000</td>\n",
       "      <td>451.000000</td>\n",
       "      <td>46904.000000</td>\n",
       "      <td>10.387000</td>\n",
       "      <td>37.786000</td>\n",
       "      <td>75.620000</td>\n",
       "      <td>1.253559e+06</td>\n",
       "      <td>65850.704200</td>\n",
       "      <td>46453.000000</td>\n",
       "      <td>7959.533000</td>\n",
       "      <td>2.649880e+07</td>\n",
       "      <td>8.620000</td>\n",
       "    </tr>\n",
       "  </tbody>\n",
       "</table>\n",
       "</div>"
      ],
      "text/plain": [
       "         comments       shares    dislikes         likes   lost_subs  \\\n",
       "count  216.000000   216.000000  216.000000    216.000000  216.000000   \n",
       "mean    61.601852   183.240741   17.967593   1038.115741   13.333333   \n",
       "std     87.874322   744.525732   70.651216   3631.886949   33.720879   \n",
       "min      2.000000     0.000000    0.000000     18.000000    0.000000   \n",
       "25%     19.000000    22.000000    1.000000    168.000000    2.000000   \n",
       "50%     37.000000    48.000000    4.000000    358.500000    7.000000   \n",
       "75%     65.250000   115.500000   11.000000    722.500000   14.000000   \n",
       "max    907.000000  9583.000000  942.000000  46903.000000  451.000000   \n",
       "\n",
       "        gained_subs         rpm         cpm  average_view_pct         views  \\\n",
       "count    216.000000  216.000000  215.000000        216.000000  2.160000e+02   \n",
       "mean     606.129630    4.503509   11.533986         34.350046  2.569858e+04   \n",
       "std     3353.954989    1.763560    3.321150         14.375554  9.096247e+04   \n",
       "min        2.000000    0.000000    5.439000          7.320000  4.550000e+02   \n",
       "25%       29.000000    3.320750    9.481000         23.975000  4.044500e+03   \n",
       "50%       76.500000    4.348500   11.302000         35.500000  8.671500e+03   \n",
       "75%      260.500000    5.427500   12.974500         43.462500  1.852425e+04   \n",
       "max    46904.000000   10.387000   37.786000         75.620000  1.253559e+06   \n",
       "\n",
       "         watch_time   subscribers  estimated_revenue   impressions      CTRate  \n",
       "count    216.000000    216.000000         216.000000  2.160000e+02  216.000000  \n",
       "mean    1466.255796    592.796296         134.410125  4.639384e+05    3.095324  \n",
       "std     4876.113005   3321.804153         562.989055  1.893355e+06    1.567778  \n",
       "min        6.308900      1.000000           0.000000  1.863500e+04    0.490000  \n",
       "25%      187.472575     22.750000          13.063250  9.947100e+04    1.965000  \n",
       "50%      420.520800     66.000000          34.363000  1.542310e+05    2.905000  \n",
       "75%     1157.035775    243.500000          97.246500  3.005855e+05    3.992500  \n",
       "max    65850.704200  46453.000000        7959.533000  2.649880e+07    8.620000  "
      ]
     },
     "execution_count": 13,
     "metadata": {},
     "output_type": "execute_result"
    }
   ],
   "source": [
    "sub_videos = sub_videos.sort_values(by='views')\n",
    "sub_videos.describe()"
   ]
  },
  {
   "cell_type": "markdown",
   "id": "1b49ffe1",
   "metadata": {},
   "source": [
    "75th percentile is 43.5 in avg view %age, 1.852425e+04 in views, 1157.035775 in watch_time"
   ]
  },
  {
   "cell_type": "code",
   "execution_count": 14,
   "id": "21558a4a",
   "metadata": {},
   "outputs": [
    {
     "data": {
      "text/plain": [
       "(54, 19)"
      ]
     },
     "execution_count": 14,
     "metadata": {},
     "output_type": "execute_result"
    }
   ],
   "source": [
    "sub_videos[sub_videos['views']>18524].shape"
   ]
  },
  {
   "cell_type": "markdown",
   "id": "01bc7c97",
   "metadata": {},
   "source": [
    "out of 223 videos 59 lie in 75th percentile, and 53 had more than 18.5k views"
   ]
  },
  {
   "cell_type": "code",
   "execution_count": 15,
   "id": "4abf66ec",
   "metadata": {},
   "outputs": [
    {
     "data": {
      "text/plain": [
       "46903"
      ]
     },
     "execution_count": 15,
     "metadata": {},
     "output_type": "execute_result"
    }
   ],
   "source": [
    "sub_videos[sub_videos['views']>18524]['likes'].max()"
   ]
  },
  {
   "cell_type": "code",
   "execution_count": 16,
   "id": "ce9632aa",
   "metadata": {},
   "outputs": [],
   "source": [
    "from collections import defaultdict"
   ]
  },
  {
   "cell_type": "code",
   "execution_count": 17,
   "id": "ea00cbff",
   "metadata": {},
   "outputs": [
    {
     "name": "stdout",
     "output_type": "stream",
     "text": [
      "to 11\n",
      "a 14\n",
      "Data 58\n",
      "Science 43\n",
      "- 11\n",
      "How 17\n",
      "I 13\n"
     ]
    }
   ],
   "source": [
    "words = defaultdict(int)\n",
    " \n",
    "# memoizing count\n",
    "for sub in sub_videos[sub_videos['views']>18000]['title']:\n",
    "    for wrd in sub.split():\n",
    "        words[wrd] += 1\n",
    " \n",
    "# getting max frequency\n",
    "for i in words:\n",
    "    if words[i] >10:\n",
    "        print(i, words[i])"
   ]
  },
  {
   "cell_type": "markdown",
   "id": "fd236bbf",
   "metadata": {},
   "source": [
    "Let's see what the release dates of most viewed videos tell?"
   ]
  },
  {
   "cell_type": "code",
   "execution_count": 18,
   "id": "aeaff80b",
   "metadata": {},
   "outputs": [],
   "source": [
    "sub_videos['date'] = pd.to_datetime(sub_videos['date'])"
   ]
  },
  {
   "cell_type": "code",
   "execution_count": 19,
   "id": "f72d68c0",
   "metadata": {},
   "outputs": [
    {
     "data": {
      "text/plain": [
       "Timestamp('2018-11-14 00:00:00')"
      ]
     },
     "execution_count": 19,
     "metadata": {},
     "output_type": "execute_result"
    }
   ],
   "source": [
    "sub_videos[sub_videos['views']>18000]['date'].min()"
   ]
  },
  {
   "cell_type": "code",
   "execution_count": 20,
   "id": "936f33ca",
   "metadata": {},
   "outputs": [
    {
     "data": {
      "text/plain": [
       "Timestamp('2021-12-27 00:00:00')"
      ]
     },
     "execution_count": 20,
     "metadata": {},
     "output_type": "execute_result"
    }
   ],
   "source": [
    "sub_videos[sub_videos['views']>18000]['date'].max()"
   ]
  },
  {
   "cell_type": "code",
   "execution_count": 21,
   "id": "1b271a60",
   "metadata": {},
   "outputs": [
    {
     "data": {
      "text/plain": [
       "143"
      ]
     },
     "execution_count": 21,
     "metadata": {},
     "output_type": "execute_result"
    }
   ],
   "source": [
    "DS_vids = sub_videos[sub_videos['title'].str.contains('Data Science')]\n",
    "DS_vids['title'].count()"
   ]
  },
  {
   "cell_type": "markdown",
   "id": "5f022b24",
   "metadata": {},
   "source": [
    "From November 2018 to December 2021 there are 143 videos on Data Science. About 64% videos are on Data Science, in total data set."
   ]
  },
  {
   "cell_type": "code",
   "execution_count": 22,
   "id": "a97efbb5",
   "metadata": {},
   "outputs": [
    {
     "data": {
      "text/plain": [
       "44"
      ]
     },
     "execution_count": 22,
     "metadata": {},
     "output_type": "execute_result"
    }
   ],
   "source": [
    "DS_vids[DS_vids['views']>18000]['title'].count()"
   ]
  },
  {
   "cell_type": "markdown",
   "id": "c74ae8f1",
   "metadata": {},
   "source": [
    "out of 143 Data Science videos, 44 had more than 18000 views."
   ]
  },
  {
   "cell_type": "markdown",
   "id": "a8e2d1a7",
   "metadata": {},
   "source": [
    "Let's see what is the date range for these videos"
   ]
  },
  {
   "cell_type": "code",
   "execution_count": 23,
   "id": "d675764d",
   "metadata": {},
   "outputs": [
    {
     "data": {
      "text/plain": [
       "Timestamp('2018-11-14 00:00:00')"
      ]
     },
     "execution_count": 23,
     "metadata": {},
     "output_type": "execute_result"
    }
   ],
   "source": [
    "DS_vids[DS_vids['views']>18000]['date'].min()"
   ]
  },
  {
   "cell_type": "code",
   "execution_count": 24,
   "id": "4c2a485b",
   "metadata": {},
   "outputs": [],
   "source": [
    "DS_vids_copy = DS_vids.copy()\n",
    "DS_vids_copy['date'] = DS_vids_copy['date'].dt.to_period('Q')\n",
    "DS_vids_copy = DS_vids_copy.groupby('date')"
   ]
  },
  {
   "cell_type": "code",
   "execution_count": 25,
   "id": "f1337f45",
   "metadata": {},
   "outputs": [
    {
     "data": {
      "text/html": [
       "<div>\n",
       "<style scoped>\n",
       "    .dataframe tbody tr th:only-of-type {\n",
       "        vertical-align: middle;\n",
       "    }\n",
       "\n",
       "    .dataframe tbody tr th {\n",
       "        vertical-align: top;\n",
       "    }\n",
       "\n",
       "    .dataframe thead th {\n",
       "        text-align: right;\n",
       "    }\n",
       "</style>\n",
       "<table border=\"1\" class=\"dataframe\">\n",
       "  <thead>\n",
       "    <tr style=\"text-align: right;\">\n",
       "      <th></th>\n",
       "      <th>id</th>\n",
       "      <th>title</th>\n",
       "      <th>comments</th>\n",
       "      <th>shares</th>\n",
       "      <th>dislikes</th>\n",
       "      <th>likes</th>\n",
       "      <th>lost_subs</th>\n",
       "      <th>gained_subs</th>\n",
       "      <th>rpm</th>\n",
       "      <th>cpm</th>\n",
       "      <th>average_view_pct</th>\n",
       "      <th>average_view_time</th>\n",
       "      <th>views</th>\n",
       "      <th>watch_time</th>\n",
       "      <th>subscribers</th>\n",
       "      <th>estimated_revenue</th>\n",
       "      <th>impressions</th>\n",
       "      <th>CTRate</th>\n",
       "    </tr>\n",
       "    <tr>\n",
       "      <th>date</th>\n",
       "      <th></th>\n",
       "      <th></th>\n",
       "      <th></th>\n",
       "      <th></th>\n",
       "      <th></th>\n",
       "      <th></th>\n",
       "      <th></th>\n",
       "      <th></th>\n",
       "      <th></th>\n",
       "      <th></th>\n",
       "      <th></th>\n",
       "      <th></th>\n",
       "      <th></th>\n",
       "      <th></th>\n",
       "      <th></th>\n",
       "      <th></th>\n",
       "      <th></th>\n",
       "      <th></th>\n",
       "    </tr>\n",
       "  </thead>\n",
       "  <tbody>\n",
       "    <tr>\n",
       "      <th>2018Q4</th>\n",
       "      <td>2</td>\n",
       "      <td>2</td>\n",
       "      <td>2</td>\n",
       "      <td>2</td>\n",
       "      <td>2</td>\n",
       "      <td>2</td>\n",
       "      <td>2</td>\n",
       "      <td>2</td>\n",
       "      <td>2</td>\n",
       "      <td>2</td>\n",
       "      <td>2</td>\n",
       "      <td>2</td>\n",
       "      <td>2</td>\n",
       "      <td>2</td>\n",
       "      <td>2</td>\n",
       "      <td>2</td>\n",
       "      <td>2</td>\n",
       "      <td>2</td>\n",
       "    </tr>\n",
       "    <tr>\n",
       "      <th>2019Q1</th>\n",
       "      <td>7</td>\n",
       "      <td>7</td>\n",
       "      <td>7</td>\n",
       "      <td>7</td>\n",
       "      <td>7</td>\n",
       "      <td>7</td>\n",
       "      <td>7</td>\n",
       "      <td>7</td>\n",
       "      <td>7</td>\n",
       "      <td>7</td>\n",
       "      <td>7</td>\n",
       "      <td>7</td>\n",
       "      <td>7</td>\n",
       "      <td>7</td>\n",
       "      <td>7</td>\n",
       "      <td>7</td>\n",
       "      <td>7</td>\n",
       "      <td>7</td>\n",
       "    </tr>\n",
       "    <tr>\n",
       "      <th>2019Q2</th>\n",
       "      <td>6</td>\n",
       "      <td>6</td>\n",
       "      <td>6</td>\n",
       "      <td>6</td>\n",
       "      <td>6</td>\n",
       "      <td>6</td>\n",
       "      <td>6</td>\n",
       "      <td>6</td>\n",
       "      <td>6</td>\n",
       "      <td>6</td>\n",
       "      <td>6</td>\n",
       "      <td>6</td>\n",
       "      <td>6</td>\n",
       "      <td>6</td>\n",
       "      <td>6</td>\n",
       "      <td>6</td>\n",
       "      <td>6</td>\n",
       "      <td>6</td>\n",
       "    </tr>\n",
       "    <tr>\n",
       "      <th>2019Q3</th>\n",
       "      <td>9</td>\n",
       "      <td>9</td>\n",
       "      <td>9</td>\n",
       "      <td>9</td>\n",
       "      <td>9</td>\n",
       "      <td>9</td>\n",
       "      <td>9</td>\n",
       "      <td>9</td>\n",
       "      <td>9</td>\n",
       "      <td>9</td>\n",
       "      <td>9</td>\n",
       "      <td>9</td>\n",
       "      <td>9</td>\n",
       "      <td>9</td>\n",
       "      <td>9</td>\n",
       "      <td>9</td>\n",
       "      <td>9</td>\n",
       "      <td>9</td>\n",
       "    </tr>\n",
       "    <tr>\n",
       "      <th>2019Q4</th>\n",
       "      <td>9</td>\n",
       "      <td>9</td>\n",
       "      <td>9</td>\n",
       "      <td>9</td>\n",
       "      <td>9</td>\n",
       "      <td>9</td>\n",
       "      <td>9</td>\n",
       "      <td>9</td>\n",
       "      <td>9</td>\n",
       "      <td>9</td>\n",
       "      <td>9</td>\n",
       "      <td>9</td>\n",
       "      <td>9</td>\n",
       "      <td>9</td>\n",
       "      <td>9</td>\n",
       "      <td>9</td>\n",
       "      <td>9</td>\n",
       "      <td>9</td>\n",
       "    </tr>\n",
       "    <tr>\n",
       "      <th>2020Q1</th>\n",
       "      <td>21</td>\n",
       "      <td>21</td>\n",
       "      <td>21</td>\n",
       "      <td>21</td>\n",
       "      <td>21</td>\n",
       "      <td>21</td>\n",
       "      <td>21</td>\n",
       "      <td>21</td>\n",
       "      <td>21</td>\n",
       "      <td>21</td>\n",
       "      <td>21</td>\n",
       "      <td>21</td>\n",
       "      <td>21</td>\n",
       "      <td>21</td>\n",
       "      <td>21</td>\n",
       "      <td>21</td>\n",
       "      <td>21</td>\n",
       "      <td>21</td>\n",
       "    </tr>\n",
       "    <tr>\n",
       "      <th>2020Q2</th>\n",
       "      <td>27</td>\n",
       "      <td>27</td>\n",
       "      <td>27</td>\n",
       "      <td>27</td>\n",
       "      <td>27</td>\n",
       "      <td>27</td>\n",
       "      <td>27</td>\n",
       "      <td>27</td>\n",
       "      <td>27</td>\n",
       "      <td>26</td>\n",
       "      <td>27</td>\n",
       "      <td>27</td>\n",
       "      <td>27</td>\n",
       "      <td>27</td>\n",
       "      <td>27</td>\n",
       "      <td>27</td>\n",
       "      <td>27</td>\n",
       "      <td>27</td>\n",
       "    </tr>\n",
       "    <tr>\n",
       "      <th>2020Q3</th>\n",
       "      <td>29</td>\n",
       "      <td>29</td>\n",
       "      <td>29</td>\n",
       "      <td>29</td>\n",
       "      <td>29</td>\n",
       "      <td>29</td>\n",
       "      <td>29</td>\n",
       "      <td>29</td>\n",
       "      <td>29</td>\n",
       "      <td>29</td>\n",
       "      <td>29</td>\n",
       "      <td>29</td>\n",
       "      <td>29</td>\n",
       "      <td>29</td>\n",
       "      <td>29</td>\n",
       "      <td>29</td>\n",
       "      <td>29</td>\n",
       "      <td>29</td>\n",
       "    </tr>\n",
       "    <tr>\n",
       "      <th>2020Q4</th>\n",
       "      <td>10</td>\n",
       "      <td>10</td>\n",
       "      <td>10</td>\n",
       "      <td>10</td>\n",
       "      <td>10</td>\n",
       "      <td>10</td>\n",
       "      <td>10</td>\n",
       "      <td>10</td>\n",
       "      <td>10</td>\n",
       "      <td>10</td>\n",
       "      <td>10</td>\n",
       "      <td>10</td>\n",
       "      <td>10</td>\n",
       "      <td>10</td>\n",
       "      <td>10</td>\n",
       "      <td>10</td>\n",
       "      <td>10</td>\n",
       "      <td>10</td>\n",
       "    </tr>\n",
       "    <tr>\n",
       "      <th>2021Q1</th>\n",
       "      <td>6</td>\n",
       "      <td>6</td>\n",
       "      <td>6</td>\n",
       "      <td>6</td>\n",
       "      <td>6</td>\n",
       "      <td>6</td>\n",
       "      <td>6</td>\n",
       "      <td>6</td>\n",
       "      <td>6</td>\n",
       "      <td>6</td>\n",
       "      <td>6</td>\n",
       "      <td>6</td>\n",
       "      <td>6</td>\n",
       "      <td>6</td>\n",
       "      <td>6</td>\n",
       "      <td>6</td>\n",
       "      <td>6</td>\n",
       "      <td>6</td>\n",
       "    </tr>\n",
       "    <tr>\n",
       "      <th>2021Q2</th>\n",
       "      <td>8</td>\n",
       "      <td>8</td>\n",
       "      <td>8</td>\n",
       "      <td>8</td>\n",
       "      <td>8</td>\n",
       "      <td>8</td>\n",
       "      <td>8</td>\n",
       "      <td>8</td>\n",
       "      <td>8</td>\n",
       "      <td>8</td>\n",
       "      <td>8</td>\n",
       "      <td>8</td>\n",
       "      <td>8</td>\n",
       "      <td>8</td>\n",
       "      <td>8</td>\n",
       "      <td>8</td>\n",
       "      <td>8</td>\n",
       "      <td>8</td>\n",
       "    </tr>\n",
       "    <tr>\n",
       "      <th>2021Q3</th>\n",
       "      <td>3</td>\n",
       "      <td>3</td>\n",
       "      <td>3</td>\n",
       "      <td>3</td>\n",
       "      <td>3</td>\n",
       "      <td>3</td>\n",
       "      <td>3</td>\n",
       "      <td>3</td>\n",
       "      <td>3</td>\n",
       "      <td>3</td>\n",
       "      <td>3</td>\n",
       "      <td>3</td>\n",
       "      <td>3</td>\n",
       "      <td>3</td>\n",
       "      <td>3</td>\n",
       "      <td>3</td>\n",
       "      <td>3</td>\n",
       "      <td>3</td>\n",
       "    </tr>\n",
       "    <tr>\n",
       "      <th>2021Q4</th>\n",
       "      <td>5</td>\n",
       "      <td>5</td>\n",
       "      <td>5</td>\n",
       "      <td>5</td>\n",
       "      <td>5</td>\n",
       "      <td>5</td>\n",
       "      <td>5</td>\n",
       "      <td>5</td>\n",
       "      <td>5</td>\n",
       "      <td>5</td>\n",
       "      <td>5</td>\n",
       "      <td>5</td>\n",
       "      <td>5</td>\n",
       "      <td>5</td>\n",
       "      <td>5</td>\n",
       "      <td>5</td>\n",
       "      <td>5</td>\n",
       "      <td>5</td>\n",
       "    </tr>\n",
       "    <tr>\n",
       "      <th>2022Q1</th>\n",
       "      <td>1</td>\n",
       "      <td>1</td>\n",
       "      <td>1</td>\n",
       "      <td>1</td>\n",
       "      <td>1</td>\n",
       "      <td>1</td>\n",
       "      <td>1</td>\n",
       "      <td>1</td>\n",
       "      <td>1</td>\n",
       "      <td>1</td>\n",
       "      <td>1</td>\n",
       "      <td>1</td>\n",
       "      <td>1</td>\n",
       "      <td>1</td>\n",
       "      <td>1</td>\n",
       "      <td>1</td>\n",
       "      <td>1</td>\n",
       "      <td>1</td>\n",
       "    </tr>\n",
       "  </tbody>\n",
       "</table>\n",
       "</div>"
      ],
      "text/plain": [
       "        id  title  comments  shares  dislikes  likes  lost_subs  gained_subs  \\\n",
       "date                                                                           \n",
       "2018Q4   2      2         2       2         2      2          2            2   \n",
       "2019Q1   7      7         7       7         7      7          7            7   \n",
       "2019Q2   6      6         6       6         6      6          6            6   \n",
       "2019Q3   9      9         9       9         9      9          9            9   \n",
       "2019Q4   9      9         9       9         9      9          9            9   \n",
       "2020Q1  21     21        21      21        21     21         21           21   \n",
       "2020Q2  27     27        27      27        27     27         27           27   \n",
       "2020Q3  29     29        29      29        29     29         29           29   \n",
       "2020Q4  10     10        10      10        10     10         10           10   \n",
       "2021Q1   6      6         6       6         6      6          6            6   \n",
       "2021Q2   8      8         8       8         8      8          8            8   \n",
       "2021Q3   3      3         3       3         3      3          3            3   \n",
       "2021Q4   5      5         5       5         5      5          5            5   \n",
       "2022Q1   1      1         1       1         1      1          1            1   \n",
       "\n",
       "        rpm  cpm  average_view_pct  average_view_time  views  watch_time  \\\n",
       "date                                                                       \n",
       "2018Q4    2    2                 2                  2      2           2   \n",
       "2019Q1    7    7                 7                  7      7           7   \n",
       "2019Q2    6    6                 6                  6      6           6   \n",
       "2019Q3    9    9                 9                  9      9           9   \n",
       "2019Q4    9    9                 9                  9      9           9   \n",
       "2020Q1   21   21                21                 21     21          21   \n",
       "2020Q2   27   26                27                 27     27          27   \n",
       "2020Q3   29   29                29                 29     29          29   \n",
       "2020Q4   10   10                10                 10     10          10   \n",
       "2021Q1    6    6                 6                  6      6           6   \n",
       "2021Q2    8    8                 8                  8      8           8   \n",
       "2021Q3    3    3                 3                  3      3           3   \n",
       "2021Q4    5    5                 5                  5      5           5   \n",
       "2022Q1    1    1                 1                  1      1           1   \n",
       "\n",
       "        subscribers  estimated_revenue  impressions  CTRate  \n",
       "date                                                         \n",
       "2018Q4            2                  2            2       2  \n",
       "2019Q1            7                  7            7       7  \n",
       "2019Q2            6                  6            6       6  \n",
       "2019Q3            9                  9            9       9  \n",
       "2019Q4            9                  9            9       9  \n",
       "2020Q1           21                 21           21      21  \n",
       "2020Q2           27                 27           27      27  \n",
       "2020Q3           29                 29           29      29  \n",
       "2020Q4           10                 10           10      10  \n",
       "2021Q1            6                  6            6       6  \n",
       "2021Q2            8                  8            8       8  \n",
       "2021Q3            3                  3            3       3  \n",
       "2021Q4            5                  5            5       5  \n",
       "2022Q1            1                  1            1       1  "
      ]
     },
     "execution_count": 25,
     "metadata": {},
     "output_type": "execute_result"
    }
   ],
   "source": [
    "DS_vids_copy.count()"
   ]
  },
  {
   "cell_type": "markdown",
   "id": "60c47570",
   "metadata": {},
   "source": [
    "most Data Science videos were released in year 2020"
   ]
  },
  {
   "cell_type": "code",
   "execution_count": 26,
   "id": "bfd15454",
   "metadata": {},
   "outputs": [
    {
     "data": {
      "text/html": [
       "<div>\n",
       "<style scoped>\n",
       "    .dataframe tbody tr th:only-of-type {\n",
       "        vertical-align: middle;\n",
       "    }\n",
       "\n",
       "    .dataframe tbody tr th {\n",
       "        vertical-align: top;\n",
       "    }\n",
       "\n",
       "    .dataframe thead th {\n",
       "        text-align: right;\n",
       "    }\n",
       "</style>\n",
       "<table border=\"1\" class=\"dataframe\">\n",
       "  <thead>\n",
       "    <tr style=\"text-align: right;\">\n",
       "      <th></th>\n",
       "      <th>id</th>\n",
       "      <th>title</th>\n",
       "      <th>date</th>\n",
       "      <th>comments</th>\n",
       "      <th>shares</th>\n",
       "      <th>dislikes</th>\n",
       "      <th>likes</th>\n",
       "      <th>lost_subs</th>\n",
       "      <th>gained_subs</th>\n",
       "      <th>rpm</th>\n",
       "      <th>cpm</th>\n",
       "      <th>average_view_pct</th>\n",
       "      <th>average_view_time</th>\n",
       "      <th>views</th>\n",
       "      <th>watch_time</th>\n",
       "      <th>subscribers</th>\n",
       "      <th>estimated_revenue</th>\n",
       "      <th>impressions</th>\n",
       "      <th>CTRate</th>\n",
       "    </tr>\n",
       "  </thead>\n",
       "  <tbody>\n",
       "    <tr>\n",
       "      <th>213</th>\n",
       "      <td>foggudmDDvY</td>\n",
       "      <td>Data Science in Golf: PGA Merchandise Show 2020</td>\n",
       "      <td>2020-01-31</td>\n",
       "      <td>6</td>\n",
       "      <td>5</td>\n",
       "      <td>0</td>\n",
       "      <td>18</td>\n",
       "      <td>0</td>\n",
       "      <td>2</td>\n",
       "      <td>3.529</td>\n",
       "      <td>12.105</td>\n",
       "      <td>38.65</td>\n",
       "      <td>0:03:31</td>\n",
       "      <td>482</td>\n",
       "      <td>28.3566</td>\n",
       "      <td>2</td>\n",
       "      <td>1.701</td>\n",
       "      <td>41477</td>\n",
       "      <td>0.69</td>\n",
       "    </tr>\n",
       "  </tbody>\n",
       "</table>\n",
       "</div>"
      ],
      "text/plain": [
       "              id                                            title       date  \\\n",
       "213  foggudmDDvY  Data Science in Golf: PGA Merchandise Show 2020 2020-01-31   \n",
       "\n",
       "     comments  shares  dislikes  likes  lost_subs  gained_subs    rpm     cpm  \\\n",
       "213         6       5         0     18          0            2  3.529  12.105   \n",
       "\n",
       "     average_view_pct average_view_time  views  watch_time  subscribers  \\\n",
       "213             38.65           0:03:31    482     28.3566            2   \n",
       "\n",
       "     estimated_revenue  impressions  CTRate  \n",
       "213              1.701        41477    0.69  "
      ]
     },
     "execution_count": 26,
     "metadata": {},
     "output_type": "execute_result"
    }
   ],
   "source": [
    "DS_vids[(DS_vids['date']>('2019-12-31'))  & (DS_vids['date']<('2021-01-01')) & (DS_vids['views']==482)]"
   ]
  },
  {
   "cell_type": "code",
   "execution_count": 27,
   "id": "85d07e31",
   "metadata": {},
   "outputs": [
    {
     "data": {
      "text/html": [
       "<div>\n",
       "<style scoped>\n",
       "    .dataframe tbody tr th:only-of-type {\n",
       "        vertical-align: middle;\n",
       "    }\n",
       "\n",
       "    .dataframe tbody tr th {\n",
       "        vertical-align: top;\n",
       "    }\n",
       "\n",
       "    .dataframe thead th {\n",
       "        text-align: right;\n",
       "    }\n",
       "</style>\n",
       "<table border=\"1\" class=\"dataframe\">\n",
       "  <thead>\n",
       "    <tr style=\"text-align: right;\">\n",
       "      <th></th>\n",
       "      <th>id</th>\n",
       "      <th>title</th>\n",
       "      <th>date</th>\n",
       "      <th>comments</th>\n",
       "      <th>shares</th>\n",
       "      <th>dislikes</th>\n",
       "      <th>likes</th>\n",
       "      <th>lost_subs</th>\n",
       "      <th>gained_subs</th>\n",
       "      <th>rpm</th>\n",
       "      <th>cpm</th>\n",
       "      <th>average_view_pct</th>\n",
       "      <th>average_view_time</th>\n",
       "      <th>views</th>\n",
       "      <th>watch_time</th>\n",
       "      <th>subscribers</th>\n",
       "      <th>estimated_revenue</th>\n",
       "      <th>impressions</th>\n",
       "      <th>CTRate</th>\n",
       "    </tr>\n",
       "  </thead>\n",
       "  <tbody>\n",
       "    <tr>\n",
       "      <th>1</th>\n",
       "      <td>4OZip0cgOho</td>\n",
       "      <td>How I Would Learn Data Science (If I Had to St...</td>\n",
       "      <td>2020-05-08</td>\n",
       "      <td>907</td>\n",
       "      <td>9583</td>\n",
       "      <td>942</td>\n",
       "      <td>46903</td>\n",
       "      <td>451</td>\n",
       "      <td>46904</td>\n",
       "      <td>6.353</td>\n",
       "      <td>12.835</td>\n",
       "      <td>36.65</td>\n",
       "      <td>0:03:09</td>\n",
       "      <td>1253559</td>\n",
       "      <td>65850.7042</td>\n",
       "      <td>46453</td>\n",
       "      <td>7959.533</td>\n",
       "      <td>26498799</td>\n",
       "      <td>3.14</td>\n",
       "    </tr>\n",
       "  </tbody>\n",
       "</table>\n",
       "</div>"
      ],
      "text/plain": [
       "            id                                              title       date  \\\n",
       "1  4OZip0cgOho  How I Would Learn Data Science (If I Had to St... 2020-05-08   \n",
       "\n",
       "   comments  shares  dislikes  likes  lost_subs  gained_subs    rpm     cpm  \\\n",
       "1       907    9583       942  46903        451        46904  6.353  12.835   \n",
       "\n",
       "   average_view_pct average_view_time    views  watch_time  subscribers  \\\n",
       "1             36.65           0:03:09  1253559  65850.7042        46453   \n",
       "\n",
       "   estimated_revenue  impressions  CTRate  \n",
       "1           7959.533     26498799    3.14  "
      ]
     },
     "execution_count": 27,
     "metadata": {},
     "output_type": "execute_result"
    }
   ],
   "source": [
    "DS_vids[(DS_vids['date']>('2019-12-31'))  & (DS_vids['date']<('2021-01-01')) & (DS_vids['views']==1253559)]"
   ]
  },
  {
   "cell_type": "markdown",
   "id": "aeacba4c",
   "metadata": {},
   "source": [
    "What about videos without Data Science?"
   ]
  },
  {
   "cell_type": "code",
   "execution_count": 28,
   "id": "def61ec0",
   "metadata": {},
   "outputs": [
    {
     "data": {
      "text/plain": [
       "73"
      ]
     },
     "execution_count": 28,
     "metadata": {},
     "output_type": "execute_result"
    }
   ],
   "source": [
    "NDS_vids = sub_videos[~sub_videos['title'].str.contains('Data Science')]\n",
    "NDS_vids['title'].count()"
   ]
  },
  {
   "cell_type": "code",
   "execution_count": 29,
   "id": "913cca57",
   "metadata": {},
   "outputs": [
    {
     "data": {
      "text/plain": [
       "13"
      ]
     },
     "execution_count": 29,
     "metadata": {},
     "output_type": "execute_result"
    }
   ],
   "source": [
    "NDS_vids[NDS_vids['views']>=18000]['title'].count()"
   ]
  },
  {
   "cell_type": "code",
   "execution_count": 30,
   "metadata": {},
   "outputs": [],
   "source": [
    "words = defaultdict(int)\n",
    " \n",
    "# memoizing count\n",
    "for sub in NDS_vids[NDS_vids['views']>18000]['title']:\n",
    "    for wrd in sub.split():\n",
    "        words[wrd] += 1\n",
    " \n",
    "# getting max frequency\n",
    "for i in words:\n",
    "    if words[i] >10:\n",
    "        print(i, words[i])"
   ]
  },
  {
   "cell_type": "code",
   "execution_count": 31,
   "id": "fa9a69f9",
   "metadata": {},
   "outputs": [
    {
     "name": "stdout",
     "output_type": "stream",
     "text": [
      "18K+ videos' percentage of Data Science Videos:  31\n",
      "18K+ videos' percentage of Non-Data Science Videos:  18\n"
     ]
    }
   ],
   "source": [
    "DS_videos = 143\n",
    "DS_videos_18k = 44\n",
    "non_DS_videos = 73\n",
    "non_DS_videos_18k = 13\n",
    "\n",
    "print(\"18K+ videos' percentage of Data Science Videos: \", round((DS_videos_18k/DS_videos)*100))\n",
    "print(\"18K+ videos' percentage of Non-Data Science Videos: \", round((non_DS_videos_18k/non_DS_videos)*100))"
   ]
  },
  {
   "cell_type": "markdown",
   "id": "1b120027",
   "metadata": {},
   "source": [
    "# Some Observations about Videos' Titles\n",
    "\n",
    "- **there are total 223 videos**\n",
    "- **216/223 videos got subscribers**\n",
    "- **54/223 videos lie in the 75th percentile and made 18k+ views**\n",
    "- **in these 54 videos *Data Science* was most commonly used in title**\n",
    "- **143/223 (60%) videos are related to *Data Science***\n",
    "- **44/143 *Data Science* videos got 18k+ views**\n",
    "- **most Data Science videos were released in the Year 2020 i.e 87/143**\n",
    "- **73/223 videos did not had Data Science in their title**\n",
    "- **13/73 Non-Data Science videos got 18k+ views**\n",
    "\n",
    "> 33% Data Science Videos got 18k+ views i.e 44/143 videos\n",
    "\n",
    "> 18% Non-Data Science videos got 18k+ views i.e 13/73 videos"
   ]
  },
  {
   "cell_type": "markdown",
   "metadata": {},
   "source": [
    "# What affects Watch Time and CTR?"
   ]
  },
  {
   "cell_type": "markdown",
   "metadata": {},
   "source": [
    "# A related question: did all greater impressions bring greater subscribers?"
   ]
  },
  {
   "cell_type": "markdown",
   "metadata": {},
   "source": [
    "Let's first try to answer this"
   ]
  },
  {
   "cell_type": "code",
   "execution_count": 32,
   "metadata": {},
   "outputs": [
    {
     "data": {
      "text/html": [
       "<div>\n",
       "<style scoped>\n",
       "    .dataframe tbody tr th:only-of-type {\n",
       "        vertical-align: middle;\n",
       "    }\n",
       "\n",
       "    .dataframe tbody tr th {\n",
       "        vertical-align: top;\n",
       "    }\n",
       "\n",
       "    .dataframe thead th {\n",
       "        text-align: right;\n",
       "    }\n",
       "</style>\n",
       "<table border=\"1\" class=\"dataframe\">\n",
       "  <thead>\n",
       "    <tr style=\"text-align: right;\">\n",
       "      <th></th>\n",
       "      <th>id</th>\n",
       "      <th>title</th>\n",
       "      <th>date</th>\n",
       "      <th>comments</th>\n",
       "      <th>shares</th>\n",
       "      <th>dislikes</th>\n",
       "      <th>likes</th>\n",
       "      <th>lost_subs</th>\n",
       "      <th>gained_subs</th>\n",
       "      <th>rpm</th>\n",
       "      <th>cpm</th>\n",
       "      <th>average_view_pct</th>\n",
       "      <th>average_view_time</th>\n",
       "      <th>views</th>\n",
       "      <th>watch_time</th>\n",
       "      <th>subscribers</th>\n",
       "      <th>estimated_revenue</th>\n",
       "      <th>impressions</th>\n",
       "      <th>CTRate</th>\n",
       "    </tr>\n",
       "  </thead>\n",
       "  <tbody>\n",
       "    <tr>\n",
       "      <th>207</th>\n",
       "      <td>iqG59TqfFdY</td>\n",
       "      <td>5 Data Science Resolutions for 2020</td>\n",
       "      <td>2019-12-27</td>\n",
       "      <td>7</td>\n",
       "      <td>3</td>\n",
       "      <td>0</td>\n",
       "      <td>24</td>\n",
       "      <td>2</td>\n",
       "      <td>5</td>\n",
       "      <td>2.404</td>\n",
       "      <td>22.678</td>\n",
       "      <td>43.75</td>\n",
       "      <td>0:02:12</td>\n",
       "      <td>455</td>\n",
       "      <td>16.6975</td>\n",
       "      <td>3</td>\n",
       "      <td>1.094</td>\n",
       "      <td>34674</td>\n",
       "      <td>0.87</td>\n",
       "    </tr>\n",
       "    <tr>\n",
       "      <th>213</th>\n",
       "      <td>foggudmDDvY</td>\n",
       "      <td>Data Science in Golf: PGA Merchandise Show 2020</td>\n",
       "      <td>2020-01-31</td>\n",
       "      <td>6</td>\n",
       "      <td>5</td>\n",
       "      <td>0</td>\n",
       "      <td>18</td>\n",
       "      <td>0</td>\n",
       "      <td>2</td>\n",
       "      <td>3.529</td>\n",
       "      <td>12.105</td>\n",
       "      <td>38.65</td>\n",
       "      <td>0:03:31</td>\n",
       "      <td>482</td>\n",
       "      <td>28.3566</td>\n",
       "      <td>2</td>\n",
       "      <td>1.701</td>\n",
       "      <td>41477</td>\n",
       "      <td>0.69</td>\n",
       "    </tr>\n",
       "    <tr>\n",
       "      <th>179</th>\n",
       "      <td>Zz_Mx1UPswI</td>\n",
       "      <td>Thank You For The Support | What's Next | Ken ...</td>\n",
       "      <td>2019-08-26</td>\n",
       "      <td>14</td>\n",
       "      <td>4</td>\n",
       "      <td>0</td>\n",
       "      <td>24</td>\n",
       "      <td>0</td>\n",
       "      <td>7</td>\n",
       "      <td>0.542</td>\n",
       "      <td>12.098</td>\n",
       "      <td>39.37</td>\n",
       "      <td>0:00:44</td>\n",
       "      <td>506</td>\n",
       "      <td>6.3089</td>\n",
       "      <td>7</td>\n",
       "      <td>0.274</td>\n",
       "      <td>25885</td>\n",
       "      <td>0.54</td>\n",
       "    </tr>\n",
       "    <tr>\n",
       "      <th>220</th>\n",
       "      <td>Yr5T3T4tq-g</td>\n",
       "      <td>Most Data Science Hopefuls Overlook This Impor...</td>\n",
       "      <td>2019-05-25</td>\n",
       "      <td>3</td>\n",
       "      <td>0</td>\n",
       "      <td>0</td>\n",
       "      <td>44</td>\n",
       "      <td>0</td>\n",
       "      <td>5</td>\n",
       "      <td>3.374</td>\n",
       "      <td>15.596</td>\n",
       "      <td>58.62</td>\n",
       "      <td>0:02:06</td>\n",
       "      <td>548</td>\n",
       "      <td>19.2752</td>\n",
       "      <td>5</td>\n",
       "      <td>1.849</td>\n",
       "      <td>21780</td>\n",
       "      <td>1.61</td>\n",
       "    </tr>\n",
       "    <tr>\n",
       "      <th>211</th>\n",
       "      <td>3ysXGYjvbSU</td>\n",
       "      <td>Why is Balance Important in Data Science?</td>\n",
       "      <td>2019-10-16</td>\n",
       "      <td>6</td>\n",
       "      <td>2</td>\n",
       "      <td>0</td>\n",
       "      <td>31</td>\n",
       "      <td>3</td>\n",
       "      <td>4</td>\n",
       "      <td>3.275</td>\n",
       "      <td>14.950</td>\n",
       "      <td>52.42</td>\n",
       "      <td>0:02:04</td>\n",
       "      <td>612</td>\n",
       "      <td>21.2073</td>\n",
       "      <td>1</td>\n",
       "      <td>2.004</td>\n",
       "      <td>32650</td>\n",
       "      <td>1.17</td>\n",
       "    </tr>\n",
       "  </tbody>\n",
       "</table>\n",
       "</div>"
      ],
      "text/plain": [
       "              id                                              title  \\\n",
       "207  iqG59TqfFdY                5 Data Science Resolutions for 2020   \n",
       "213  foggudmDDvY    Data Science in Golf: PGA Merchandise Show 2020   \n",
       "179  Zz_Mx1UPswI  Thank You For The Support | What's Next | Ken ...   \n",
       "220  Yr5T3T4tq-g  Most Data Science Hopefuls Overlook This Impor...   \n",
       "211  3ysXGYjvbSU          Why is Balance Important in Data Science?   \n",
       "\n",
       "          date  comments  shares  dislikes  likes  lost_subs  gained_subs  \\\n",
       "207 2019-12-27         7       3         0     24          2            5   \n",
       "213 2020-01-31         6       5         0     18          0            2   \n",
       "179 2019-08-26        14       4         0     24          0            7   \n",
       "220 2019-05-25         3       0         0     44          0            5   \n",
       "211 2019-10-16         6       2         0     31          3            4   \n",
       "\n",
       "       rpm     cpm  average_view_pct average_view_time  views  watch_time  \\\n",
       "207  2.404  22.678             43.75           0:02:12    455     16.6975   \n",
       "213  3.529  12.105             38.65           0:03:31    482     28.3566   \n",
       "179  0.542  12.098             39.37           0:00:44    506      6.3089   \n",
       "220  3.374  15.596             58.62           0:02:06    548     19.2752   \n",
       "211  3.275  14.950             52.42           0:02:04    612     21.2073   \n",
       "\n",
       "     subscribers  estimated_revenue  impressions  CTRate  \n",
       "207            3              1.094        34674    0.87  \n",
       "213            2              1.701        41477    0.69  \n",
       "179            7              0.274        25885    0.54  \n",
       "220            5              1.849        21780    1.61  \n",
       "211            1              2.004        32650    1.17  "
      ]
     },
     "execution_count": 32,
     "metadata": {},
     "output_type": "execute_result"
    }
   ],
   "source": [
    "sub_videos.head()"
   ]
  },
  {
   "cell_type": "code",
   "execution_count": 34,
   "metadata": {},
   "outputs": [
    {
     "data": {
      "text/plain": [
       "<AxesSubplot:xlabel='impressions', ylabel='views'>"
      ]
     },
     "execution_count": 34,
     "metadata": {},
     "output_type": "execute_result"
    },
    {
     "data": {
      "image/png": "[encoded data removed]",
      "text/plain": [
       "<Figure size 1440x720 with 2 Axes>"
      ]
     },
     "metadata": {
      "needs_background": "light"
     },
     "output_type": "display_data"
    }
   ],
   "source": [
    "fig, ax = plt.subplots(1, 2, figsize=(20,10))\n",
    "sns.lineplot(data=sub_videos, x='impressions', y='views', ax=ax[0])\n",
    "sns.regplot(data=sub_videos, x='impressions', y='views', ax=ax[1])"
   ]
  },
  {
   "cell_type": "markdown",
   "metadata": {},
   "source": [
    "views and impressions have a direct relation"
   ]
  },
  {
   "cell_type": "code",
   "execution_count": 35,
   "metadata": {},
   "outputs": [
    {
     "data": {
      "text/plain": [
       "Index(['id', 'title', 'date', 'comments', 'shares', 'dislikes', 'likes',\n",
       "       'lost_subs', 'gained_subs', 'rpm', 'cpm', 'average_view_pct',\n",
       "       'average_view_time', 'views', 'watch_time', 'subscribers',\n",
       "       'estimated_revenue', 'impressions', 'CTRate'],\n",
       "      dtype='object')"
      ]
     },
     "execution_count": 35,
     "metadata": {},
     "output_type": "execute_result"
    }
   ],
   "source": [
    "sub_videos.columns"
   ]
  },
  {
   "cell_type": "code",
   "execution_count": 36,
   "metadata": {},
   "outputs": [
    {
     "data": {
      "text/plain": [
       "<AxesSubplot:xlabel='subscribers', ylabel='views'>"
      ]
     },
     "execution_count": 36,
     "metadata": {},
     "output_type": "execute_result"
    },
    {
     "data": {
      "image/png": "[encoded data removed]",
      "text/plain": [
       "<Figure size 1440x720 with 2 Axes>"
      ]
     },
     "metadata": {
      "needs_background": "light"
     },
     "output_type": "display_data"
    }
   ],
   "source": [
    "fig, ax = plt.subplots(1, 2, figsize=(20,10))\n",
    "sns.lineplot(data=sub_videos, x='subscribers', y='views', ax=ax[0])\n",
    "sns.regplot(data=sub_videos, x='subscribers', y='views', ax=ax[1])"
   ]
  },
  {
   "cell_type": "markdown",
   "metadata": {},
   "source": [
    "greater the views, greater the possibility of subscribers"
   ]
  },
  {
   "cell_type": "code",
   "execution_count": 42,
   "metadata": {},
   "outputs": [
    {
     "name": "stderr",
     "output_type": "stream",
     "text": [
      "/home/irfan/.virtualenvs/ds_env-tSQ1-V2S/lib/python3.9/site-packages/seaborn/categorical.py:3775: UserWarning: catplot is a figure-level function and does not accept target axes. You may wish to try stripplot\n",
      "  warnings.warn(msg, UserWarning)\n"
     ]
    },
    {
     "data": {
      "text/plain": [
       "<seaborn.axisgrid.FacetGrid at 0x7f1902c11610>"
      ]
     },
     "execution_count": 42,
     "metadata": {},
     "output_type": "execute_result"
    },
    {
     "data": {
      "image/png": "[encoded data removed]",
      "text/plain": [
       "<Figure size 1440x720 with 2 Axes>"
      ]
     },
     "metadata": {
      "needs_background": "light"
     },
     "output_type": "display_data"
    },
    {
     "data": {
      "image/png": "[encoded data removed]",
      "text/plain": [
       "<Figure size 360x360 with 1 Axes>"
      ]
     },
     "metadata": {
      "needs_background": "light"
     },
     "output_type": "display_data"
    }
   ],
   "source": [
    "fig, ax = plt.subplots(1, 2, figsize=(20,10))\n",
    "sns.kdeplot(data=sub_videos, x='likes', y='views', ax=ax[0])\n",
    "sns.catplot(data=sub_videos, x='likes', y='views', ax=ax[1])"
   ]
  },
  {
   "cell_type": "code",
   "execution_count": 43,
   "metadata": {},
   "outputs": [
    {
     "data": {
      "text/plain": [
       "<AxesSubplot:xlabel='impressions', ylabel='views'>"
      ]
     },
     "execution_count": 43,
     "metadata": {},
     "output_type": "execute_result"
    },
    {
     "data": {
      "image/png": "[encoded data removed]",
      "text/plain": [
       "<Figure size 1440x720 with 2 Axes>"
      ]
     },
     "metadata": {
      "needs_background": "light"
     },
     "output_type": "display_data"
    }
   ],
   "source": [
    "fig, ax = plt.subplots(1, 2, figsize=(20,10))\n",
    "sns.regplot(data=sub_videos, x='impressions', y='views', ax=ax[0])\n",
    "sns.boxplot(data=sub_videos, x='impressions', y='views', ax=ax[1])"
   ]
  },
  {
   "cell_type": "code",
   "execution_count": 44,
   "metadata": {},
   "outputs": [
    {
     "data": {
      "text/plain": [
       "<AxesSubplot:xlabel='likes', ylabel='views'>"
      ]
     },
     "execution_count": 44,
     "metadata": {},
     "output_type": "execute_result"
    },
    {
     "data": {
      "image/png": "[encoded data removed]",
      "text/plain": [
       "<Figure size 1440x720 with 2 Axes>"
      ]
     },
     "metadata": {
      "needs_background": "light"
     },
     "output_type": "display_data"
    }
   ],
   "source": [
    "fig, ax = plt.subplots(1, 2, figsize=(20,10))\n",
    "sns.regplot(data=sub_videos, x='likes', y='views', ax=ax[0])\n",
    "sns.boxplot(data=sub_videos, x='likes', y='views', ax=ax[1])"
   ]
  },
  {
   "cell_type": "code",
   "execution_count": 45,
   "metadata": {},
   "outputs": [
    {
     "data": {
      "text/plain": [
       "<AxesSubplot:xlabel='subscribers', ylabel='views'>"
      ]
     },
     "execution_count": 45,
     "metadata": {},
     "output_type": "execute_result"
    },
    {
     "data": {
      "image/png": "[encoded data removed]",
      "text/plain": [
       "<Figure size 1440x720 with 2 Axes>"
      ]
     },
     "metadata": {
      "needs_background": "light"
     },
     "output_type": "display_data"
    }
   ],
   "source": [
    "fig, ax = plt.subplots(1, 2, figsize=(20,10))\n",
    "sns.regplot(data=sub_videos, x='subscribers', y='views', ax=ax[0])\n",
    "sns.boxplot(data=sub_videos, x='subscribers', y='views', ax=ax[1])"
   ]
  },
  {
   "cell_type": "code",
   "execution_count": 59,
   "metadata": {},
   "outputs": [
    {
     "data": {
      "text/plain": [
       "<AxesSubplot:xlabel='impressions', ylabel='views'>"
      ]
     },
     "execution_count": 59,
     "metadata": {},
     "output_type": "execute_result"
    },
    {
     "data": {
      "image/png": "[encoded data removed]",
      "text/plain": [
       "<Figure size 432x288 with 1 Axes>"
      ]
     },
     "metadata": {
      "needs_background": "light"
     },
     "output_type": "display_data"
    }
   ],
   "source": [
    "ax = plt.plot(figsize=(20,10))\n",
    "ax = sns.stripplot(data=sub_videos, x='impressions', y='views')\n",
    "sns.boxplot(data=sub_videos, x='impressions', y='views', ax=ax)\n",
    "sns.lineplot(data=sub_videos, x='impressions', y='views', ax=ax)\n",
    "sns.regplot(data=sub_videos, x='impressions', y='views', ax=ax)\n"
   ]
  },
  {
   "cell_type": "code",
   "execution_count": 60,
   "metadata": {},
   "outputs": [
    {
     "data": {
      "text/plain": [
       "<AxesSubplot:xlabel='subscribers', ylabel='views'>"
      ]
     },
     "execution_count": 60,
     "metadata": {},
     "output_type": "execute_result"
    },
    {
     "data": {
      "image/png": "[encoded data removed]",
      "text/plain": [
       "<Figure size 432x288 with 1 Axes>"
      ]
     },
     "metadata": {
      "needs_background": "light"
     },
     "output_type": "display_data"
    }
   ],
   "source": [
    "ax = plt.plot(figsize=(20,10))\n",
    "ax = sns.stripplot(data=sub_videos, x='subscribers', y='views')\n",
    "sns.boxplot(data=sub_videos, x='subscribers', y='views', ax=ax)\n",
    "sns.lineplot(data=sub_videos, x='subscribers', y='views', ax=ax)\n",
    "sns.regplot(data=sub_videos, x='subscribers', y='views', ax=ax)\n"
   ]
  },
  {
   "cell_type": "code",
   "execution_count": 61,
   "metadata": {},
   "outputs": [
    {
     "data": {
      "text/plain": [
       "<AxesSubplot:xlabel='impressions', ylabel='subscribers'>"
      ]
     },
     "execution_count": 61,
     "metadata": {},
     "output_type": "execute_result"
    },
    {
     "data": {
      "image/png": "[encoded data removed]",
      "text/plain": [
       "<Figure size 432x288 with 1 Axes>"
      ]
     },
     "metadata": {
      "needs_background": "light"
     },
     "output_type": "display_data"
    }
   ],
   "source": [
    "ax = plt.plot(figsize=(20,10))\n",
    "ax = sns.stripplot(data=sub_videos, x='impressions', y='subscribers')\n",
    "sns.boxplot(data=sub_videos, x='impressions', y='subscribers', ax=ax)\n",
    "sns.lineplot(data=sub_videos, x='impressions', y='subscribers', ax=ax)\n",
    "sns.regplot(data=sub_videos, x='impressions', y='subscribers', ax=ax)\n"
   ]
  },
  {
   "cell_type": "code",
   "execution_count": 62,
   "metadata": {},
   "outputs": [
    {
     "data": {
      "text/plain": [
       "<AxesSubplot:xlabel='impressions', ylabel='likes'>"
      ]
     },
     "execution_count": 62,
     "metadata": {},
     "output_type": "execute_result"
    },
    {
     "data": {
      "image/png": "[encoded data removed]",
      "text/plain": [
       "<Figure size 432x288 with 1 Axes>"
      ]
     },
     "metadata": {
      "needs_background": "light"
     },
     "output_type": "display_data"
    }
   ],
   "source": [
    "ax = plt.plot(figsize=(20,10))\n",
    "ax = sns.stripplot(data=sub_videos, x='impressions', y='likes')\n",
    "sns.boxplot(data=sub_videos, x='impressions', y='likes', ax=ax)\n",
    "sns.lineplot(data=sub_videos, x='impressions', y='likes', ax=ax)\n",
    "sns.regplot(data=sub_videos, x='impressions', y='likes', ax=ax)\n"
   ]
  },
  {
   "cell_type": "code",
   "execution_count": 63,
   "metadata": {},
   "outputs": [
    {
     "data": {
      "text/plain": [
       "<AxesSubplot:xlabel='views', ylabel='CTRate'>"
      ]
     },
     "execution_count": 63,
     "metadata": {},
     "output_type": "execute_result"
    },
    {
     "data": {
      "image/png": "[encoded data removed]",
      "text/plain": [
       "<Figure size 432x288 with 1 Axes>"
      ]
     },
     "metadata": {
      "needs_background": "light"
     },
     "output_type": "display_data"
    }
   ],
   "source": [
    "ax = plt.plot(figsize=(20,10))\n",
    "ax = sns.stripplot(data=sub_videos, x='views', y='CTRate')\n",
    "sns.boxplot(data=sub_videos, x='views', y='CTRate', ax=ax)\n",
    "sns.lineplot(data=sub_videos, x='views', y='CTRate', ax=ax)\n",
    "sns.regplot(data=sub_videos, x='views', y='CTRate', ax=ax)\n"
   ]
  },
  {
   "cell_type": "markdown",
   "metadata": {},
   "source": [
    "views and CTRate do not have a good coordination"
   ]
  },
  {
   "cell_type": "code",
   "execution_count": 64,
   "metadata": {},
   "outputs": [
    {
     "data": {
      "text/plain": [
       "<AxesSubplot:xlabel='watch_time', ylabel='CTRate'>"
      ]
     },
     "execution_count": 64,
     "metadata": {},
     "output_type": "execute_result"
    },
    {
     "data": {
      "image/png": "[encoded data removed]",
      "text/plain": [
       "<Figure size 432x288 with 1 Axes>"
      ]
     },
     "metadata": {
      "needs_background": "light"
     },
     "output_type": "display_data"
    }
   ],
   "source": [
    "ax = plt.plot(figsize=(20,10))\n",
    "ax = sns.stripplot(data=sub_videos, x='watch_time', y='CTRate')\n",
    "sns.boxplot(data=sub_videos, x='watch_time', y='CTRate', ax=ax)\n",
    "sns.lineplot(data=sub_videos, x='watch_time', y='CTRate', ax=ax)\n",
    "sns.regplot(data=sub_videos, x='watch_time', y='CTRate', ax=ax)\n"
   ]
  },
  {
   "cell_type": "markdown",
   "metadata": {},
   "source": [
    "behavior of watch_time and CTRate is complicated too"
   ]
  },
  {
   "cell_type": "code",
   "execution_count": 65,
   "metadata": {},
   "outputs": [
    {
     "data": {
      "text/plain": [
       "<AxesSubplot:xlabel='impressions', ylabel='watch_time'>"
      ]
     },
     "execution_count": 65,
     "metadata": {},
     "output_type": "execute_result"
    },
    {
     "data": {
      "image/png": "[encoded data removed]",
      "text/plain": [
       "<Figure size 432x288 with 1 Axes>"
      ]
     },
     "metadata": {
      "needs_background": "light"
     },
     "output_type": "display_data"
    }
   ],
   "source": [
    "ax = plt.plot(figsize=(20,10))\n",
    "ax = sns.stripplot(data=sub_videos, x='impressions', y='watch_time')\n",
    "sns.boxplot(data=sub_videos, x='impressions', y='watch_time', ax=ax)\n",
    "sns.lineplot(data=sub_videos, x='impressions', y='watch_time', ax=ax)\n",
    "sns.regplot(data=sub_videos, x='impressions', y='watch_time', ax=ax)\n"
   ]
  },
  {
   "cell_type": "code",
   "execution_count": 66,
   "metadata": {},
   "outputs": [
    {
     "data": {
      "text/plain": [
       "Index(['id', 'title', 'date', 'comments', 'shares', 'dislikes', 'likes',\n",
       "       'lost_subs', 'gained_subs', 'rpm', 'cpm', 'average_view_pct',\n",
       "       'average_view_time', 'views', 'watch_time', 'subscribers',\n",
       "       'estimated_revenue', 'impressions', 'CTRate'],\n",
       "      dtype='object')"
      ]
     },
     "execution_count": 66,
     "metadata": {},
     "output_type": "execute_result"
    }
   ],
   "source": [
    "sub_videos.columns"
   ]
  },
  {
   "cell_type": "code",
   "execution_count": null,
   "metadata": {},
   "outputs": [],
   "source": []
  },
  {
   "cell_type": "code",
   "execution_count": 36,
   "metadata": {},
   "outputs": [
    {
     "data": {
      "text/html": [
       "<div>\n",
       "<style scoped>\n",
       "    .dataframe tbody tr th:only-of-type {\n",
       "        vertical-align: middle;\n",
       "    }\n",
       "\n",
       "    .dataframe tbody tr th {\n",
       "        vertical-align: top;\n",
       "    }\n",
       "\n",
       "    .dataframe thead th {\n",
       "        text-align: right;\n",
       "    }\n",
       "</style>\n",
       "<table border=\"1\" class=\"dataframe\">\n",
       "  <thead>\n",
       "    <tr style=\"text-align: right;\">\n",
       "      <th></th>\n",
       "      <th>id</th>\n",
       "      <th>title</th>\n",
       "      <th>date</th>\n",
       "      <th>comments</th>\n",
       "      <th>shares</th>\n",
       "      <th>dislikes</th>\n",
       "      <th>likes</th>\n",
       "      <th>lost_subs</th>\n",
       "      <th>gained_subs</th>\n",
       "      <th>rpm</th>\n",
       "      <th>cpm</th>\n",
       "      <th>average_view_pct</th>\n",
       "      <th>average_view_time</th>\n",
       "      <th>views</th>\n",
       "      <th>watch_time</th>\n",
       "      <th>subscribers</th>\n",
       "      <th>estimated_revenue</th>\n",
       "      <th>impressions</th>\n",
       "      <th>CTRate</th>\n",
       "    </tr>\n",
       "  </thead>\n",
       "  <tbody>\n",
       "    <tr>\n",
       "      <th>207</th>\n",
       "      <td>iqG59TqfFdY</td>\n",
       "      <td>5 Data Science Resolutions for 2020</td>\n",
       "      <td>2019-12-27</td>\n",
       "      <td>7</td>\n",
       "      <td>3</td>\n",
       "      <td>0</td>\n",
       "      <td>24</td>\n",
       "      <td>2</td>\n",
       "      <td>5</td>\n",
       "      <td>2.404</td>\n",
       "      <td>22.678</td>\n",
       "      <td>43.75</td>\n",
       "      <td>0:02:12</td>\n",
       "      <td>455</td>\n",
       "      <td>16.6975</td>\n",
       "      <td>3</td>\n",
       "      <td>1.094</td>\n",
       "      <td>34674</td>\n",
       "      <td>0.87</td>\n",
       "    </tr>\n",
       "    <tr>\n",
       "      <th>213</th>\n",
       "      <td>foggudmDDvY</td>\n",
       "      <td>Data Science in Golf: PGA Merchandise Show 2020</td>\n",
       "      <td>2020-01-31</td>\n",
       "      <td>6</td>\n",
       "      <td>5</td>\n",
       "      <td>0</td>\n",
       "      <td>18</td>\n",
       "      <td>0</td>\n",
       "      <td>2</td>\n",
       "      <td>3.529</td>\n",
       "      <td>12.105</td>\n",
       "      <td>38.65</td>\n",
       "      <td>0:03:31</td>\n",
       "      <td>482</td>\n",
       "      <td>28.3566</td>\n",
       "      <td>2</td>\n",
       "      <td>1.701</td>\n",
       "      <td>41477</td>\n",
       "      <td>0.69</td>\n",
       "    </tr>\n",
       "    <tr>\n",
       "      <th>179</th>\n",
       "      <td>Zz_Mx1UPswI</td>\n",
       "      <td>Thank You For The Support | What's Next | Ken ...</td>\n",
       "      <td>2019-08-26</td>\n",
       "      <td>14</td>\n",
       "      <td>4</td>\n",
       "      <td>0</td>\n",
       "      <td>24</td>\n",
       "      <td>0</td>\n",
       "      <td>7</td>\n",
       "      <td>0.542</td>\n",
       "      <td>12.098</td>\n",
       "      <td>39.37</td>\n",
       "      <td>0:00:44</td>\n",
       "      <td>506</td>\n",
       "      <td>6.3089</td>\n",
       "      <td>7</td>\n",
       "      <td>0.274</td>\n",
       "      <td>25885</td>\n",
       "      <td>0.54</td>\n",
       "    </tr>\n",
       "    <tr>\n",
       "      <th>220</th>\n",
       "      <td>Yr5T3T4tq-g</td>\n",
       "      <td>Most Data Science Hopefuls Overlook This Impor...</td>\n",
       "      <td>2019-05-25</td>\n",
       "      <td>3</td>\n",
       "      <td>0</td>\n",
       "      <td>0</td>\n",
       "      <td>44</td>\n",
       "      <td>0</td>\n",
       "      <td>5</td>\n",
       "      <td>3.374</td>\n",
       "      <td>15.596</td>\n",
       "      <td>58.62</td>\n",
       "      <td>0:02:06</td>\n",
       "      <td>548</td>\n",
       "      <td>19.2752</td>\n",
       "      <td>5</td>\n",
       "      <td>1.849</td>\n",
       "      <td>21780</td>\n",
       "      <td>1.61</td>\n",
       "    </tr>\n",
       "    <tr>\n",
       "      <th>211</th>\n",
       "      <td>3ysXGYjvbSU</td>\n",
       "      <td>Why is Balance Important in Data Science?</td>\n",
       "      <td>2019-10-16</td>\n",
       "      <td>6</td>\n",
       "      <td>2</td>\n",
       "      <td>0</td>\n",
       "      <td>31</td>\n",
       "      <td>3</td>\n",
       "      <td>4</td>\n",
       "      <td>3.275</td>\n",
       "      <td>14.950</td>\n",
       "      <td>52.42</td>\n",
       "      <td>0:02:04</td>\n",
       "      <td>612</td>\n",
       "      <td>21.2073</td>\n",
       "      <td>1</td>\n",
       "      <td>2.004</td>\n",
       "      <td>32650</td>\n",
       "      <td>1.17</td>\n",
       "    </tr>\n",
       "  </tbody>\n",
       "</table>\n",
       "</div>"
      ],
      "text/plain": [
       "              id                                              title  \\\n",
       "207  iqG59TqfFdY                5 Data Science Resolutions for 2020   \n",
       "213  foggudmDDvY    Data Science in Golf: PGA Merchandise Show 2020   \n",
       "179  Zz_Mx1UPswI  Thank You For The Support | What's Next | Ken ...   \n",
       "220  Yr5T3T4tq-g  Most Data Science Hopefuls Overlook This Impor...   \n",
       "211  3ysXGYjvbSU          Why is Balance Important in Data Science?   \n",
       "\n",
       "          date  comments  shares  dislikes  likes  lost_subs  gained_subs  \\\n",
       "207 2019-12-27         7       3         0     24          2            5   \n",
       "213 2020-01-31         6       5         0     18          0            2   \n",
       "179 2019-08-26        14       4         0     24          0            7   \n",
       "220 2019-05-25         3       0         0     44          0            5   \n",
       "211 2019-10-16         6       2         0     31          3            4   \n",
       "\n",
       "       rpm     cpm  average_view_pct average_view_time  views  watch_time  \\\n",
       "207  2.404  22.678             43.75           0:02:12    455     16.6975   \n",
       "213  3.529  12.105             38.65           0:03:31    482     28.3566   \n",
       "179  0.542  12.098             39.37           0:00:44    506      6.3089   \n",
       "220  3.374  15.596             58.62           0:02:06    548     19.2752   \n",
       "211  3.275  14.950             52.42           0:02:04    612     21.2073   \n",
       "\n",
       "     subscribers  estimated_revenue  impressions  CTRate  \n",
       "207            3              1.094        34674    0.87  \n",
       "213            2              1.701        41477    0.69  \n",
       "179            7              0.274        25885    0.54  \n",
       "220            5              1.849        21780    1.61  \n",
       "211            1              2.004        32650    1.17  "
      ]
     },
     "execution_count": 36,
     "metadata": {},
     "output_type": "execute_result"
    }
   ],
   "source": [
    "sub_videos.head()"
   ]
  },
  {
   "cell_type": "markdown",
   "metadata": {},
   "source": [
    "let's first utilize some intuition"
   ]
  },
  {
   "cell_type": "markdown",
   "metadata": {},
   "source": [
    "- title may be a cause for some one to watch video or skip it\n",
    "- comments comes after watch, but some watch time also comes after comments\n",
    "- shares/likes/dislikes come after watching, naturally\n",
    "- appearance/thumbnails+titles may cause some one to watch or skip the video"
   ]
  },
  {
   "cell_type": "markdown",
   "metadata": {},
   "source": [
    "#### What should we utilize for making observations?\n",
    "\n",
    "- titles\n",
    "- comments\n",
    "- thumbnails"
   ]
  },
  {
   "cell_type": "code",
   "execution_count": 37,
   "metadata": {},
   "outputs": [
    {
     "data": {
      "text/html": [
       "<div>\n",
       "<style scoped>\n",
       "    .dataframe tbody tr th:only-of-type {\n",
       "        vertical-align: middle;\n",
       "    }\n",
       "\n",
       "    .dataframe tbody tr th {\n",
       "        vertical-align: top;\n",
       "    }\n",
       "\n",
       "    .dataframe thead th {\n",
       "        text-align: right;\n",
       "    }\n",
       "</style>\n",
       "<table border=\"1\" class=\"dataframe\">\n",
       "  <thead>\n",
       "    <tr style=\"text-align: right;\">\n",
       "      <th></th>\n",
       "      <th>Date</th>\n",
       "      <th>Video Title</th>\n",
       "      <th>External Video ID</th>\n",
       "      <th>Video Length</th>\n",
       "      <th>Thumbnail link</th>\n",
       "      <th>Views</th>\n",
       "      <th>Video Likes Added</th>\n",
       "      <th>Video Dislikes Added</th>\n",
       "      <th>Video Likes Removed</th>\n",
       "      <th>User Subscriptions Added</th>\n",
       "      <th>User Subscriptions Removed</th>\n",
       "      <th>Average View Percentage</th>\n",
       "      <th>Average Watch Time</th>\n",
       "      <th>User Comments Added</th>\n",
       "    </tr>\n",
       "  </thead>\n",
       "  <tbody>\n",
       "    <tr>\n",
       "      <th>0</th>\n",
       "      <td>19 Jan 2022</td>\n",
       "      <td>Kaggle Project From Scratch - Part 2 (Explorat...</td>\n",
       "      <td>KQ80oD_boBM</td>\n",
       "      <td>2191</td>\n",
       "      <td>https://i.ytimg.com/vi/KQ80oD_boBM/hqdefault.jpg</td>\n",
       "      <td>13</td>\n",
       "      <td>0</td>\n",
       "      <td>0</td>\n",
       "      <td>0</td>\n",
       "      <td>0</td>\n",
       "      <td>0</td>\n",
       "      <td>0.069055</td>\n",
       "      <td>151.300154</td>\n",
       "      <td>0</td>\n",
       "    </tr>\n",
       "    <tr>\n",
       "      <th>1</th>\n",
       "      <td>19 Jan 2022</td>\n",
       "      <td>Welcome To My Channel | Ken Jee | Data Science</td>\n",
       "      <td>smeFkHwnM_k</td>\n",
       "      <td>51</td>\n",
       "      <td>https://i.ytimg.com/vi/smeFkHwnM_k/hqdefault.jpg</td>\n",
       "      <td>2</td>\n",
       "      <td>0</td>\n",
       "      <td>0</td>\n",
       "      <td>0</td>\n",
       "      <td>1</td>\n",
       "      <td>0</td>\n",
       "      <td>0.471255</td>\n",
       "      <td>24.034000</td>\n",
       "      <td>0</td>\n",
       "    </tr>\n",
       "    <tr>\n",
       "      <th>2</th>\n",
       "      <td>19 Jan 2022</td>\n",
       "      <td>How She Dominated the FAANG Data Science Inter...</td>\n",
       "      <td>vfV4nm004VQ</td>\n",
       "      <td>2686</td>\n",
       "      <td>https://i.ytimg.com/vi/vfV4nm004VQ/hqdefault.jpg</td>\n",
       "      <td>10</td>\n",
       "      <td>0</td>\n",
       "      <td>0</td>\n",
       "      <td>0</td>\n",
       "      <td>0</td>\n",
       "      <td>0</td>\n",
       "      <td>0.126049</td>\n",
       "      <td>338.567500</td>\n",
       "      <td>0</td>\n",
       "    </tr>\n",
       "    <tr>\n",
       "      <th>3</th>\n",
       "      <td>19 Jan 2022</td>\n",
       "      <td>The 9 Books That Changed My Perspective in 2019</td>\n",
       "      <td>3TrAYmrmA8o</td>\n",
       "      <td>980</td>\n",
       "      <td>https://i.ytimg.com/vi/3TrAYmrmA8o/hqdefault.jpg</td>\n",
       "      <td>1</td>\n",
       "      <td>0</td>\n",
       "      <td>0</td>\n",
       "      <td>0</td>\n",
       "      <td>0</td>\n",
       "      <td>0</td>\n",
       "      <td>0.011508</td>\n",
       "      <td>11.278000</td>\n",
       "      <td>0</td>\n",
       "    </tr>\n",
       "    <tr>\n",
       "      <th>4</th>\n",
       "      <td>19 Jan 2022</td>\n",
       "      <td>Interview with the Director of AI Research @ N...</td>\n",
       "      <td>Xgg7dIKys9E</td>\n",
       "      <td>2904</td>\n",
       "      <td>https://i.ytimg.com/vi/Xgg7dIKys9E/hqdefault.jpg</td>\n",
       "      <td>1</td>\n",
       "      <td>0</td>\n",
       "      <td>0</td>\n",
       "      <td>0</td>\n",
       "      <td>0</td>\n",
       "      <td>0</td>\n",
       "      <td>0.007541</td>\n",
       "      <td>21.900000</td>\n",
       "      <td>0</td>\n",
       "    </tr>\n",
       "  </tbody>\n",
       "</table>\n",
       "</div>"
      ],
      "text/plain": [
       "          Date                                        Video Title  \\\n",
       "0  19 Jan 2022  Kaggle Project From Scratch - Part 2 (Explorat...   \n",
       "1  19 Jan 2022     Welcome To My Channel | Ken Jee | Data Science   \n",
       "2  19 Jan 2022  How She Dominated the FAANG Data Science Inter...   \n",
       "3  19 Jan 2022    The 9 Books That Changed My Perspective in 2019   \n",
       "4  19 Jan 2022  Interview with the Director of AI Research @ N...   \n",
       "\n",
       "  External Video ID  Video Length  \\\n",
       "0       KQ80oD_boBM          2191   \n",
       "1       smeFkHwnM_k            51   \n",
       "2       vfV4nm004VQ          2686   \n",
       "3       3TrAYmrmA8o           980   \n",
       "4       Xgg7dIKys9E          2904   \n",
       "\n",
       "                                     Thumbnail link  Views  Video Likes Added  \\\n",
       "0  https://i.ytimg.com/vi/KQ80oD_boBM/hqdefault.jpg     13                  0   \n",
       "1  https://i.ytimg.com/vi/smeFkHwnM_k/hqdefault.jpg      2                  0   \n",
       "2  https://i.ytimg.com/vi/vfV4nm004VQ/hqdefault.jpg     10                  0   \n",
       "3  https://i.ytimg.com/vi/3TrAYmrmA8o/hqdefault.jpg      1                  0   \n",
       "4  https://i.ytimg.com/vi/Xgg7dIKys9E/hqdefault.jpg      1                  0   \n",
       "\n",
       "   Video Dislikes Added  Video Likes Removed  User Subscriptions Added  \\\n",
       "0                     0                    0                         0   \n",
       "1                     0                    0                         1   \n",
       "2                     0                    0                         0   \n",
       "3                     0                    0                         0   \n",
       "4                     0                    0                         0   \n",
       "\n",
       "   User Subscriptions Removed  Average View Percentage  Average Watch Time  \\\n",
       "0                           0                 0.069055          151.300154   \n",
       "1                           0                 0.471255           24.034000   \n",
       "2                           0                 0.126049          338.567500   \n",
       "3                           0                 0.011508           11.278000   \n",
       "4                           0                 0.007541           21.900000   \n",
       "\n",
       "   User Comments Added  \n",
       "0                    0  \n",
       "1                    0  \n",
       "2                    0  \n",
       "3                    0  \n",
       "4                    0  "
      ]
     },
     "execution_count": 37,
     "metadata": {},
     "output_type": "execute_result"
    }
   ],
   "source": [
    "df_ts.head()"
   ]
  },
  {
   "cell_type": "code",
   "execution_count": 38,
   "metadata": {},
   "outputs": [
    {
     "data": {
      "text/plain": [
       "223"
      ]
     },
     "execution_count": 38,
     "metadata": {},
     "output_type": "execute_result"
    }
   ],
   "source": [
    "len(df_ts['Video Title'].unique())"
   ]
  },
  {
   "cell_type": "code",
   "execution_count": 39,
   "metadata": {},
   "outputs": [],
   "source": [
    "df_ts = df_ts.rename(columns={'Video Title':'title'})"
   ]
  },
  {
   "cell_type": "markdown",
   "metadata": {},
   "source": [
    "this shows that time_series data too contains 223 videos"
   ]
  },
  {
   "cell_type": "markdown",
   "metadata": {},
   "source": [
    "# What information can thumbnails provide?\n",
    "\n",
    "Thumbnails are an easy way to attract or lose some one. We can ask following question from Thumbnails;\n",
    "- Do most viewed videos have Human Face in thumbnails?\n",
    "- Do all most viewed  videos have/lack Human Face in thumbnails?\n",
    "- Do least viewed videos have Human Face in thumbnails?\n",
    "- Do all least viewed videos have/lack human face?\n",
    "- Does text in thumbnail match to Title in most viewed videos?\n",
    "- Does text in thumbnail math to Title in least viewed videos?\n",
    "- What were the characteristics of words in Thumbnail Text for most viewed videos?\n",
    "- What were the characteristics of words in Thumbnail Text for least viewed videos?\n",
    "- Based on Human face in Thumbnail and Text in thumbnail vs Text in Title, can we predict impressions/CTR for some videos?"
   ]
  },
  {
   "cell_type": "markdown",
   "metadata": {},
   "source": [
    "# Following portion is adding face 0/1 in the video thumbnail"
   ]
  },
  {
   "cell_type": "markdown",
   "metadata": {},
   "source": [
    "## Getting Videos' Thumbnails for Analysis"
   ]
  },
  {
   "cell_type": "markdown",
   "metadata": {},
   "source": [
    "I'll add a column 'face' in the videos dataset to represent whether the thumbnail contains human face or not?\n",
    "\n",
    "1 => contains human face,                   0 => does not contain human face"
   ]
  },
  {
   "cell_type": "markdown",
   "metadata": {},
   "source": [
    "best_viewed_sample = list(sub_videos[sub_videos['views']>18524].sample(30)['title'])"
   ]
  },
  {
   "cell_type": "markdown",
   "metadata": {},
   "source": [
    "thumbnails_links = [(i, j) for i, j in zip(df_ts['title'].unique(), df_ts['Thumbnail link'].unique())]"
   ]
  },
  {
   "cell_type": "markdown",
   "metadata": {},
   "source": [
    "sub_videos= sub_videos.reset_index().drop('index', axis=1)"
   ]
  },
  {
   "cell_type": "markdown",
   "metadata": {},
   "source": [
    "> the below cells contains methods methods for face detection and data set labelling"
   ]
  },
  {
   "cell_type": "markdown",
   "metadata": {},
   "source": [
    "sub_videos['face'] = 0  # column tells whether thumnail contains human face or not\n",
    "sub_videos['face'].head(2)"
   ]
  },
  {
   "cell_type": "markdown",
   "metadata": {},
   "source": [
    " fetching and processing images/thumbnails\n",
    "\n",
    " from pytesseract import pytesseract\n",
    "import cv2\n",
    "import urllib\n",
    "import dlib\n",
    "\n",
    "detector = dlib.get_frontal_face_detector()\n",
    " pytesseract.tesseract_cmd = r'/usr/bin/tesseract'"
   ]
  },
  {
   "cell_type": "markdown",
   "metadata": {},
   "source": [
    "df_ts['face'] = 0"
   ]
  },
  {
   "cell_type": "markdown",
   "metadata": {},
   "source": [
    "def detect(f):\n",
    "    img = f\n",
    "    dets = detector(img, 1)\n",
    "    return dets\n",
    "\n",
    "def face_text(url, title):\n",
    "    # open image\n",
    "    try:\n",
    "        resp = urllib.request.urlopen(url)\n",
    "    except:\n",
    "        resp = None\n",
    "    if resp is not None:\n",
    "        image = np.asarray(bytearray(resp.read()), dtype=\"uint8\")\n",
    "        image = cv2.imdecode(image, cv2.IMREAD_COLOR)\n",
    "        \n",
    "        # extract text from image\n",
    "        # text = pytesseract.image_to_string(image)\n",
    "        # sub_videos.loc[sub_videos['title']==title, 'thumbnail_text']=text\n",
    "        \n",
    "        # detect faces in images\n",
    "        faces = detect(f=image)\n",
    "        if len(faces)==0:\n",
    "            sub_videos.loc[sub_videos['title']==title, 'face']=0\n",
    "            df_ts.loc[df_ts['title']==title, 'face']=0\n",
    "        else:\n",
    "            sub_videos.loc[sub_videos['title']==title, 'face']=1\n",
    "            df_ts.loc[df_ts['title']==title, 'face']=1\n",
    "    else:\n",
    "            # sub_videos.loc[sub_videos['title']==title, 'thumbnail_text']=None\n",
    "            sub_videos.loc[sub_videos['title']==title, 'face']=None\n",
    "            df_ts.loc[df_ts['title']==title, 'face']=None"
   ]
  },
  {
   "cell_type": "markdown",
   "metadata": {},
   "source": [
    "for title, link in thumbnails_links:\n",
    "    face_text(link, title)"
   ]
  },
  {
   "cell_type": "code",
   "execution_count": 63,
   "metadata": {},
   "outputs": [
    {
     "data": {
      "text/plain": [
       "{'neg': 0.259, 'neu': 0.741, 'pos': 0.0, 'compound': -0.1027}"
      ]
     },
     "execution_count": 63,
     "metadata": {},
     "output_type": "execute_result"
    }
   ],
   "source": [
    "from nltk.sentiment import SentimentIntensityAnalyzer\n",
    "sia = SentimentIntensityAnalyzer()\n",
    "sia.polarity_scores(\"how hard it can be?\")"
   ]
  }
 ],
 "metadata": {
  "interpreter": {
   "hash": "bb0f5701c03ddd38f0e0b450f779f3e93bad25db4655e6e4e1c1184469629b06"
  },
  "kernelspec": {
   "display_name": "Python 3.9.7 ('ds_code-Sb-xMZMk')",
   "language": "python",
   "name": "python3"
  },
  "language_info": {
   "codemirror_mode": {
    "name": "ipython",
    "version": 3
   },
   "file_extension": ".py",
   "mimetype": "text/x-python",
   "name": "python",
   "nbconvert_exporter": "python",
   "pygments_lexer": "ipython3",
   "version": "3.9.7"
  },
  "orig_nbformat": 4
 },
 "nbformat": 4,
 "nbformat_minor": 2
}
