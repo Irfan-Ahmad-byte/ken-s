{
 "cells": [
  {
   "cell_type": "code",
   "execution_count": 2,
   "id": "08d35e65",
   "metadata": {
    "_cell_guid": "b1076dfc-b9ad-4769-8c92-a6c4dae69d19",
    "_uuid": "8f2839f25d086af736a60e9eeb907d3b93b6e0e5",
    "execution": {
     "iopub.execute_input": "2022-01-28T08:03:56.601938Z",
     "iopub.status.busy": "2022-01-28T08:03:56.600669Z",
     "iopub.status.idle": "2022-01-28T08:03:56.625318Z",
     "shell.execute_reply": "2022-01-28T08:03:56.626182Z",
     "shell.execute_reply.started": "2022-01-28T07:37:41.199595Z"
    },
    "papermill": {
     "duration": 0.044401,
     "end_time": "2022-01-28T08:03:56.626742",
     "exception": false,
     "start_time": "2022-01-28T08:03:56.582341",
     "status": "completed"
    },
    "tags": []
   },
   "outputs": [
    {
     "name": "stderr",
     "output_type": "stream",
     "text": [
      "/home/irfan/.local/share/virtualenvs/ds_code-Sb-xMZMk/lib/python3.9/site-packages/pandas/compat/__init__.py:124: UserWarning: Could not import the lzma module. Your installed Python is incomplete. Attempting to use lzma compression will result in a RuntimeError.\n",
      "  warnings.warn(msg)\n"
     ]
    }
   ],
   "source": [
    "# This Python 3 environment comes with many helpful analytics libraries installed\n",
    "# It is defined by the kaggle/python Docker image: https://github.com/kaggle/docker-python\n",
    "# For example, here's several helpful packages to load\n",
    "\n",
    "import numpy as np # linear algebra\n",
    "import pandas as pd # data processing, CSV file I/O (e.g. pd.read_csv)\n",
    "\n",
    "# Input data files are available in the read-only \"../input/\" directory\n",
    "# For example, running this (by clicking run or pressing Shift+Enter) will list all files under the input directory\n",
    "\n",
    "import os\n",
    "# for dirname, _, filenames in os.walk('/kaggle/input'):\n",
    "#     for filename in filenames:\n",
    "#         print(os.path.join(dirname, filename))\n",
    "\n",
    "# You can write up to 20GB to the current directory (/kaggle/working/) that gets preserved as output when you create a version using \"Save & Run All\" \n",
    "# You can also write temporary files to /kaggle/temp/, but they won't be saved outside of the current session"
   ]
  },
  {
   "cell_type": "markdown",
   "id": "6c205670",
   "metadata": {},
   "source": [
    "# Ken Jee's YouTube Channel"
   ]
  },
  {
   "cell_type": "markdown",
   "id": "ed7d247b",
   "metadata": {
    "papermill": {
     "duration": 0.021159,
     "end_time": "2022-01-28T08:03:56.666988",
     "exception": false,
     "start_time": "2022-01-28T08:03:56.645829",
     "status": "completed"
    },
    "tags": []
   },
   "source": [
    "# Summary code \n",
    "In this notebook I very lightly explore the data. The goal of this is to get you familiar with the basic features in the data so that you can start exploring it on your own. "
   ]
  },
  {
   "cell_type": "code",
   "execution_count": 31,
   "id": "9f1915bc",
   "metadata": {
    "execution": {
     "iopub.execute_input": "2022-01-28T08:03:56.706504Z",
     "iopub.status.busy": "2022-01-28T08:03:56.705623Z",
     "iopub.status.idle": "2022-01-28T08:03:56.708761Z",
     "shell.execute_reply": "2022-01-28T08:03:56.709648Z",
     "shell.execute_reply.started": "2022-01-28T07:37:42.118709Z"
    },
    "papermill": {
     "duration": 0.024873,
     "end_time": "2022-01-28T08:03:56.709894",
     "exception": false,
     "start_time": "2022-01-28T08:03:56.685021",
     "status": "completed"
    },
    "tags": []
   },
   "outputs": [],
   "source": [
    "import matplotlib.pyplot as plt\n",
    "import seaborn as sns"
   ]
  },
  {
   "cell_type": "code",
   "execution_count": 4,
   "id": "a13960c5",
   "metadata": {
    "execution": {
     "iopub.execute_input": "2022-01-28T08:03:56.744115Z",
     "iopub.status.busy": "2022-01-28T08:03:56.743420Z",
     "iopub.status.idle": "2022-01-28T08:03:57.615376Z",
     "shell.execute_reply": "2022-01-28T08:03:57.614808Z",
     "shell.execute_reply.started": "2022-01-28T07:37:42.940586Z"
    },
    "papermill": {
     "duration": 0.889179,
     "end_time": "2022-01-28T08:03:57.615519",
     "exception": false,
     "start_time": "2022-01-28T08:03:56.726340",
     "status": "completed"
    },
    "tags": []
   },
   "outputs": [],
   "source": [
    "#read in data \n",
    "df_vid = pd.read_csv('Aggregated_Metrics_By_Video.csv')\n",
    "df_vid_subs = pd.read_csv('Aggregated_Metrics_By_Country_And_Subscriber_Status.csv.zip')\n",
    "df_ts = pd.read_csv('Video_Performance_Over_Time.csv.zip')\n",
    "df_comments = pd.read_csv('All_Comments_Final.csv.zip')"
   ]
  },
  {
   "cell_type": "code",
   "execution_count": 5,
   "id": "e7a91c2c",
   "metadata": {
    "execution": {
     "iopub.execute_input": "2022-01-28T08:03:57.648002Z",
     "iopub.status.busy": "2022-01-28T08:03:57.647010Z",
     "iopub.status.idle": "2022-01-28T08:03:57.655111Z",
     "shell.execute_reply": "2022-01-28T08:03:57.655637Z",
     "shell.execute_reply.started": "2022-01-28T07:37:44.627520Z"
    },
    "papermill": {
     "duration": 0.02634,
     "end_time": "2022-01-28T08:03:57.655797",
     "exception": false,
     "start_time": "2022-01-28T08:03:57.629457",
     "status": "completed"
    },
    "tags": []
   },
   "outputs": [
    {
     "name": "stdout",
     "output_type": "stream",
     "text": [
      "Index(['Video', 'Video title', 'Video pub­lish time', 'Com­ments ad­ded',\n",
      "       'Shares', 'Dis­likes', 'Likes', 'Sub­scribers lost',\n",
      "       'Sub­scribers gained', 'RPM (USD)', 'CPM (USD)',\n",
      "       'Av­er­age per­cent­age viewed (%)', 'Av­er­age view dur­a­tion',\n",
      "       'Views', 'Watch time (hours)', 'Sub­scribers',\n",
      "       'Your es­tim­ated rev­en­ue (USD)', 'Im­pres­sions',\n",
      "       'Im­pres­sions click-through rate (%)'],\n",
      "      dtype='object')\n",
      "Index(['Video Title', 'External Video ID', 'Video Length', 'Thumbnail link',\n",
      "       'Country Code', 'Is Subscribed', 'Views', 'Video Likes Added',\n",
      "       'Video Dislikes Added', 'Video Likes Removed',\n",
      "       'User Subscriptions Added', 'User Subscriptions Removed',\n",
      "       'Average View Percentage', 'Average Watch Time', 'User Comments Added'],\n",
      "      dtype='object')\n",
      "Index(['Date', 'Video Title', 'External Video ID', 'Video Length',\n",
      "       'Thumbnail link', 'Views', 'Video Likes Added', 'Video Dislikes Added',\n",
      "       'Video Likes Removed', 'User Subscriptions Added',\n",
      "       'User Subscriptions Removed', 'Average View Percentage',\n",
      "       'Average Watch Time', 'User Comments Added'],\n",
      "      dtype='object')\n",
      "Index(['Comments', 'Comment_ID', 'Reply_Count', 'Like_Count', 'Date', 'VidId',\n",
      "       'user_ID'],\n",
      "      dtype='object')\n"
     ]
    }
   ],
   "source": [
    "#look at columns for each dataframe \n",
    "print(df_vid.columns)\n",
    "print(df_vid_subs.columns)\n",
    "print(df_ts.columns)\n",
    "print(df_comments.columns)\n"
   ]
  },
  {
   "cell_type": "markdown",
   "id": "ea29e8c1",
   "metadata": {},
   "source": [
    "### 1st row contains some aggregates, that may be confusing for now"
   ]
  },
  {
   "cell_type": "code",
   "execution_count": 6,
   "id": "df79c5be",
   "metadata": {},
   "outputs": [
    {
     "data": {
      "text/html": [
       "<div>\n",
       "<style scoped>\n",
       "    .dataframe tbody tr th:only-of-type {\n",
       "        vertical-align: middle;\n",
       "    }\n",
       "\n",
       "    .dataframe tbody tr th {\n",
       "        vertical-align: top;\n",
       "    }\n",
       "\n",
       "    .dataframe thead th {\n",
       "        text-align: right;\n",
       "    }\n",
       "</style>\n",
       "<table border=\"1\" class=\"dataframe\">\n",
       "  <thead>\n",
       "    <tr style=\"text-align: right;\">\n",
       "      <th></th>\n",
       "      <th>Video</th>\n",
       "      <th>Video title</th>\n",
       "      <th>Video pub­lish time</th>\n",
       "      <th>Com­ments ad­ded</th>\n",
       "      <th>Shares</th>\n",
       "      <th>Dis­likes</th>\n",
       "      <th>Likes</th>\n",
       "      <th>Sub­scribers lost</th>\n",
       "      <th>Sub­scribers gained</th>\n",
       "      <th>RPM (USD)</th>\n",
       "      <th>CPM (USD)</th>\n",
       "      <th>Av­er­age per­cent­age viewed (%)</th>\n",
       "      <th>Av­er­age view dur­a­tion</th>\n",
       "      <th>Views</th>\n",
       "      <th>Watch time (hours)</th>\n",
       "      <th>Sub­scribers</th>\n",
       "      <th>Your es­tim­ated rev­en­ue (USD)</th>\n",
       "      <th>Im­pres­sions</th>\n",
       "      <th>Im­pres­sions click-through rate (%)</th>\n",
       "    </tr>\n",
       "  </thead>\n",
       "  <tbody>\n",
       "    <tr>\n",
       "      <th>1</th>\n",
       "      <td>4OZip0cgOho</td>\n",
       "      <td>How I Would Learn Data Science (If I Had to St...</td>\n",
       "      <td>May 8, 2020</td>\n",
       "      <td>907</td>\n",
       "      <td>9583</td>\n",
       "      <td>942</td>\n",
       "      <td>46903</td>\n",
       "      <td>451</td>\n",
       "      <td>46904</td>\n",
       "      <td>6.353</td>\n",
       "      <td>12.835</td>\n",
       "      <td>36.65</td>\n",
       "      <td>0:03:09</td>\n",
       "      <td>1253559</td>\n",
       "      <td>65850.7042</td>\n",
       "      <td>46453</td>\n",
       "      <td>7959.533</td>\n",
       "      <td>26498799</td>\n",
       "      <td>3.14</td>\n",
       "    </tr>\n",
       "    <tr>\n",
       "      <th>2</th>\n",
       "      <td>78LjdAAw0wA</td>\n",
       "      <td>100K Channel Update + AMA Stream!</td>\n",
       "      <td>Nov 12, 2020</td>\n",
       "      <td>412</td>\n",
       "      <td>4</td>\n",
       "      <td>4</td>\n",
       "      <td>130</td>\n",
       "      <td>15</td>\n",
       "      <td>12</td>\n",
       "      <td>2.668</td>\n",
       "      <td>6.259</td>\n",
       "      <td>6.26</td>\n",
       "      <td>0:05:14</td>\n",
       "      <td>2291</td>\n",
       "      <td>200.2966</td>\n",
       "      <td>-3</td>\n",
       "      <td>6.113</td>\n",
       "      <td>188318</td>\n",
       "      <td>0.72</td>\n",
       "    </tr>\n",
       "  </tbody>\n",
       "</table>\n",
       "</div>"
      ],
      "text/plain": [
       "         Video                                        Video title  \\\n",
       "1  4OZip0cgOho  How I Would Learn Data Science (If I Had to St...   \n",
       "2  78LjdAAw0wA                  100K Channel Update + AMA Stream!   \n",
       "\n",
       "  Video pub­lish time  Com­ments ad­ded  Shares  Dis­likes  Likes  \\\n",
       "1         May 8, 2020               907    9583        942  46903   \n",
       "2        Nov 12, 2020               412       4          4    130   \n",
       "\n",
       "   Sub­scribers lost  Sub­scribers gained  RPM (USD)  CPM (USD)  \\\n",
       "1                451                46904      6.353     12.835   \n",
       "2                 15                   12      2.668      6.259   \n",
       "\n",
       "   Av­er­age per­cent­age viewed (%) Av­er­age view dur­a­tion    Views  \\\n",
       "1                              36.65                   0:03:09  1253559   \n",
       "2                               6.26                   0:05:14     2291   \n",
       "\n",
       "   Watch time (hours)  Sub­scribers  Your es­tim­ated rev­en­ue (USD)  \\\n",
       "1          65850.7042         46453                          7959.533   \n",
       "2            200.2966            -3                             6.113   \n",
       "\n",
       "   Im­pres­sions  Im­pres­sions click-through rate (%)  \n",
       "1       26498799                                  3.14  \n",
       "2         188318                                  0.72  "
      ]
     },
     "execution_count": 6,
     "metadata": {},
     "output_type": "execute_result"
    }
   ],
   "source": [
    "df_vid = df_vid[1:]\n",
    "df_vid.head(2)"
   ]
  },
  {
   "cell_type": "code",
   "execution_count": 7,
   "id": "c8458f95",
   "metadata": {},
   "outputs": [
    {
     "data": {
      "text/plain": [
       "Video                                    object\n",
       "Video title                              object\n",
       "Video pub­lish time                      object\n",
       "Com­ments ad­ded                          int64\n",
       "Shares                                    int64\n",
       "Dis­likes                                 int64\n",
       "Likes                                     int64\n",
       "Sub­scribers lost                         int64\n",
       "Sub­scribers gained                       int64\n",
       "RPM (USD)                               float64\n",
       "CPM (USD)                               float64\n",
       "Av­er­age per­cent­age viewed (%)       float64\n",
       "Av­er­age view dur­a­tion                object\n",
       "Views                                     int64\n",
       "Watch time (hours)                      float64\n",
       "Sub­scribers                              int64\n",
       "Your es­tim­ated rev­en­ue (USD)        float64\n",
       "Im­pres­sions                             int64\n",
       "Im­pres­sions click-through rate (%)    float64\n",
       "dtype: object"
      ]
     },
     "execution_count": 7,
     "metadata": {},
     "output_type": "execute_result"
    }
   ],
   "source": [
    "df_vid.dtypes"
   ]
  },
  {
   "cell_type": "markdown",
   "id": "32997ee9",
   "metadata": {},
   "source": [
    "### Let's rename columns to some short and suitable names"
   ]
  },
  {
   "cell_type": "code",
   "execution_count": 8,
   "id": "2d9f2b7b",
   "metadata": {},
   "outputs": [],
   "source": [
    "df_vid = df_vid.rename(columns={'Video':'id', 'Video title':'title', 'Video pub­lish time':'date', \n",
    "                        'Com­ments ad­ded':'comments','Shares':'shares', 'Dis­likes':'dislikes',\n",
    "                        'Likes':'likes','Sub­scribers lost':'lost_subs',\n",
    "                        'Sub­scribers gained':'gained_subs','RPM (USD)':'rpm', 'CPM (USD)':'cpm',\n",
    "                        'Av­er­age per­cent­age viewed (%)':'average_view_pct',\n",
    "                        'Av­er­age view dur­a­tion':'average_view_time','Views':'views',\n",
    "                        'Watch time (hours)':'watch_time','Sub­scribers':'subscribers',\n",
    "                        'Your es­tim­ated rev­en­ue (USD)':'estimated_revenue','Im­pres­sions':'impressions',\n",
    "                        'Im­pres­sions click-through rate (%)':'CTRate'})"
   ]
  },
  {
   "cell_type": "code",
   "execution_count": 9,
   "id": "b418b45c",
   "metadata": {},
   "outputs": [
    {
     "data": {
      "text/plain": [
       "Index(['id', 'title', 'date', 'comments', 'shares', 'dislikes', 'likes',\n",
       "       'lost_subs', 'gained_subs', 'rpm', 'cpm', 'average_view_pct',\n",
       "       'average_view_time', 'views', 'watch_time', 'subscribers',\n",
       "       'estimated_revenue', 'impressions', 'CTRate'],\n",
       "      dtype='object')"
      ]
     },
     "execution_count": 9,
     "metadata": {},
     "output_type": "execute_result"
    }
   ],
   "source": [
    "videos = df_vid\n",
    "videos.columns"
   ]
  },
  {
   "cell_type": "markdown",
   "id": "a2034aac",
   "metadata": {},
   "source": [
    "# Problem Set / Questions to be Answered"
   ]
  },
  {
   "cell_type": "markdown",
   "id": "246350d9",
   "metadata": {},
   "source": [
    "- What topics get the most viewership?\n",
    "- What do are people asking for in the comments?\n",
    "- What impacts watch time and click through rate?\n",
    "- Can we predict if a title will be clickable? \n",
    "- What thumbnails are most appealing (thumbnail data available in df_agg)\n",
    "- What is different about my \"viral\" videos and normal videos\n",
    "- Who is the core audience of my channel?"
   ]
  },
  {
   "cell_type": "markdown",
   "id": "9d99fd50",
   "metadata": {},
   "source": [
    "### What 'Aggregated_Metrics_By_Videos.csv' data set tells?"
   ]
  },
  {
   "cell_type": "code",
   "execution_count": 10,
   "id": "c9886501",
   "metadata": {},
   "outputs": [
    {
     "data": {
      "text/html": [
       "<div>\n",
       "<style scoped>\n",
       "    .dataframe tbody tr th:only-of-type {\n",
       "        vertical-align: middle;\n",
       "    }\n",
       "\n",
       "    .dataframe tbody tr th {\n",
       "        vertical-align: top;\n",
       "    }\n",
       "\n",
       "    .dataframe thead th {\n",
       "        text-align: right;\n",
       "    }\n",
       "</style>\n",
       "<table border=\"1\" class=\"dataframe\">\n",
       "  <thead>\n",
       "    <tr style=\"text-align: right;\">\n",
       "      <th></th>\n",
       "      <th>id</th>\n",
       "      <th>title</th>\n",
       "      <th>date</th>\n",
       "      <th>comments</th>\n",
       "      <th>shares</th>\n",
       "      <th>dislikes</th>\n",
       "      <th>likes</th>\n",
       "      <th>lost_subs</th>\n",
       "      <th>gained_subs</th>\n",
       "      <th>rpm</th>\n",
       "      <th>cpm</th>\n",
       "      <th>average_view_pct</th>\n",
       "      <th>average_view_time</th>\n",
       "      <th>views</th>\n",
       "      <th>watch_time</th>\n",
       "      <th>subscribers</th>\n",
       "      <th>estimated_revenue</th>\n",
       "      <th>impressions</th>\n",
       "      <th>CTRate</th>\n",
       "    </tr>\n",
       "  </thead>\n",
       "  <tbody>\n",
       "    <tr>\n",
       "      <th>1</th>\n",
       "      <td>4OZip0cgOho</td>\n",
       "      <td>How I Would Learn Data Science (If I Had to St...</td>\n",
       "      <td>May 8, 2020</td>\n",
       "      <td>907</td>\n",
       "      <td>9583</td>\n",
       "      <td>942</td>\n",
       "      <td>46903</td>\n",
       "      <td>451</td>\n",
       "      <td>46904</td>\n",
       "      <td>6.353</td>\n",
       "      <td>12.835</td>\n",
       "      <td>36.65</td>\n",
       "      <td>0:03:09</td>\n",
       "      <td>1253559</td>\n",
       "      <td>65850.7042</td>\n",
       "      <td>46453</td>\n",
       "      <td>7959.533</td>\n",
       "      <td>26498799</td>\n",
       "      <td>3.14</td>\n",
       "    </tr>\n",
       "    <tr>\n",
       "      <th>2</th>\n",
       "      <td>78LjdAAw0wA</td>\n",
       "      <td>100K Channel Update + AMA Stream!</td>\n",
       "      <td>Nov 12, 2020</td>\n",
       "      <td>412</td>\n",
       "      <td>4</td>\n",
       "      <td>4</td>\n",
       "      <td>130</td>\n",
       "      <td>15</td>\n",
       "      <td>12</td>\n",
       "      <td>2.668</td>\n",
       "      <td>6.259</td>\n",
       "      <td>6.26</td>\n",
       "      <td>0:05:14</td>\n",
       "      <td>2291</td>\n",
       "      <td>200.2966</td>\n",
       "      <td>-3</td>\n",
       "      <td>6.113</td>\n",
       "      <td>188318</td>\n",
       "      <td>0.72</td>\n",
       "    </tr>\n",
       "  </tbody>\n",
       "</table>\n",
       "</div>"
      ],
      "text/plain": [
       "            id                                              title  \\\n",
       "1  4OZip0cgOho  How I Would Learn Data Science (If I Had to St...   \n",
       "2  78LjdAAw0wA                  100K Channel Update + AMA Stream!   \n",
       "\n",
       "           date  comments  shares  dislikes  likes  lost_subs  gained_subs  \\\n",
       "1   May 8, 2020       907    9583       942  46903        451        46904   \n",
       "2  Nov 12, 2020       412       4         4    130         15           12   \n",
       "\n",
       "     rpm     cpm  average_view_pct average_view_time    views  watch_time  \\\n",
       "1  6.353  12.835             36.65           0:03:09  1253559  65850.7042   \n",
       "2  2.668   6.259              6.26           0:05:14     2291    200.2966   \n",
       "\n",
       "   subscribers  estimated_revenue  impressions  CTRate  \n",
       "1        46453           7959.533     26498799    3.14  \n",
       "2           -3              6.113       188318    0.72  "
      ]
     },
     "execution_count": 10,
     "metadata": {},
     "output_type": "execute_result"
    }
   ],
   "source": [
    "videos.head(2)"
   ]
  },
  {
   "cell_type": "markdown",
   "id": "4eb972d5",
   "metadata": {},
   "source": [
    "the data set tells for every video:\n",
    "- comments it gained\n",
    "- how much it was shared\n",
    "- how much it was liked and disliked\n",
    "- subscribers\n",
    "- view stats\n",
    "- click-through rate"
   ]
  },
  {
   "cell_type": "markdown",
   "id": "33d332f2",
   "metadata": {},
   "source": [
    "How many videos?"
   ]
  },
  {
   "cell_type": "code",
   "execution_count": 11,
   "id": "a3ee005a",
   "metadata": {},
   "outputs": [
    {
     "data": {
      "text/plain": [
       "(223, 19)"
      ]
     },
     "execution_count": 11,
     "metadata": {},
     "output_type": "execute_result"
    }
   ],
   "source": [
    "videos.shape"
   ]
  },
  {
   "cell_type": "markdown",
   "id": "4361107d",
   "metadata": {},
   "source": [
    "## Q1- What topics get the most viewership?"
   ]
  },
  {
   "cell_type": "markdown",
   "id": "f1bbfd9f",
   "metadata": {},
   "source": [
    "# Making Observations"
   ]
  },
  {
   "cell_type": "markdown",
   "id": "bbcd961b",
   "metadata": {},
   "source": [
    "the data set contains some vids with -ve subscribers, lets filter them out"
   ]
  },
  {
   "cell_type": "code",
   "execution_count": 12,
   "id": "3ea51cb6",
   "metadata": {},
   "outputs": [
    {
     "data": {
      "text/plain": [
       "(216, 19)"
      ]
     },
     "execution_count": 12,
     "metadata": {},
     "output_type": "execute_result"
    }
   ],
   "source": [
    "sub_videos = videos[videos['subscribers']>0]\n",
    "sub_videos.shape"
   ]
  },
  {
   "cell_type": "code",
   "execution_count": 13,
   "id": "5dbbe11f",
   "metadata": {},
   "outputs": [
    {
     "data": {
      "text/plain": [
       "96.8609865470852"
      ]
     },
     "execution_count": 13,
     "metadata": {},
     "output_type": "execute_result"
    }
   ],
   "source": [
    "(216/223)*100"
   ]
  },
  {
   "cell_type": "markdown",
   "id": "fe6e9a24",
   "metadata": {},
   "source": [
    "96.9% videos did gain subscribers."
   ]
  },
  {
   "cell_type": "code",
   "execution_count": 14,
   "id": "8a2b9a48",
   "metadata": {},
   "outputs": [
    {
     "data": {
      "text/html": [
       "<div>\n",
       "<style scoped>\n",
       "    .dataframe tbody tr th:only-of-type {\n",
       "        vertical-align: middle;\n",
       "    }\n",
       "\n",
       "    .dataframe tbody tr th {\n",
       "        vertical-align: top;\n",
       "    }\n",
       "\n",
       "    .dataframe thead th {\n",
       "        text-align: right;\n",
       "    }\n",
       "</style>\n",
       "<table border=\"1\" class=\"dataframe\">\n",
       "  <thead>\n",
       "    <tr style=\"text-align: right;\">\n",
       "      <th></th>\n",
       "      <th>comments</th>\n",
       "      <th>shares</th>\n",
       "      <th>dislikes</th>\n",
       "      <th>likes</th>\n",
       "      <th>lost_subs</th>\n",
       "      <th>gained_subs</th>\n",
       "      <th>rpm</th>\n",
       "      <th>cpm</th>\n",
       "      <th>average_view_pct</th>\n",
       "      <th>views</th>\n",
       "      <th>watch_time</th>\n",
       "      <th>subscribers</th>\n",
       "      <th>estimated_revenue</th>\n",
       "      <th>impressions</th>\n",
       "      <th>CTRate</th>\n",
       "    </tr>\n",
       "  </thead>\n",
       "  <tbody>\n",
       "    <tr>\n",
       "      <th>count</th>\n",
       "      <td>216.000000</td>\n",
       "      <td>216.000000</td>\n",
       "      <td>216.000000</td>\n",
       "      <td>216.000000</td>\n",
       "      <td>216.000000</td>\n",
       "      <td>216.000000</td>\n",
       "      <td>216.000000</td>\n",
       "      <td>215.000000</td>\n",
       "      <td>216.000000</td>\n",
       "      <td>2.160000e+02</td>\n",
       "      <td>216.000000</td>\n",
       "      <td>216.000000</td>\n",
       "      <td>216.000000</td>\n",
       "      <td>2.160000e+02</td>\n",
       "      <td>216.000000</td>\n",
       "    </tr>\n",
       "    <tr>\n",
       "      <th>mean</th>\n",
       "      <td>61.601852</td>\n",
       "      <td>183.240741</td>\n",
       "      <td>17.967593</td>\n",
       "      <td>1038.115741</td>\n",
       "      <td>13.333333</td>\n",
       "      <td>606.129630</td>\n",
       "      <td>4.503509</td>\n",
       "      <td>11.533986</td>\n",
       "      <td>34.350046</td>\n",
       "      <td>2.569858e+04</td>\n",
       "      <td>1466.255796</td>\n",
       "      <td>592.796296</td>\n",
       "      <td>134.410125</td>\n",
       "      <td>4.639384e+05</td>\n",
       "      <td>3.095324</td>\n",
       "    </tr>\n",
       "    <tr>\n",
       "      <th>std</th>\n",
       "      <td>87.874322</td>\n",
       "      <td>744.525732</td>\n",
       "      <td>70.651216</td>\n",
       "      <td>3631.886949</td>\n",
       "      <td>33.720879</td>\n",
       "      <td>3353.954989</td>\n",
       "      <td>1.763560</td>\n",
       "      <td>3.321150</td>\n",
       "      <td>14.375554</td>\n",
       "      <td>9.096247e+04</td>\n",
       "      <td>4876.113005</td>\n",
       "      <td>3321.804153</td>\n",
       "      <td>562.989055</td>\n",
       "      <td>1.893355e+06</td>\n",
       "      <td>1.567778</td>\n",
       "    </tr>\n",
       "    <tr>\n",
       "      <th>min</th>\n",
       "      <td>2.000000</td>\n",
       "      <td>0.000000</td>\n",
       "      <td>0.000000</td>\n",
       "      <td>18.000000</td>\n",
       "      <td>0.000000</td>\n",
       "      <td>2.000000</td>\n",
       "      <td>0.000000</td>\n",
       "      <td>5.439000</td>\n",
       "      <td>7.320000</td>\n",
       "      <td>4.550000e+02</td>\n",
       "      <td>6.308900</td>\n",
       "      <td>1.000000</td>\n",
       "      <td>0.000000</td>\n",
       "      <td>1.863500e+04</td>\n",
       "      <td>0.490000</td>\n",
       "    </tr>\n",
       "    <tr>\n",
       "      <th>25%</th>\n",
       "      <td>19.000000</td>\n",
       "      <td>22.000000</td>\n",
       "      <td>1.000000</td>\n",
       "      <td>168.000000</td>\n",
       "      <td>2.000000</td>\n",
       "      <td>29.000000</td>\n",
       "      <td>3.320750</td>\n",
       "      <td>9.481000</td>\n",
       "      <td>23.975000</td>\n",
       "      <td>4.044500e+03</td>\n",
       "      <td>187.472575</td>\n",
       "      <td>22.750000</td>\n",
       "      <td>13.063250</td>\n",
       "      <td>9.947100e+04</td>\n",
       "      <td>1.965000</td>\n",
       "    </tr>\n",
       "    <tr>\n",
       "      <th>50%</th>\n",
       "      <td>37.000000</td>\n",
       "      <td>48.000000</td>\n",
       "      <td>4.000000</td>\n",
       "      <td>358.500000</td>\n",
       "      <td>7.000000</td>\n",
       "      <td>76.500000</td>\n",
       "      <td>4.348500</td>\n",
       "      <td>11.302000</td>\n",
       "      <td>35.500000</td>\n",
       "      <td>8.671500e+03</td>\n",
       "      <td>420.520800</td>\n",
       "      <td>66.000000</td>\n",
       "      <td>34.363000</td>\n",
       "      <td>1.542310e+05</td>\n",
       "      <td>2.905000</td>\n",
       "    </tr>\n",
       "    <tr>\n",
       "      <th>75%</th>\n",
       "      <td>65.250000</td>\n",
       "      <td>115.500000</td>\n",
       "      <td>11.000000</td>\n",
       "      <td>722.500000</td>\n",
       "      <td>14.000000</td>\n",
       "      <td>260.500000</td>\n",
       "      <td>5.427500</td>\n",
       "      <td>12.974500</td>\n",
       "      <td>43.462500</td>\n",
       "      <td>1.852425e+04</td>\n",
       "      <td>1157.035775</td>\n",
       "      <td>243.500000</td>\n",
       "      <td>97.246500</td>\n",
       "      <td>3.005855e+05</td>\n",
       "      <td>3.992500</td>\n",
       "    </tr>\n",
       "    <tr>\n",
       "      <th>max</th>\n",
       "      <td>907.000000</td>\n",
       "      <td>9583.000000</td>\n",
       "      <td>942.000000</td>\n",
       "      <td>46903.000000</td>\n",
       "      <td>451.000000</td>\n",
       "      <td>46904.000000</td>\n",
       "      <td>10.387000</td>\n",
       "      <td>37.786000</td>\n",
       "      <td>75.620000</td>\n",
       "      <td>1.253559e+06</td>\n",
       "      <td>65850.704200</td>\n",
       "      <td>46453.000000</td>\n",
       "      <td>7959.533000</td>\n",
       "      <td>2.649880e+07</td>\n",
       "      <td>8.620000</td>\n",
       "    </tr>\n",
       "  </tbody>\n",
       "</table>\n",
       "</div>"
      ],
      "text/plain": [
       "         comments       shares    dislikes         likes   lost_subs  \\\n",
       "count  216.000000   216.000000  216.000000    216.000000  216.000000   \n",
       "mean    61.601852   183.240741   17.967593   1038.115741   13.333333   \n",
       "std     87.874322   744.525732   70.651216   3631.886949   33.720879   \n",
       "min      2.000000     0.000000    0.000000     18.000000    0.000000   \n",
       "25%     19.000000    22.000000    1.000000    168.000000    2.000000   \n",
       "50%     37.000000    48.000000    4.000000    358.500000    7.000000   \n",
       "75%     65.250000   115.500000   11.000000    722.500000   14.000000   \n",
       "max    907.000000  9583.000000  942.000000  46903.000000  451.000000   \n",
       "\n",
       "        gained_subs         rpm         cpm  average_view_pct         views  \\\n",
       "count    216.000000  216.000000  215.000000        216.000000  2.160000e+02   \n",
       "mean     606.129630    4.503509   11.533986         34.350046  2.569858e+04   \n",
       "std     3353.954989    1.763560    3.321150         14.375554  9.096247e+04   \n",
       "min        2.000000    0.000000    5.439000          7.320000  4.550000e+02   \n",
       "25%       29.000000    3.320750    9.481000         23.975000  4.044500e+03   \n",
       "50%       76.500000    4.348500   11.302000         35.500000  8.671500e+03   \n",
       "75%      260.500000    5.427500   12.974500         43.462500  1.852425e+04   \n",
       "max    46904.000000   10.387000   37.786000         75.620000  1.253559e+06   \n",
       "\n",
       "         watch_time   subscribers  estimated_revenue   impressions      CTRate  \n",
       "count    216.000000    216.000000         216.000000  2.160000e+02  216.000000  \n",
       "mean    1466.255796    592.796296         134.410125  4.639384e+05    3.095324  \n",
       "std     4876.113005   3321.804153         562.989055  1.893355e+06    1.567778  \n",
       "min        6.308900      1.000000           0.000000  1.863500e+04    0.490000  \n",
       "25%      187.472575     22.750000          13.063250  9.947100e+04    1.965000  \n",
       "50%      420.520800     66.000000          34.363000  1.542310e+05    2.905000  \n",
       "75%     1157.035775    243.500000          97.246500  3.005855e+05    3.992500  \n",
       "max    65850.704200  46453.000000        7959.533000  2.649880e+07    8.620000  "
      ]
     },
     "execution_count": 14,
     "metadata": {},
     "output_type": "execute_result"
    }
   ],
   "source": [
    "sub_videos = sub_videos.sort_values(by='views')\n",
    "sub_videos.describe()"
   ]
  },
  {
   "cell_type": "markdown",
   "id": "1b49ffe1",
   "metadata": {},
   "source": [
    "75th percentile is 43.5 in avg view %age, 1.852425e+04 in views, 1157.035775 in watch_time"
   ]
  },
  {
   "cell_type": "code",
   "execution_count": 15,
   "id": "21558a4a",
   "metadata": {},
   "outputs": [
    {
     "data": {
      "text/plain": [
       "(54, 19)"
      ]
     },
     "execution_count": 15,
     "metadata": {},
     "output_type": "execute_result"
    }
   ],
   "source": [
    "sub_videos[sub_videos['views']>18524].shape"
   ]
  },
  {
   "cell_type": "markdown",
   "id": "01bc7c97",
   "metadata": {},
   "source": [
    "out of 223 videos 59 lie in 75th percentile, and 53 had more than 18.5k views"
   ]
  },
  {
   "cell_type": "code",
   "execution_count": 16,
   "id": "4abf66ec",
   "metadata": {},
   "outputs": [
    {
     "data": {
      "text/plain": [
       "46903"
      ]
     },
     "execution_count": 16,
     "metadata": {},
     "output_type": "execute_result"
    }
   ],
   "source": [
    "sub_videos[sub_videos['views']>18524]['likes'].max()"
   ]
  },
  {
   "cell_type": "code",
   "execution_count": 17,
   "id": "ce9632aa",
   "metadata": {},
   "outputs": [],
   "source": [
    "from collections import defaultdict"
   ]
  },
  {
   "cell_type": "code",
   "execution_count": 18,
   "id": "ea00cbff",
   "metadata": {},
   "outputs": [
    {
     "name": "stdout",
     "output_type": "stream",
     "text": [
      "to 11\n",
      "a 14\n",
      "Data 58\n",
      "Science 43\n",
      "- 11\n",
      "How 17\n",
      "I 13\n"
     ]
    }
   ],
   "source": [
    "words = defaultdict(int)\n",
    " \n",
    "# memoizing count\n",
    "for sub in sub_videos[sub_videos['views']>18000]['title']:\n",
    "    for wrd in sub.split():\n",
    "        words[wrd] += 1\n",
    " \n",
    "# getting max frequency\n",
    "for i in words:\n",
    "    if words[i] >10:\n",
    "        print(i, words[i])"
   ]
  },
  {
   "cell_type": "markdown",
   "id": "1b120027",
   "metadata": {},
   "source": [
    "### Conclusion1;\n",
    "\n",
    "**most common words in the titles of most viewed videos are *Data and Science***"
   ]
  },
  {
   "cell_type": "markdown",
   "id": "fd236bbf",
   "metadata": {},
   "source": [
    "Let's see what their release dates tell?"
   ]
  },
  {
   "cell_type": "code",
   "execution_count": 19,
   "id": "aeaff80b",
   "metadata": {},
   "outputs": [],
   "source": [
    "sub_videos['date'] = pd.to_datetime(sub_videos['date'])"
   ]
  },
  {
   "cell_type": "code",
   "execution_count": 20,
   "id": "f72d68c0",
   "metadata": {},
   "outputs": [
    {
     "data": {
      "text/plain": [
       "Timestamp('2018-11-14 00:00:00')"
      ]
     },
     "execution_count": 20,
     "metadata": {},
     "output_type": "execute_result"
    }
   ],
   "source": [
    "sub_videos[sub_videos['views']>18000]['date'].min()"
   ]
  },
  {
   "cell_type": "code",
   "execution_count": 21,
   "id": "936f33ca",
   "metadata": {},
   "outputs": [
    {
     "data": {
      "text/plain": [
       "Timestamp('2021-12-27 00:00:00')"
      ]
     },
     "execution_count": 21,
     "metadata": {},
     "output_type": "execute_result"
    }
   ],
   "source": [
    "sub_videos[sub_videos['views']>18000]['date'].max()"
   ]
  },
  {
   "cell_type": "code",
   "execution_count": 22,
   "id": "1b271a60",
   "metadata": {},
   "outputs": [
    {
     "data": {
      "text/plain": [
       "143"
      ]
     },
     "execution_count": 22,
     "metadata": {},
     "output_type": "execute_result"
    }
   ],
   "source": [
    "DS_vids = sub_videos[sub_videos['title'].str.contains('Data Science')]\n",
    "DS_vids['title'].count()"
   ]
  },
  {
   "cell_type": "markdown",
   "id": "5f022b24",
   "metadata": {},
   "source": [
    "From November 2018 to December 2021 there are 143 videos on Data Science. About 64% videos are on Data Science, in total data set."
   ]
  },
  {
   "cell_type": "code",
   "execution_count": 33,
   "id": "a97efbb5",
   "metadata": {},
   "outputs": [
    {
     "data": {
      "text/plain": [
       "44"
      ]
     },
     "execution_count": 33,
     "metadata": {},
     "output_type": "execute_result"
    }
   ],
   "source": [
    "DS_vids[DS_vids['views']>18000]['title'].count()"
   ]
  },
  {
   "cell_type": "markdown",
   "id": "c74ae8f1",
   "metadata": {},
   "source": [
    "out of 143 Data Science videos, 44 had more than 18000 views."
   ]
  },
  {
   "cell_type": "markdown",
   "id": "a8e2d1a7",
   "metadata": {},
   "source": [
    "Let's see what is the date range for these videos"
   ]
  },
  {
   "cell_type": "code",
   "execution_count": 34,
   "id": "d675764d",
   "metadata": {},
   "outputs": [
    {
     "data": {
      "text/plain": [
       "Timestamp('2018-11-14 00:00:00')"
      ]
     },
     "execution_count": 34,
     "metadata": {},
     "output_type": "execute_result"
    }
   ],
   "source": [
    "DS_vids[DS_vids['views']>18000]['date'].min()"
   ]
  },
  {
   "cell_type": "code",
   "execution_count": 35,
   "id": "4c2a485b",
   "metadata": {},
   "outputs": [],
   "source": [
    "DS_vids_copy = DS_vids.copy()\n",
    "DS_vids_copy['date'] = DS_vids_copy['date'].dt.to_period('Q')\n",
    "DS_vids_copy = DS_vids_copy.groupby('date')"
   ]
  },
  {
   "cell_type": "code",
   "execution_count": 36,
   "id": "f1337f45",
   "metadata": {},
   "outputs": [
    {
     "data": {
      "text/html": [
       "<div>\n",
       "<style scoped>\n",
       "    .dataframe tbody tr th:only-of-type {\n",
       "        vertical-align: middle;\n",
       "    }\n",
       "\n",
       "    .dataframe tbody tr th {\n",
       "        vertical-align: top;\n",
       "    }\n",
       "\n",
       "    .dataframe thead th {\n",
       "        text-align: right;\n",
       "    }\n",
       "</style>\n",
       "<table border=\"1\" class=\"dataframe\">\n",
       "  <thead>\n",
       "    <tr style=\"text-align: right;\">\n",
       "      <th></th>\n",
       "      <th>id</th>\n",
       "      <th>title</th>\n",
       "      <th>comments</th>\n",
       "      <th>shares</th>\n",
       "      <th>dislikes</th>\n",
       "      <th>likes</th>\n",
       "      <th>lost_subs</th>\n",
       "      <th>gained_subs</th>\n",
       "      <th>rpm</th>\n",
       "      <th>cpm</th>\n",
       "      <th>average_view_pct</th>\n",
       "      <th>average_view_time</th>\n",
       "      <th>views</th>\n",
       "      <th>watch_time</th>\n",
       "      <th>subscribers</th>\n",
       "      <th>estimated_revenue</th>\n",
       "      <th>impressions</th>\n",
       "      <th>CTRate</th>\n",
       "    </tr>\n",
       "    <tr>\n",
       "      <th>date</th>\n",
       "      <th></th>\n",
       "      <th></th>\n",
       "      <th></th>\n",
       "      <th></th>\n",
       "      <th></th>\n",
       "      <th></th>\n",
       "      <th></th>\n",
       "      <th></th>\n",
       "      <th></th>\n",
       "      <th></th>\n",
       "      <th></th>\n",
       "      <th></th>\n",
       "      <th></th>\n",
       "      <th></th>\n",
       "      <th></th>\n",
       "      <th></th>\n",
       "      <th></th>\n",
       "      <th></th>\n",
       "    </tr>\n",
       "  </thead>\n",
       "  <tbody>\n",
       "    <tr>\n",
       "      <th>2018Q4</th>\n",
       "      <td>2</td>\n",
       "      <td>2</td>\n",
       "      <td>2</td>\n",
       "      <td>2</td>\n",
       "      <td>2</td>\n",
       "      <td>2</td>\n",
       "      <td>2</td>\n",
       "      <td>2</td>\n",
       "      <td>2</td>\n",
       "      <td>2</td>\n",
       "      <td>2</td>\n",
       "      <td>2</td>\n",
       "      <td>2</td>\n",
       "      <td>2</td>\n",
       "      <td>2</td>\n",
       "      <td>2</td>\n",
       "      <td>2</td>\n",
       "      <td>2</td>\n",
       "    </tr>\n",
       "    <tr>\n",
       "      <th>2019Q1</th>\n",
       "      <td>7</td>\n",
       "      <td>7</td>\n",
       "      <td>7</td>\n",
       "      <td>7</td>\n",
       "      <td>7</td>\n",
       "      <td>7</td>\n",
       "      <td>7</td>\n",
       "      <td>7</td>\n",
       "      <td>7</td>\n",
       "      <td>7</td>\n",
       "      <td>7</td>\n",
       "      <td>7</td>\n",
       "      <td>7</td>\n",
       "      <td>7</td>\n",
       "      <td>7</td>\n",
       "      <td>7</td>\n",
       "      <td>7</td>\n",
       "      <td>7</td>\n",
       "    </tr>\n",
       "    <tr>\n",
       "      <th>2019Q2</th>\n",
       "      <td>6</td>\n",
       "      <td>6</td>\n",
       "      <td>6</td>\n",
       "      <td>6</td>\n",
       "      <td>6</td>\n",
       "      <td>6</td>\n",
       "      <td>6</td>\n",
       "      <td>6</td>\n",
       "      <td>6</td>\n",
       "      <td>6</td>\n",
       "      <td>6</td>\n",
       "      <td>6</td>\n",
       "      <td>6</td>\n",
       "      <td>6</td>\n",
       "      <td>6</td>\n",
       "      <td>6</td>\n",
       "      <td>6</td>\n",
       "      <td>6</td>\n",
       "    </tr>\n",
       "    <tr>\n",
       "      <th>2019Q3</th>\n",
       "      <td>9</td>\n",
       "      <td>9</td>\n",
       "      <td>9</td>\n",
       "      <td>9</td>\n",
       "      <td>9</td>\n",
       "      <td>9</td>\n",
       "      <td>9</td>\n",
       "      <td>9</td>\n",
       "      <td>9</td>\n",
       "      <td>9</td>\n",
       "      <td>9</td>\n",
       "      <td>9</td>\n",
       "      <td>9</td>\n",
       "      <td>9</td>\n",
       "      <td>9</td>\n",
       "      <td>9</td>\n",
       "      <td>9</td>\n",
       "      <td>9</td>\n",
       "    </tr>\n",
       "    <tr>\n",
       "      <th>2019Q4</th>\n",
       "      <td>9</td>\n",
       "      <td>9</td>\n",
       "      <td>9</td>\n",
       "      <td>9</td>\n",
       "      <td>9</td>\n",
       "      <td>9</td>\n",
       "      <td>9</td>\n",
       "      <td>9</td>\n",
       "      <td>9</td>\n",
       "      <td>9</td>\n",
       "      <td>9</td>\n",
       "      <td>9</td>\n",
       "      <td>9</td>\n",
       "      <td>9</td>\n",
       "      <td>9</td>\n",
       "      <td>9</td>\n",
       "      <td>9</td>\n",
       "      <td>9</td>\n",
       "    </tr>\n",
       "    <tr>\n",
       "      <th>2020Q1</th>\n",
       "      <td>21</td>\n",
       "      <td>21</td>\n",
       "      <td>21</td>\n",
       "      <td>21</td>\n",
       "      <td>21</td>\n",
       "      <td>21</td>\n",
       "      <td>21</td>\n",
       "      <td>21</td>\n",
       "      <td>21</td>\n",
       "      <td>21</td>\n",
       "      <td>21</td>\n",
       "      <td>21</td>\n",
       "      <td>21</td>\n",
       "      <td>21</td>\n",
       "      <td>21</td>\n",
       "      <td>21</td>\n",
       "      <td>21</td>\n",
       "      <td>21</td>\n",
       "    </tr>\n",
       "    <tr>\n",
       "      <th>2020Q2</th>\n",
       "      <td>27</td>\n",
       "      <td>27</td>\n",
       "      <td>27</td>\n",
       "      <td>27</td>\n",
       "      <td>27</td>\n",
       "      <td>27</td>\n",
       "      <td>27</td>\n",
       "      <td>27</td>\n",
       "      <td>27</td>\n",
       "      <td>26</td>\n",
       "      <td>27</td>\n",
       "      <td>27</td>\n",
       "      <td>27</td>\n",
       "      <td>27</td>\n",
       "      <td>27</td>\n",
       "      <td>27</td>\n",
       "      <td>27</td>\n",
       "      <td>27</td>\n",
       "    </tr>\n",
       "    <tr>\n",
       "      <th>2020Q3</th>\n",
       "      <td>29</td>\n",
       "      <td>29</td>\n",
       "      <td>29</td>\n",
       "      <td>29</td>\n",
       "      <td>29</td>\n",
       "      <td>29</td>\n",
       "      <td>29</td>\n",
       "      <td>29</td>\n",
       "      <td>29</td>\n",
       "      <td>29</td>\n",
       "      <td>29</td>\n",
       "      <td>29</td>\n",
       "      <td>29</td>\n",
       "      <td>29</td>\n",
       "      <td>29</td>\n",
       "      <td>29</td>\n",
       "      <td>29</td>\n",
       "      <td>29</td>\n",
       "    </tr>\n",
       "    <tr>\n",
       "      <th>2020Q4</th>\n",
       "      <td>10</td>\n",
       "      <td>10</td>\n",
       "      <td>10</td>\n",
       "      <td>10</td>\n",
       "      <td>10</td>\n",
       "      <td>10</td>\n",
       "      <td>10</td>\n",
       "      <td>10</td>\n",
       "      <td>10</td>\n",
       "      <td>10</td>\n",
       "      <td>10</td>\n",
       "      <td>10</td>\n",
       "      <td>10</td>\n",
       "      <td>10</td>\n",
       "      <td>10</td>\n",
       "      <td>10</td>\n",
       "      <td>10</td>\n",
       "      <td>10</td>\n",
       "    </tr>\n",
       "    <tr>\n",
       "      <th>2021Q1</th>\n",
       "      <td>6</td>\n",
       "      <td>6</td>\n",
       "      <td>6</td>\n",
       "      <td>6</td>\n",
       "      <td>6</td>\n",
       "      <td>6</td>\n",
       "      <td>6</td>\n",
       "      <td>6</td>\n",
       "      <td>6</td>\n",
       "      <td>6</td>\n",
       "      <td>6</td>\n",
       "      <td>6</td>\n",
       "      <td>6</td>\n",
       "      <td>6</td>\n",
       "      <td>6</td>\n",
       "      <td>6</td>\n",
       "      <td>6</td>\n",
       "      <td>6</td>\n",
       "    </tr>\n",
       "    <tr>\n",
       "      <th>2021Q2</th>\n",
       "      <td>8</td>\n",
       "      <td>8</td>\n",
       "      <td>8</td>\n",
       "      <td>8</td>\n",
       "      <td>8</td>\n",
       "      <td>8</td>\n",
       "      <td>8</td>\n",
       "      <td>8</td>\n",
       "      <td>8</td>\n",
       "      <td>8</td>\n",
       "      <td>8</td>\n",
       "      <td>8</td>\n",
       "      <td>8</td>\n",
       "      <td>8</td>\n",
       "      <td>8</td>\n",
       "      <td>8</td>\n",
       "      <td>8</td>\n",
       "      <td>8</td>\n",
       "    </tr>\n",
       "    <tr>\n",
       "      <th>2021Q3</th>\n",
       "      <td>3</td>\n",
       "      <td>3</td>\n",
       "      <td>3</td>\n",
       "      <td>3</td>\n",
       "      <td>3</td>\n",
       "      <td>3</td>\n",
       "      <td>3</td>\n",
       "      <td>3</td>\n",
       "      <td>3</td>\n",
       "      <td>3</td>\n",
       "      <td>3</td>\n",
       "      <td>3</td>\n",
       "      <td>3</td>\n",
       "      <td>3</td>\n",
       "      <td>3</td>\n",
       "      <td>3</td>\n",
       "      <td>3</td>\n",
       "      <td>3</td>\n",
       "    </tr>\n",
       "    <tr>\n",
       "      <th>2021Q4</th>\n",
       "      <td>5</td>\n",
       "      <td>5</td>\n",
       "      <td>5</td>\n",
       "      <td>5</td>\n",
       "      <td>5</td>\n",
       "      <td>5</td>\n",
       "      <td>5</td>\n",
       "      <td>5</td>\n",
       "      <td>5</td>\n",
       "      <td>5</td>\n",
       "      <td>5</td>\n",
       "      <td>5</td>\n",
       "      <td>5</td>\n",
       "      <td>5</td>\n",
       "      <td>5</td>\n",
       "      <td>5</td>\n",
       "      <td>5</td>\n",
       "      <td>5</td>\n",
       "    </tr>\n",
       "    <tr>\n",
       "      <th>2022Q1</th>\n",
       "      <td>1</td>\n",
       "      <td>1</td>\n",
       "      <td>1</td>\n",
       "      <td>1</td>\n",
       "      <td>1</td>\n",
       "      <td>1</td>\n",
       "      <td>1</td>\n",
       "      <td>1</td>\n",
       "      <td>1</td>\n",
       "      <td>1</td>\n",
       "      <td>1</td>\n",
       "      <td>1</td>\n",
       "      <td>1</td>\n",
       "      <td>1</td>\n",
       "      <td>1</td>\n",
       "      <td>1</td>\n",
       "      <td>1</td>\n",
       "      <td>1</td>\n",
       "    </tr>\n",
       "  </tbody>\n",
       "</table>\n",
       "</div>"
      ],
      "text/plain": [
       "        id  title  comments  shares  dislikes  likes  lost_subs  gained_subs  \\\n",
       "date                                                                           \n",
       "2018Q4   2      2         2       2         2      2          2            2   \n",
       "2019Q1   7      7         7       7         7      7          7            7   \n",
       "2019Q2   6      6         6       6         6      6          6            6   \n",
       "2019Q3   9      9         9       9         9      9          9            9   \n",
       "2019Q4   9      9         9       9         9      9          9            9   \n",
       "2020Q1  21     21        21      21        21     21         21           21   \n",
       "2020Q2  27     27        27      27        27     27         27           27   \n",
       "2020Q3  29     29        29      29        29     29         29           29   \n",
       "2020Q4  10     10        10      10        10     10         10           10   \n",
       "2021Q1   6      6         6       6         6      6          6            6   \n",
       "2021Q2   8      8         8       8         8      8          8            8   \n",
       "2021Q3   3      3         3       3         3      3          3            3   \n",
       "2021Q4   5      5         5       5         5      5          5            5   \n",
       "2022Q1   1      1         1       1         1      1          1            1   \n",
       "\n",
       "        rpm  cpm  average_view_pct  average_view_time  views  watch_time  \\\n",
       "date                                                                       \n",
       "2018Q4    2    2                 2                  2      2           2   \n",
       "2019Q1    7    7                 7                  7      7           7   \n",
       "2019Q2    6    6                 6                  6      6           6   \n",
       "2019Q3    9    9                 9                  9      9           9   \n",
       "2019Q4    9    9                 9                  9      9           9   \n",
       "2020Q1   21   21                21                 21     21          21   \n",
       "2020Q2   27   26                27                 27     27          27   \n",
       "2020Q3   29   29                29                 29     29          29   \n",
       "2020Q4   10   10                10                 10     10          10   \n",
       "2021Q1    6    6                 6                  6      6           6   \n",
       "2021Q2    8    8                 8                  8      8           8   \n",
       "2021Q3    3    3                 3                  3      3           3   \n",
       "2021Q4    5    5                 5                  5      5           5   \n",
       "2022Q1    1    1                 1                  1      1           1   \n",
       "\n",
       "        subscribers  estimated_revenue  impressions  CTRate  \n",
       "date                                                         \n",
       "2018Q4            2                  2            2       2  \n",
       "2019Q1            7                  7            7       7  \n",
       "2019Q2            6                  6            6       6  \n",
       "2019Q3            9                  9            9       9  \n",
       "2019Q4            9                  9            9       9  \n",
       "2020Q1           21                 21           21      21  \n",
       "2020Q2           27                 27           27      27  \n",
       "2020Q3           29                 29           29      29  \n",
       "2020Q4           10                 10           10      10  \n",
       "2021Q1            6                  6            6       6  \n",
       "2021Q2            8                  8            8       8  \n",
       "2021Q3            3                  3            3       3  \n",
       "2021Q4            5                  5            5       5  \n",
       "2022Q1            1                  1            1       1  "
      ]
     },
     "execution_count": 36,
     "metadata": {},
     "output_type": "execute_result"
    }
   ],
   "source": [
    "DS_vids_copy.count()"
   ]
  },
  {
   "cell_type": "markdown",
   "id": "60c47570",
   "metadata": {},
   "source": [
    "most Data Science videos were released in year 2020"
   ]
  },
  {
   "cell_type": "code",
   "execution_count": 37,
   "id": "bfd15454",
   "metadata": {},
   "outputs": [
    {
     "data": {
      "text/html": [
       "<div>\n",
       "<style scoped>\n",
       "    .dataframe tbody tr th:only-of-type {\n",
       "        vertical-align: middle;\n",
       "    }\n",
       "\n",
       "    .dataframe tbody tr th {\n",
       "        vertical-align: top;\n",
       "    }\n",
       "\n",
       "    .dataframe thead th {\n",
       "        text-align: right;\n",
       "    }\n",
       "</style>\n",
       "<table border=\"1\" class=\"dataframe\">\n",
       "  <thead>\n",
       "    <tr style=\"text-align: right;\">\n",
       "      <th></th>\n",
       "      <th>id</th>\n",
       "      <th>title</th>\n",
       "      <th>date</th>\n",
       "      <th>comments</th>\n",
       "      <th>shares</th>\n",
       "      <th>dislikes</th>\n",
       "      <th>likes</th>\n",
       "      <th>lost_subs</th>\n",
       "      <th>gained_subs</th>\n",
       "      <th>rpm</th>\n",
       "      <th>cpm</th>\n",
       "      <th>average_view_pct</th>\n",
       "      <th>average_view_time</th>\n",
       "      <th>views</th>\n",
       "      <th>watch_time</th>\n",
       "      <th>subscribers</th>\n",
       "      <th>estimated_revenue</th>\n",
       "      <th>impressions</th>\n",
       "      <th>CTRate</th>\n",
       "    </tr>\n",
       "  </thead>\n",
       "  <tbody>\n",
       "    <tr>\n",
       "      <th>213</th>\n",
       "      <td>foggudmDDvY</td>\n",
       "      <td>Data Science in Golf: PGA Merchandise Show 2020</td>\n",
       "      <td>2020-01-31</td>\n",
       "      <td>6</td>\n",
       "      <td>5</td>\n",
       "      <td>0</td>\n",
       "      <td>18</td>\n",
       "      <td>0</td>\n",
       "      <td>2</td>\n",
       "      <td>3.529</td>\n",
       "      <td>12.105</td>\n",
       "      <td>38.65</td>\n",
       "      <td>0:03:31</td>\n",
       "      <td>482</td>\n",
       "      <td>28.3566</td>\n",
       "      <td>2</td>\n",
       "      <td>1.701</td>\n",
       "      <td>41477</td>\n",
       "      <td>0.69</td>\n",
       "    </tr>\n",
       "  </tbody>\n",
       "</table>\n",
       "</div>"
      ],
      "text/plain": [
       "              id                                            title       date  \\\n",
       "213  foggudmDDvY  Data Science in Golf: PGA Merchandise Show 2020 2020-01-31   \n",
       "\n",
       "     comments  shares  dislikes  likes  lost_subs  gained_subs    rpm     cpm  \\\n",
       "213         6       5         0     18          0            2  3.529  12.105   \n",
       "\n",
       "     average_view_pct average_view_time  views  watch_time  subscribers  \\\n",
       "213             38.65           0:03:31    482     28.3566            2   \n",
       "\n",
       "     estimated_revenue  impressions  CTRate  \n",
       "213              1.701        41477    0.69  "
      ]
     },
     "execution_count": 37,
     "metadata": {},
     "output_type": "execute_result"
    }
   ],
   "source": [
    "DS_vids[(DS_vids['date']>('2019-12-31'))  & (DS_vids['date']<('2021-01-01')) & (DS_vids['views']==482)]"
   ]
  },
  {
   "cell_type": "code",
   "execution_count": 38,
   "id": "85d07e31",
   "metadata": {},
   "outputs": [
    {
     "data": {
      "text/html": [
       "<div>\n",
       "<style scoped>\n",
       "    .dataframe tbody tr th:only-of-type {\n",
       "        vertical-align: middle;\n",
       "    }\n",
       "\n",
       "    .dataframe tbody tr th {\n",
       "        vertical-align: top;\n",
       "    }\n",
       "\n",
       "    .dataframe thead th {\n",
       "        text-align: right;\n",
       "    }\n",
       "</style>\n",
       "<table border=\"1\" class=\"dataframe\">\n",
       "  <thead>\n",
       "    <tr style=\"text-align: right;\">\n",
       "      <th></th>\n",
       "      <th>id</th>\n",
       "      <th>title</th>\n",
       "      <th>date</th>\n",
       "      <th>comments</th>\n",
       "      <th>shares</th>\n",
       "      <th>dislikes</th>\n",
       "      <th>likes</th>\n",
       "      <th>lost_subs</th>\n",
       "      <th>gained_subs</th>\n",
       "      <th>rpm</th>\n",
       "      <th>cpm</th>\n",
       "      <th>average_view_pct</th>\n",
       "      <th>average_view_time</th>\n",
       "      <th>views</th>\n",
       "      <th>watch_time</th>\n",
       "      <th>subscribers</th>\n",
       "      <th>estimated_revenue</th>\n",
       "      <th>impressions</th>\n",
       "      <th>CTRate</th>\n",
       "    </tr>\n",
       "  </thead>\n",
       "  <tbody>\n",
       "    <tr>\n",
       "      <th>1</th>\n",
       "      <td>4OZip0cgOho</td>\n",
       "      <td>How I Would Learn Data Science (If I Had to St...</td>\n",
       "      <td>2020-05-08</td>\n",
       "      <td>907</td>\n",
       "      <td>9583</td>\n",
       "      <td>942</td>\n",
       "      <td>46903</td>\n",
       "      <td>451</td>\n",
       "      <td>46904</td>\n",
       "      <td>6.353</td>\n",
       "      <td>12.835</td>\n",
       "      <td>36.65</td>\n",
       "      <td>0:03:09</td>\n",
       "      <td>1253559</td>\n",
       "      <td>65850.7042</td>\n",
       "      <td>46453</td>\n",
       "      <td>7959.533</td>\n",
       "      <td>26498799</td>\n",
       "      <td>3.14</td>\n",
       "    </tr>\n",
       "  </tbody>\n",
       "</table>\n",
       "</div>"
      ],
      "text/plain": [
       "            id                                              title       date  \\\n",
       "1  4OZip0cgOho  How I Would Learn Data Science (If I Had to St... 2020-05-08   \n",
       "\n",
       "   comments  shares  dislikes  likes  lost_subs  gained_subs    rpm     cpm  \\\n",
       "1       907    9583       942  46903        451        46904  6.353  12.835   \n",
       "\n",
       "   average_view_pct average_view_time    views  watch_time  subscribers  \\\n",
       "1             36.65           0:03:09  1253559  65850.7042        46453   \n",
       "\n",
       "   estimated_revenue  impressions  CTRate  \n",
       "1           7959.533     26498799    3.14  "
      ]
     },
     "execution_count": 38,
     "metadata": {},
     "output_type": "execute_result"
    }
   ],
   "source": [
    "DS_vids[(DS_vids['date']>('2019-12-31'))  & (DS_vids['date']<('2021-01-01')) & (DS_vids['views']==1253559)]"
   ]
  },
  {
   "cell_type": "markdown",
   "id": "aeacba4c",
   "metadata": {},
   "source": [
    "What about videos without Data Science?"
   ]
  },
  {
   "cell_type": "code",
   "execution_count": 40,
   "id": "def61ec0",
   "metadata": {},
   "outputs": [
    {
     "data": {
      "text/plain": [
       "73"
      ]
     },
     "execution_count": 40,
     "metadata": {},
     "output_type": "execute_result"
    }
   ],
   "source": [
    "NDS_vids = sub_videos[~sub_videos['title'].str.contains('Data Science')]\n",
    "NDS_vids['title'].count()"
   ]
  },
  {
   "cell_type": "code",
   "execution_count": 41,
   "id": "913cca57",
   "metadata": {},
   "outputs": [
    {
     "data": {
      "text/plain": [
       "13"
      ]
     },
     "execution_count": 41,
     "metadata": {},
     "output_type": "execute_result"
    }
   ],
   "source": [
    "NDS_vids[NDS_vids['views']>=18000]['title'].count()"
   ]
  },
  {
   "cell_type": "code",
   "execution_count": null,
   "id": "fa9a69f9",
   "metadata": {},
   "outputs": [],
   "source": []
  },
  {
   "cell_type": "markdown",
   "id": "d41c8fac",
   "metadata": {
    "papermill": {
     "duration": 0.013916,
     "end_time": "2022-01-28T08:03:57.683592",
     "exception": false,
     "start_time": "2022-01-28T08:03:57.669676",
     "status": "completed"
    },
    "tags": []
   },
   "source": [
    "## Aggregated data \n",
    "**Notes**\n",
    "- Few videos skew number of likes, views, subscribers, etc. (what made these videos stand apart?)\n",
    "- What other variables like view / like ratio can we engineer to evaluate performance "
   ]
  },
  {
   "cell_type": "code",
   "execution_count": 6,
   "id": "00ad46b2",
   "metadata": {
    "execution": {
     "iopub.execute_input": "2022-01-28T08:03:57.715407Z",
     "iopub.status.busy": "2022-01-28T08:03:57.714805Z",
     "iopub.status.idle": "2022-01-28T08:03:57.780348Z",
     "shell.execute_reply": "2022-01-28T08:03:57.779750Z",
     "shell.execute_reply.started": "2022-01-28T07:38:51.823701Z"
    },
    "papermill": {
     "duration": 0.082486,
     "end_time": "2022-01-28T08:03:57.780489",
     "exception": false,
     "start_time": "2022-01-28T08:03:57.698003",
     "status": "completed"
    },
    "tags": []
   },
   "outputs": [
    {
     "data": {
      "text/html": [
       "<div>\n",
       "<style scoped>\n",
       "    .dataframe tbody tr th:only-of-type {\n",
       "        vertical-align: middle;\n",
       "    }\n",
       "\n",
       "    .dataframe tbody tr th {\n",
       "        vertical-align: top;\n",
       "    }\n",
       "\n",
       "    .dataframe thead th {\n",
       "        text-align: right;\n",
       "    }\n",
       "</style>\n",
       "<table border=\"1\" class=\"dataframe\">\n",
       "  <thead>\n",
       "    <tr style=\"text-align: right;\">\n",
       "      <th></th>\n",
       "      <th>Com­ments ad­ded</th>\n",
       "      <th>Shares</th>\n",
       "      <th>Dis­likes</th>\n",
       "      <th>Likes</th>\n",
       "      <th>Sub­scribers lost</th>\n",
       "      <th>Sub­scribers gained</th>\n",
       "      <th>RPM (USD)</th>\n",
       "      <th>CPM (USD)</th>\n",
       "      <th>Av­er­age per­cent­age viewed (%)</th>\n",
       "      <th>Views</th>\n",
       "      <th>Watch time (hours)</th>\n",
       "      <th>Sub­scribers</th>\n",
       "      <th>Your es­tim­ated rev­en­ue (USD)</th>\n",
       "      <th>Im­pres­sions</th>\n",
       "      <th>Im­pres­sions click-through rate (%)</th>\n",
       "    </tr>\n",
       "  </thead>\n",
       "  <tbody>\n",
       "    <tr>\n",
       "      <th>count</th>\n",
       "      <td>224.000000</td>\n",
       "      <td>224.000000</td>\n",
       "      <td>224.000000</td>\n",
       "      <td>224.000000</td>\n",
       "      <td>224.000000</td>\n",
       "      <td>224.000000</td>\n",
       "      <td>224.000000</td>\n",
       "      <td>222.000000</td>\n",
       "      <td>224.000000</td>\n",
       "      <td>2.240000e+02</td>\n",
       "      <td>224.000000</td>\n",
       "      <td>224.000000</td>\n",
       "      <td>224.000000</td>\n",
       "      <td>2.240000e+02</td>\n",
       "      <td>224.000000</td>\n",
       "    </tr>\n",
       "    <tr>\n",
       "      <th>mean</th>\n",
       "      <td>126.750000</td>\n",
       "      <td>353.924107</td>\n",
       "      <td>34.839286</td>\n",
       "      <td>2008.919643</td>\n",
       "      <td>217.620536</td>\n",
       "      <td>1608.084821</td>\n",
       "      <td>4.442040</td>\n",
       "      <td>11.442779</td>\n",
       "      <td>34.087277</td>\n",
       "      <td>4.971645e+04</td>\n",
       "      <td>2835.711522</td>\n",
       "      <td>1390.464286</td>\n",
       "      <td>259.537433</td>\n",
       "      <td>9.013573e+05</td>\n",
       "      <td>3.084152</td>\n",
       "    </tr>\n",
       "    <tr>\n",
       "      <th>std</th>\n",
       "      <td>948.732371</td>\n",
       "      <td>2736.321694</td>\n",
       "      <td>268.668317</td>\n",
       "      <td>15387.274015</td>\n",
       "      <td>3058.766918</td>\n",
       "      <td>15628.834115</td>\n",
       "      <td>1.789148</td>\n",
       "      <td>3.334781</td>\n",
       "      <td>15.118746</td>\n",
       "      <td>3.810302e+05</td>\n",
       "      <td>21662.566897</td>\n",
       "      <td>12647.246927</td>\n",
       "      <td>2011.119492</td>\n",
       "      <td>6.967916e+06</td>\n",
       "      <td>1.670448</td>\n",
       "    </tr>\n",
       "    <tr>\n",
       "      <th>min</th>\n",
       "      <td>0.000000</td>\n",
       "      <td>0.000000</td>\n",
       "      <td>0.000000</td>\n",
       "      <td>1.000000</td>\n",
       "      <td>0.000000</td>\n",
       "      <td>0.000000</td>\n",
       "      <td>0.000000</td>\n",
       "      <td>5.439000</td>\n",
       "      <td>5.230000</td>\n",
       "      <td>6.000000e+01</td>\n",
       "      <td>1.068400</td>\n",
       "      <td>-21.000000</td>\n",
       "      <td>0.000000</td>\n",
       "      <td>3.650000e+02</td>\n",
       "      <td>0.490000</td>\n",
       "    </tr>\n",
       "    <tr>\n",
       "      <th>25%</th>\n",
       "      <td>18.000000</td>\n",
       "      <td>19.000000</td>\n",
       "      <td>1.000000</td>\n",
       "      <td>163.500000</td>\n",
       "      <td>2.000000</td>\n",
       "      <td>27.000000</td>\n",
       "      <td>3.220750</td>\n",
       "      <td>9.379500</td>\n",
       "      <td>23.602500</td>\n",
       "      <td>3.940000e+03</td>\n",
       "      <td>177.037125</td>\n",
       "      <td>19.750000</td>\n",
       "      <td>12.208250</td>\n",
       "      <td>9.947100e+04</td>\n",
       "      <td>1.925000</td>\n",
       "    </tr>\n",
       "    <tr>\n",
       "      <th>50%</th>\n",
       "      <td>37.000000</td>\n",
       "      <td>46.500000</td>\n",
       "      <td>4.000000</td>\n",
       "      <td>342.500000</td>\n",
       "      <td>7.000000</td>\n",
       "      <td>70.000000</td>\n",
       "      <td>4.334500</td>\n",
       "      <td>11.169500</td>\n",
       "      <td>35.120000</td>\n",
       "      <td>8.347500e+03</td>\n",
       "      <td>397.852200</td>\n",
       "      <td>62.500000</td>\n",
       "      <td>32.595500</td>\n",
       "      <td>1.541925e+05</td>\n",
       "      <td>2.895000</td>\n",
       "    </tr>\n",
       "    <tr>\n",
       "      <th>75%</th>\n",
       "      <td>66.250000</td>\n",
       "      <td>114.250000</td>\n",
       "      <td>11.000000</td>\n",
       "      <td>716.000000</td>\n",
       "      <td>14.000000</td>\n",
       "      <td>245.500000</td>\n",
       "      <td>5.372250</td>\n",
       "      <td>12.901000</td>\n",
       "      <td>43.462500</td>\n",
       "      <td>1.836875e+04</td>\n",
       "      <td>1145.621400</td>\n",
       "      <td>230.500000</td>\n",
       "      <td>96.814750</td>\n",
       "      <td>2.894885e+05</td>\n",
       "      <td>3.975000</td>\n",
       "    </tr>\n",
       "    <tr>\n",
       "      <th>max</th>\n",
       "      <td>14197.000000</td>\n",
       "      <td>39640.000000</td>\n",
       "      <td>3902.000000</td>\n",
       "      <td>225021.000000</td>\n",
       "      <td>45790.000000</td>\n",
       "      <td>229241.000000</td>\n",
       "      <td>10.387000</td>\n",
       "      <td>37.786000</td>\n",
       "      <td>76.600000</td>\n",
       "      <td>5.568487e+06</td>\n",
       "      <td>317602.353600</td>\n",
       "      <td>183451.000000</td>\n",
       "      <td>29068.652000</td>\n",
       "      <td>1.009541e+08</td>\n",
       "      <td>11.510000</td>\n",
       "    </tr>\n",
       "  </tbody>\n",
       "</table>\n",
       "</div>"
      ],
      "text/plain": [
       "       Com­ments ad­ded        Shares    Dis­likes          Likes  \\\n",
       "count        224.000000    224.000000   224.000000     224.000000   \n",
       "mean         126.750000    353.924107    34.839286    2008.919643   \n",
       "std          948.732371   2736.321694   268.668317   15387.274015   \n",
       "min            0.000000      0.000000     0.000000       1.000000   \n",
       "25%           18.000000     19.000000     1.000000     163.500000   \n",
       "50%           37.000000     46.500000     4.000000     342.500000   \n",
       "75%           66.250000    114.250000    11.000000     716.000000   \n",
       "max        14197.000000  39640.000000  3902.000000  225021.000000   \n",
       "\n",
       "       Sub­scribers lost  Sub­scribers gained   RPM (USD)   CPM (USD)  \\\n",
       "count         224.000000           224.000000  224.000000  222.000000   \n",
       "mean          217.620536          1608.084821    4.442040   11.442779   \n",
       "std          3058.766918         15628.834115    1.789148    3.334781   \n",
       "min             0.000000             0.000000    0.000000    5.439000   \n",
       "25%             2.000000            27.000000    3.220750    9.379500   \n",
       "50%             7.000000            70.000000    4.334500   11.169500   \n",
       "75%            14.000000           245.500000    5.372250   12.901000   \n",
       "max         45790.000000        229241.000000   10.387000   37.786000   \n",
       "\n",
       "       Av­er­age per­cent­age viewed (%)         Views  Watch time (hours)  \\\n",
       "count                         224.000000  2.240000e+02          224.000000   \n",
       "mean                           34.087277  4.971645e+04         2835.711522   \n",
       "std                            15.118746  3.810302e+05        21662.566897   \n",
       "min                             5.230000  6.000000e+01            1.068400   \n",
       "25%                            23.602500  3.940000e+03          177.037125   \n",
       "50%                            35.120000  8.347500e+03          397.852200   \n",
       "75%                            43.462500  1.836875e+04         1145.621400   \n",
       "max                            76.600000  5.568487e+06       317602.353600   \n",
       "\n",
       "        Sub­scribers  Your es­tim­ated rev­en­ue (USD)  Im­pres­sions  \\\n",
       "count     224.000000                        224.000000   2.240000e+02   \n",
       "mean     1390.464286                        259.537433   9.013573e+05   \n",
       "std     12647.246927                       2011.119492   6.967916e+06   \n",
       "min       -21.000000                          0.000000   3.650000e+02   \n",
       "25%        19.750000                         12.208250   9.947100e+04   \n",
       "50%        62.500000                         32.595500   1.541925e+05   \n",
       "75%       230.500000                         96.814750   2.894885e+05   \n",
       "max    183451.000000                      29068.652000   1.009541e+08   \n",
       "\n",
       "       Im­pres­sions click-through rate (%)  \n",
       "count                            224.000000  \n",
       "mean                               3.084152  \n",
       "std                                1.670448  \n",
       "min                                0.490000  \n",
       "25%                                1.925000  \n",
       "50%                                2.895000  \n",
       "75%                                3.975000  \n",
       "max                               11.510000  "
      ]
     },
     "execution_count": 6,
     "metadata": {},
     "output_type": "execute_result"
    }
   ],
   "source": [
    "df_agg.describe()"
   ]
  },
  {
   "cell_type": "code",
   "execution_count": 7,
   "id": "c00b77c9",
   "metadata": {
    "execution": {
     "iopub.execute_input": "2022-01-28T08:03:57.813613Z",
     "iopub.status.busy": "2022-01-28T08:03:57.812697Z",
     "iopub.status.idle": "2022-01-28T08:03:58.354710Z",
     "shell.execute_reply": "2022-01-28T08:03:58.355391Z",
     "shell.execute_reply.started": "2022-01-28T07:41:04.720694Z"
    },
    "papermill": {
     "duration": 0.560157,
     "end_time": "2022-01-28T08:03:58.355552",
     "exception": false,
     "start_time": "2022-01-28T08:03:57.795395",
     "status": "completed"
    },
    "tags": []
   },
   "outputs": [
    {
     "data": {
      "text/plain": [
       "<AxesSubplot:>"
      ]
     },
     "execution_count": 7,
     "metadata": {},
     "output_type": "execute_result"
    },
    {
     "data": {
      "image/png": "[encoded data removed]",
      "text/plain": [
       "<Figure size 432x288 with 1 Axes>"
      ]
     },
     "metadata": {
      "needs_background": "light"
     },
     "output_type": "display_data"
    }
   ],
   "source": [
    "#likes distribution\n",
    "df_agg.Likes.hist(bins = 100)"
   ]
  },
  {
   "cell_type": "code",
   "execution_count": 10,
   "id": "2cf85693",
   "metadata": {
    "execution": {
     "iopub.execute_input": "2022-01-28T08:03:58.390970Z",
     "iopub.status.busy": "2022-01-28T08:03:58.389443Z",
     "iopub.status.idle": "2022-01-28T08:03:58.615573Z",
     "shell.execute_reply": "2022-01-28T08:03:58.616196Z",
     "shell.execute_reply.started": "2022-01-28T07:42:15.731307Z"
    },
    "papermill": {
     "duration": 0.245207,
     "end_time": "2022-01-28T08:03:58.616366",
     "exception": false,
     "start_time": "2022-01-28T08:03:58.371159",
     "status": "completed"
    },
    "tags": []
   },
   "outputs": [
    {
     "data": {
      "text/plain": [
       "<AxesSubplot:>"
      ]
     },
     "execution_count": 10,
     "metadata": {},
     "output_type": "execute_result"
    },
    {
     "data": {
      "image/png": "[encoded data removed]",
      "text/plain": [
       "<Figure size 432x288 with 1 Axes>"
      ]
     },
     "metadata": {
      "needs_background": "light"
     },
     "output_type": "display_data"
    }
   ],
   "source": [
    "df_agg['Im­pres­sions click-through rate (%)'].hist()"
   ]
  },
  {
   "cell_type": "code",
   "execution_count": 11,
   "id": "4b0e30f7",
   "metadata": {
    "execution": {
     "iopub.execute_input": "2022-01-28T08:03:58.652546Z",
     "iopub.status.busy": "2022-01-28T08:03:58.651935Z",
     "iopub.status.idle": "2022-01-28T08:03:58.878440Z",
     "shell.execute_reply": "2022-01-28T08:03:58.878933Z",
     "shell.execute_reply.started": "2022-01-28T07:45:46.865476Z"
    },
    "papermill": {
     "duration": 0.245881,
     "end_time": "2022-01-28T08:03:58.879099",
     "exception": false,
     "start_time": "2022-01-28T08:03:58.633218",
     "status": "completed"
    },
    "tags": []
   },
   "outputs": [
    {
     "name": "stdout",
     "output_type": "stream",
     "text": [
      "     view_like_ratio                                        Video title\n",
      "138        67.036437  Predicting Crypto-Currency Price Using RNN lST...\n",
      "75         66.985507          Should You Get A Masters in Data Science?\n",
      "151        61.850575  Reviewing Your Data Science Projects - Episode...\n",
      "223        60.000000                     ProjectDemoCSC478_UFCFightData\n",
      "21         53.008940  Scrape Twitter Data in Python with Twitterscra...\n",
      "..               ...                                                ...\n",
      "195        12.813953     Can You Learn Data Science Without a Computer?\n",
      "220        12.454545  Most Data Science Hopefuls Overlook This Impor...\n",
      "58         11.276620                 The 5 Pillars of Success I Live By\n",
      "76         10.857143  The YouTube Algorithm EXPLAINED! (Tips from a ...\n",
      "79          8.807229  The Secret Data Scientists Don't Want You to Know\n",
      "\n",
      "[224 rows x 2 columns]\n"
     ]
    },
    {
     "data": {
      "text/plain": [
       "<AxesSubplot:>"
      ]
     },
     "execution_count": 11,
     "metadata": {},
     "output_type": "execute_result"
    },
    {
     "data": {
      "image/png": "[encoded data removed]",
      "text/plain": [
       "<Figure size 432x288 with 1 Axes>"
      ]
     },
     "metadata": {
      "needs_background": "light"
     },
     "output_type": "display_data"
    }
   ],
   "source": [
    "#basic feature engieering example\n",
    "df_agg['view_like_ratio'] = df_agg.Views / df_agg.Likes\n",
    "print(df_agg[['view_like_ratio','Video title']].sort_values('view_like_ratio',ascending=False))\n",
    "df_agg.view_like_ratio.hist()"
   ]
  },
  {
   "cell_type": "markdown",
   "id": "402ff7a1",
   "metadata": {
    "papermill": {
     "duration": 0.017901,
     "end_time": "2022-01-28T08:03:58.915568",
     "exception": false,
     "start_time": "2022-01-28T08:03:58.897667",
     "status": "completed"
    },
    "tags": []
   },
   "source": [
    "## Aggregated data by country & subscriber"
   ]
  },
  {
   "cell_type": "code",
   "execution_count": 12,
   "id": "a47dec99",
   "metadata": {
    "execution": {
     "iopub.execute_input": "2022-01-28T08:03:58.954664Z",
     "iopub.status.busy": "2022-01-28T08:03:58.954029Z",
     "iopub.status.idle": "2022-01-28T08:03:58.982350Z",
     "shell.execute_reply": "2022-01-28T08:03:58.982930Z",
     "shell.execute_reply.started": "2022-01-28T07:48:08.993973Z"
    },
    "papermill": {
     "duration": 0.049453,
     "end_time": "2022-01-28T08:03:58.983105",
     "exception": false,
     "start_time": "2022-01-28T08:03:58.933652",
     "status": "completed"
    },
    "tags": []
   },
   "outputs": [
    {
     "data": {
      "text/html": [
       "<div>\n",
       "<style scoped>\n",
       "    .dataframe tbody tr th:only-of-type {\n",
       "        vertical-align: middle;\n",
       "    }\n",
       "\n",
       "    .dataframe tbody tr th {\n",
       "        vertical-align: top;\n",
       "    }\n",
       "\n",
       "    .dataframe thead th {\n",
       "        text-align: right;\n",
       "    }\n",
       "</style>\n",
       "<table border=\"1\" class=\"dataframe\">\n",
       "  <thead>\n",
       "    <tr style=\"text-align: right;\">\n",
       "      <th></th>\n",
       "      <th>Views</th>\n",
       "    </tr>\n",
       "    <tr>\n",
       "      <th>Country Code</th>\n",
       "      <th></th>\n",
       "    </tr>\n",
       "  </thead>\n",
       "  <tbody>\n",
       "    <tr>\n",
       "      <th>US</th>\n",
       "      <td>3043.707865</td>\n",
       "    </tr>\n",
       "    <tr>\n",
       "      <th>IN</th>\n",
       "      <td>2596.651685</td>\n",
       "    </tr>\n",
       "    <tr>\n",
       "      <th>GB</th>\n",
       "      <td>537.476404</td>\n",
       "    </tr>\n",
       "    <tr>\n",
       "      <th>CA</th>\n",
       "      <td>500.840090</td>\n",
       "    </tr>\n",
       "    <tr>\n",
       "      <th>DE</th>\n",
       "      <td>386.887640</td>\n",
       "    </tr>\n",
       "    <tr>\n",
       "      <th>...</th>\n",
       "      <td>...</td>\n",
       "    </tr>\n",
       "    <tr>\n",
       "      <th>BL</th>\n",
       "      <td>1.000000</td>\n",
       "    </tr>\n",
       "    <tr>\n",
       "      <th>PM</th>\n",
       "      <td>1.000000</td>\n",
       "    </tr>\n",
       "    <tr>\n",
       "      <th>ST</th>\n",
       "      <td>0.833333</td>\n",
       "    </tr>\n",
       "    <tr>\n",
       "      <th>MS</th>\n",
       "      <td>0.600000</td>\n",
       "    </tr>\n",
       "    <tr>\n",
       "      <th>XK</th>\n",
       "      <td>0.000000</td>\n",
       "    </tr>\n",
       "  </tbody>\n",
       "</table>\n",
       "<p>233 rows × 1 columns</p>\n",
       "</div>"
      ],
      "text/plain": [
       "                    Views\n",
       "Country Code             \n",
       "US            3043.707865\n",
       "IN            2596.651685\n",
       "GB             537.476404\n",
       "CA             500.840090\n",
       "DE             386.887640\n",
       "...                   ...\n",
       "BL               1.000000\n",
       "PM               1.000000\n",
       "ST               0.833333\n",
       "MS               0.600000\n",
       "XK               0.000000\n",
       "\n",
       "[233 rows x 1 columns]"
      ]
     },
     "execution_count": 12,
     "metadata": {},
     "output_type": "execute_result"
    }
   ],
   "source": [
    "#views by country \n",
    "#looks like these numbers are daily averages, still useful?\n",
    "pd.pivot_table(df_agg_sub, index = 'Country Code', values = 'Views').sort_values('Views',ascending = False)"
   ]
  },
  {
   "cell_type": "code",
   "execution_count": 13,
   "id": "db8c053e",
   "metadata": {
    "execution": {
     "iopub.execute_input": "2022-01-28T08:03:59.023546Z",
     "iopub.status.busy": "2022-01-28T08:03:59.022635Z",
     "iopub.status.idle": "2022-01-28T08:03:59.039584Z",
     "shell.execute_reply": "2022-01-28T08:03:59.040162Z",
     "shell.execute_reply.started": "2022-01-28T07:49:20.715996Z"
    },
    "papermill": {
     "duration": 0.039017,
     "end_time": "2022-01-28T08:03:59.040332",
     "exception": false,
     "start_time": "2022-01-28T08:03:59.001315",
     "status": "completed"
    },
    "tags": []
   },
   "outputs": [
    {
     "data": {
      "text/html": [
       "<div>\n",
       "<style scoped>\n",
       "    .dataframe tbody tr th:only-of-type {\n",
       "        vertical-align: middle;\n",
       "    }\n",
       "\n",
       "    .dataframe tbody tr th {\n",
       "        vertical-align: top;\n",
       "    }\n",
       "\n",
       "    .dataframe thead th {\n",
       "        text-align: right;\n",
       "    }\n",
       "</style>\n",
       "<table border=\"1\" class=\"dataframe\">\n",
       "  <thead>\n",
       "    <tr style=\"text-align: right;\">\n",
       "      <th></th>\n",
       "      <th>Views</th>\n",
       "    </tr>\n",
       "    <tr>\n",
       "      <th>Is Subscribed</th>\n",
       "      <th></th>\n",
       "    </tr>\n",
       "  </thead>\n",
       "  <tbody>\n",
       "    <tr>\n",
       "      <th>False</th>\n",
       "      <td>139.773296</td>\n",
       "    </tr>\n",
       "    <tr>\n",
       "      <th>True</th>\n",
       "      <td>58.607400</td>\n",
       "    </tr>\n",
       "  </tbody>\n",
       "</table>\n",
       "</div>"
      ],
      "text/plain": [
       "                    Views\n",
       "Is Subscribed            \n",
       "False          139.773296\n",
       "True            58.607400"
      ]
     },
     "execution_count": 13,
     "metadata": {},
     "output_type": "execute_result"
    }
   ],
   "source": [
    "#subscribed to not subscribed values \n",
    "pd.pivot_table(df_agg_sub, index = 'Is Subscribed', values = 'Views').sort_values('Views',ascending = False)"
   ]
  },
  {
   "cell_type": "markdown",
   "id": "152179f3",
   "metadata": {
    "papermill": {
     "duration": 0.018639,
     "end_time": "2022-01-28T08:03:59.078472",
     "exception": false,
     "start_time": "2022-01-28T08:03:59.059833",
     "status": "completed"
    },
    "tags": []
   },
   "source": [
    "## Time Series Data"
   ]
  },
  {
   "cell_type": "code",
   "execution_count": 14,
   "id": "0d3c664a",
   "metadata": {
    "execution": {
     "iopub.execute_input": "2022-01-28T08:03:59.119350Z",
     "iopub.status.busy": "2022-01-28T08:03:59.118457Z",
     "iopub.status.idle": "2022-01-28T08:03:59.581178Z",
     "shell.execute_reply": "2022-01-28T08:03:59.580668Z",
     "shell.execute_reply.started": "2022-01-28T07:54:44.300322Z"
    },
    "papermill": {
     "duration": 0.484144,
     "end_time": "2022-01-28T08:03:59.581325",
     "exception": false,
     "start_time": "2022-01-28T08:03:59.097181",
     "status": "completed"
    },
    "tags": []
   },
   "outputs": [
    {
     "data": {
      "text/plain": [
       "[<matplotlib.lines.Line2D at 0x7efbbfaa03d0>]"
      ]
     },
     "execution_count": 14,
     "metadata": {},
     "output_type": "execute_result"
    },
    {
     "data": {
      "image/png": "[encoded data removed]",
      "text/plain": [
       "<Figure size 432x288 with 1 Axes>"
      ]
     },
     "metadata": {
      "needs_background": "light"
     },
     "output_type": "display_data"
    }
   ],
   "source": [
    "#converting to date time \n",
    "df_ts['Date'] = pd.to_datetime(df_ts['Date'])\n",
    "#getting views per day \n",
    "views_per_day = pd.pivot_table(df_ts.loc[:,['Views','Date']],index = 'Date', values = 'Views', aggfunc = 'sum').reset_index()\n",
    "# graphing views per day\n",
    "plt.plot(views_per_day.Date,views_per_day.Views)"
   ]
  },
  {
   "cell_type": "markdown",
   "id": "62abd0e5",
   "metadata": {
    "papermill": {
     "duration": 0.019587,
     "end_time": "2022-01-28T08:03:59.621026",
     "exception": false,
     "start_time": "2022-01-28T08:03:59.601439",
     "status": "completed"
    },
    "tags": []
   },
   "source": [
    "## Comment Data"
   ]
  },
  {
   "cell_type": "code",
   "execution_count": 15,
   "id": "558cb6c0",
   "metadata": {
    "execution": {
     "iopub.execute_input": "2022-01-28T08:03:59.669958Z",
     "iopub.status.busy": "2022-01-28T08:03:59.667200Z",
     "iopub.status.idle": "2022-01-28T08:03:59.683604Z",
     "shell.execute_reply": "2022-01-28T08:03:59.684271Z",
     "shell.execute_reply.started": "2022-01-28T07:57:34.184844Z"
    },
    "papermill": {
     "duration": 0.043564,
     "end_time": "2022-01-28T08:03:59.684443",
     "exception": false,
     "start_time": "2022-01-28T08:03:59.640879",
     "status": "completed"
    },
    "tags": []
   },
   "outputs": [
    {
     "data": {
      "text/html": [
       "<div>\n",
       "<style scoped>\n",
       "    .dataframe tbody tr th:only-of-type {\n",
       "        vertical-align: middle;\n",
       "    }\n",
       "\n",
       "    .dataframe tbody tr th {\n",
       "        vertical-align: top;\n",
       "    }\n",
       "\n",
       "    .dataframe thead th {\n",
       "        text-align: right;\n",
       "    }\n",
       "</style>\n",
       "<table border=\"1\" class=\"dataframe\">\n",
       "  <thead>\n",
       "    <tr style=\"text-align: right;\">\n",
       "      <th></th>\n",
       "      <th>Comment_ID</th>\n",
       "    </tr>\n",
       "    <tr>\n",
       "      <th>VidId</th>\n",
       "      <th></th>\n",
       "    </tr>\n",
       "  </thead>\n",
       "  <tbody>\n",
       "    <tr>\n",
       "      <th>4OZip0cgOho</th>\n",
       "      <td>797</td>\n",
       "    </tr>\n",
       "    <tr>\n",
       "      <th>Ip50cXvpWY4</th>\n",
       "      <td>262</td>\n",
       "    </tr>\n",
       "    <tr>\n",
       "      <th>Q9FjwzKFPuM</th>\n",
       "      <td>224</td>\n",
       "    </tr>\n",
       "    <tr>\n",
       "      <th>41Clrh6nv1s</th>\n",
       "      <td>219</td>\n",
       "    </tr>\n",
       "    <tr>\n",
       "      <th>8igH8qZafpo</th>\n",
       "      <td>205</td>\n",
       "    </tr>\n",
       "    <tr>\n",
       "      <th>...</th>\n",
       "      <td>...</td>\n",
       "    </tr>\n",
       "    <tr>\n",
       "      <th>k-gin1qfzi0</th>\n",
       "      <td>3</td>\n",
       "    </tr>\n",
       "    <tr>\n",
       "      <th>j-Z-je6K4Yg</th>\n",
       "      <td>3</td>\n",
       "    </tr>\n",
       "    <tr>\n",
       "      <th>Yr5T3T4tq-g</th>\n",
       "      <td>3</td>\n",
       "    </tr>\n",
       "    <tr>\n",
       "      <th>qUK5Vk4NvBw</th>\n",
       "      <td>2</td>\n",
       "    </tr>\n",
       "    <tr>\n",
       "      <th>5jntoZX-Tc8</th>\n",
       "      <td>2</td>\n",
       "    </tr>\n",
       "  </tbody>\n",
       "</table>\n",
       "<p>222 rows × 1 columns</p>\n",
       "</div>"
      ],
      "text/plain": [
       "             Comment_ID\n",
       "VidId                  \n",
       "4OZip0cgOho         797\n",
       "Ip50cXvpWY4         262\n",
       "Q9FjwzKFPuM         224\n",
       "41Clrh6nv1s         219\n",
       "8igH8qZafpo         205\n",
       "...                 ...\n",
       "k-gin1qfzi0           3\n",
       "j-Z-je6K4Yg           3\n",
       "Yr5T3T4tq-g           3\n",
       "qUK5Vk4NvBw           2\n",
       "5jntoZX-Tc8           2\n",
       "\n",
       "[222 rows x 1 columns]"
      ]
     },
     "execution_count": 15,
     "metadata": {},
     "output_type": "execute_result"
    }
   ],
   "source": [
    "#top commented videos\n",
    "pd.pivot_table(df_comments, index = 'VidId', values = 'Comment_ID', aggfunc = 'count').sort_values('Comment_ID', ascending = False)\n",
    "\n",
    "#could you join this back to the other dataset? "
   ]
  },
  {
   "cell_type": "markdown",
   "id": "f76ec6ff",
   "metadata": {
    "papermill": {
     "duration": 0.021196,
     "end_time": "2022-01-28T08:03:59.727971",
     "exception": false,
     "start_time": "2022-01-28T08:03:59.706775",
     "status": "completed"
    },
    "tags": []
   },
   "source": [
    "## Your Turn! \n",
    "### I started you off with the bare minimum, it's your turn to add your insights to the analysis. Excited to see what you come up with!!\n",
    "I'm constantly thinking about questions like:\n",
    "- What topics get the most viewership?\n",
    "- What do are people asking for in the comments?\n",
    "- What impacts watch time and click through rate?\n",
    "- Can we predict if a title will be clickable? \n",
    "- What thumbnails are most appealing (thumbnail data available in df_agg)\n",
    "- What is different about my \"viral\" videos and normal videos\n",
    "- Who is the core audience of my channel?\n",
    "\n",
    "### Some cool projects that could be done\n",
    "- Chatbot to answer common questions \n",
    "- Thumbnail feature extraction (taking characteristics from the thumbnails and analyzing if those predict ctr) - Could use something like cloudvision to extract features: https://cloud.google.com/vision/docs/drag-and-drop "
   ]
  }
 ],
 "metadata": {
  "kernelspec": {
   "display_name": "Python 3",
   "language": "python",
   "name": "python3"
  },
  "language_info": {
   "codemirror_mode": {
    "name": "ipython",
    "version": 3
   },
   "file_extension": ".py",
   "mimetype": "text/x-python",
   "name": "python",
   "nbconvert_exporter": "python",
   "pygments_lexer": "ipython3",
   "version": "3.9.7"
  },
  "papermill": {
   "default_parameters": {},
   "duration": 13.167927,
   "end_time": "2022-01-28T08:04:00.357433",
   "environment_variables": {},
   "exception": null,
   "input_path": "__notebook__.ipynb",
   "output_path": "__notebook__.ipynb",
   "parameters": {},
   "start_time": "2022-01-28T08:03:47.189506",
   "version": "2.3.3"
  }
 },
 "nbformat": 4,
 "nbformat_minor": 5
}
