{
  "cells": [
    {
      "cell_type": "code",
      "execution_count": 2,
      "metadata": {},
      "outputs": [
        {
          "name": "stderr",
          "output_type": "stream",
          "text": [
            "/home/irfan/.local/share/virtualenvs/ds_code-Sb-xMZMk/lib/python3.9/site-packages/pandas/compat/__init__.py:124: UserWarning: Could not import the lzma module. Your installed Python is incomplete. Attempting to use lzma compression will result in a RuntimeError.\n",
            "  warnings.warn(msg)\n"
          ]
        }
      ],
      "source": [
        "from PIL import Image\n",
        "from pytesseract import pytesseract"
      ]
    },
    {
      "cell_type": "code",
      "execution_count": 56,
      "metadata": {},
      "outputs": [
        {
          "name": "stdout",
          "output_type": "stream",
          "text": [
            "SHE’S\n",
            "SHAPING THE\n",
            "FUTURE OF ©)\n",
            "\n",
            "ee\n",
            "\n",
            " \n",
            "  \n",
            " \n",
            "\n"
          ]
        }
      ],
      "source": [
        "\n",
        "img = Image.open('image.jpg')\n",
        "\n",
        "text = pytesseract.image_to_string(img)\n",
        "  \n",
        "print(text[:-1])"
      ]
    },
    {
      "cell_type": "code",
      "execution_count": 17,
      "metadata": {},
      "outputs": [
        {
          "name": "stdout",
          "output_type": "stream",
          "text": [
            "[[ 327  889   87   87]\n",
            " [ 429  902   90   90]\n",
            " [1891  944   83   83]\n",
            " [1425  953   80   80]]\n",
            "[INFO] Image faces_detected.jpg written to filesystem:  True\n"
          ]
        }
      ],
      "source": [
        "import cv2\n",
        "import sys\n",
        "\n",
        "imagePath = sys.argv[1]\n",
        "\n",
        "image = cv2.imread('22.jpg')\n",
        "gray = cv2.cvtColor(image, cv2.COLOR_BGR2GRAY)\n",
        "\n",
        "faceCascade = cv2.CascadeClassifier(cv2.data.haarcascades + \"haarcascade_frontalface_alt.xml\")\n",
        "faces = faceCascade.detectMultiScale(\n",
        "    gray,\n",
        "    scaleFactor=1.3,\n",
        "    minNeighbors=3,\n",
        "    minSize=(30, 30)\n",
        ")\n",
        "print(format(faces))\n",
        "\n",
        "\n",
        "for (x, y, w, h) in faces:\n",
        "    cv2.rectangle(image, (x, y), (x + w, y + h), (0, 255, 0), 2)\n",
        "\n",
        "status = cv2.imwrite('faces_detected.jpg', image)\n",
        "print(\"[INFO] Image faces_detected.jpg written to filesystem: \", status)\n"
      ]
    },
    {
      "cell_type": "code",
      "execution_count": 62,
      "metadata": {},
      "outputs": [],
      "source": [
        "import sys\n",
        "\n",
        "import dlib\n",
        "\n",
        "detector = dlib.get_frontal_face_detector()\n",
        "\n",
        "def detect(f='image.jpg'):\n",
        "    img = dlib.load_rgb_image(f)\n",
        "    dets = detector(img, 1)\n",
        "    img = cv2.imread(f)\n",
        "    for d in dets:\n",
        "        cv2.rectangle(img, (d.left(), d.top()), (d.right(), d.bottom()), (0, 255, 0))\n",
        "\n",
        "    status = cv2.imwrite('faces_detected.jpg', img)\n",
        "\n"
      ]
    },
    {
      "cell_type": "code",
      "execution_count": 63,
      "metadata": {},
      "outputs": [],
      "source": [
        "detect()"
      ]
    }
  ],
  "metadata": {
    "kernelspec": {
      "display_name": "Python 3",
      "language": "python",
      "name": "python3"
    },
    "language_info": {
      "codemirror_mode": {
        "name": "ipython",
        "version": 3
      },
      "file_extension": ".py",
      "mimetype": "text/x-python",
      "name": "python",
      "nbconvert_exporter": "python",
      "pygments_lexer": "ipython3",
      "version": "3.9.7"
    }
  },
  "nbformat": 4,
  "nbformat_minor": 0
}
